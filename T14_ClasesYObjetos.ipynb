{
 "cells": [
  {
   "cell_type": "markdown",
   "metadata": {},
   "source": [
    "# Python 3: Programación Orientada a Objetos\n",
    "\n",
    "Autor: Luis M. de la Cruz, IGF-UNAM, octubre de 2019.\n"
   ]
  },
  {
   "cell_type": "markdown",
   "metadata": {},
   "source": [
    "# 1. <font color=blue> Introducción </font>\n",
    "\n",
    "- En Python todo lo que se declara es un objeto.\n",
    "- El lenguaje tiene definidos objetos en su bibloteca estándar.\n",
    "- Los mayoría de las bibliotecas que componen el ecosistema de Python también definen objetos.\n",
    "\n",
    "#### Algunos ejemplos:"
   ]
  },
  {
   "cell_type": "code",
   "execution_count": 1,
   "metadata": {},
   "outputs": [
    {
     "data": {
      "text/plain": [
       "int"
      ]
     },
     "execution_count": 1,
     "metadata": {},
     "output_type": "execute_result"
    }
   ],
   "source": [
    "x = 25\n",
    "type(x)"
   ]
  },
  {
   "cell_type": "code",
   "execution_count": 2,
   "metadata": {},
   "outputs": [
    {
     "name": "stdout",
     "output_type": "stream",
     "text": [
      "<class 'int'>\n"
     ]
    }
   ],
   "source": [
    "print(type(x))"
   ]
  },
  {
   "cell_type": "code",
   "execution_count": 3,
   "metadata": {},
   "outputs": [],
   "source": [
    "lista = ['a','b','c']"
   ]
  },
  {
   "cell_type": "code",
   "execution_count": 4,
   "metadata": {},
   "outputs": [
    {
     "name": "stdout",
     "output_type": "stream",
     "text": [
      "<class 'list'>\n"
     ]
    }
   ],
   "source": [
    "print(type(lista))"
   ]
  },
  {
   "cell_type": "code",
   "execution_count": 5,
   "metadata": {},
   "outputs": [],
   "source": [
    "import time\n",
    "clock = time.time()"
   ]
  },
  {
   "cell_type": "code",
   "execution_count": 6,
   "metadata": {},
   "outputs": [
    {
     "name": "stdout",
     "output_type": "stream",
     "text": [
      "<class 'float'>\n"
     ]
    }
   ],
   "source": [
    "print(type(clock))"
   ]
  },
  {
   "cell_type": "code",
   "execution_count": 7,
   "metadata": {},
   "outputs": [
    {
     "data": {
      "text/plain": [
       "array([0., 0., 0., 0., 0.])"
      ]
     },
     "execution_count": 7,
     "metadata": {},
     "output_type": "execute_result"
    }
   ],
   "source": [
    "import numpy as np\n",
    "y = np.zeros(5)\n",
    "y"
   ]
  },
  {
   "cell_type": "code",
   "execution_count": 8,
   "metadata": {},
   "outputs": [
    {
     "name": "stdout",
     "output_type": "stream",
     "text": [
      "<class 'numpy.ndarray'>\n"
     ]
    }
   ],
   "source": [
    "print(type(y))"
   ]
  },
  {
   "cell_type": "code",
   "execution_count": 9,
   "metadata": {},
   "outputs": [
    {
     "name": "stdout",
     "output_type": "stream",
     "text": [
      "<class 'function'>\n"
     ]
    }
   ],
   "source": [
    "def funcion():\n",
    "    pass\n",
    "\n",
    "print(type(funcion))"
   ]
  },
  {
   "cell_type": "markdown",
   "metadata": {},
   "source": [
    "#### Los objetos tienen atributos y métodos"
   ]
  },
  {
   "cell_type": "code",
   "execution_count": null,
   "metadata": {},
   "outputs": [],
   "source": [
    "y"
   ]
  },
  {
   "cell_type": "code",
   "execution_count": null,
   "metadata": {},
   "outputs": [],
   "source": [
    "y.shape # atributo"
   ]
  },
  {
   "cell_type": "code",
   "execution_count": null,
   "metadata": {},
   "outputs": [],
   "source": [
    "lista"
   ]
  },
  {
   "cell_type": "code",
   "execution_count": null,
   "metadata": {},
   "outputs": [],
   "source": [
    "lista.pop() # método"
   ]
  },
  {
   "cell_type": "code",
   "execution_count": null,
   "metadata": {},
   "outputs": [],
   "source": [
    "lista"
   ]
  },
  {
   "cell_type": "markdown",
   "metadata": {},
   "source": [
    "# 2. <font color=blue> Creando clases al vuelo </font>\n",
    "\n",
    "## 2.1 <font color=orange> Clases y objetos </font>\n",
    "\n",
    "<img src=\"./Figuras/ClasesObjetosPython.png\" alt=\"Smiley\">\n"
   ]
  },
  {
   "cell_type": "code",
   "execution_count": 10,
   "metadata": {},
   "outputs": [],
   "source": [
    "class Circulo:  # Mi primera clase, la más simple de todas\n",
    "    pass\n",
    "\n",
    "rueda = Circulo() # Mi primer objeto, el más simple de todos"
   ]
  },
  {
   "cell_type": "code",
   "execution_count": 11,
   "metadata": {},
   "outputs": [
    {
     "name": "stdout",
     "output_type": "stream",
     "text": [
      "<class '__main__.Circulo'>\n"
     ]
    }
   ],
   "source": [
    "print(type(rueda))"
   ]
  },
  {
   "cell_type": "code",
   "execution_count": 12,
   "metadata": {},
   "outputs": [
    {
     "name": "stdout",
     "output_type": "stream",
     "text": [
      "False\n",
      "True\n"
     ]
    }
   ],
   "source": [
    "rueda1 = Circulo()   # Otro objeto de tipo Circulo\n",
    "rueda2 = rueda       # ¿Qué pasa aquí?\n",
    "print(rueda == rueda1)\n",
    "print(rueda == rueda2)"
   ]
  },
  {
   "cell_type": "code",
   "execution_count": 13,
   "metadata": {},
   "outputs": [
    {
     "name": "stdout",
     "output_type": "stream",
     "text": [
      "4568181056\n",
      "4568248616\n",
      "4568181056\n"
     ]
    }
   ],
   "source": [
    "print(id(rueda))\n",
    "print(id(rueda1))\n",
    "print(id(rueda2))"
   ]
  },
  {
   "cell_type": "markdown",
   "metadata": {},
   "source": [
    "## 2.2 <font color=orange> Atributos </font>"
   ]
  },
  {
   "cell_type": "code",
   "execution_count": 14,
   "metadata": {},
   "outputs": [],
   "source": [
    "# Se pueden definir atributos \"al vuelo\"\n",
    "rueda.radio = 5\n",
    "rueda.centro = (2.0,3.0)"
   ]
  },
  {
   "cell_type": "code",
   "execution_count": 15,
   "metadata": {},
   "outputs": [
    {
     "name": "stdout",
     "output_type": "stream",
     "text": [
      "5\n",
      "(2.0, 3.0)\n"
     ]
    }
   ],
   "source": [
    "print(rueda.radio)\n",
    "print(rueda.centro)"
   ]
  },
  {
   "cell_type": "code",
   "execution_count": 17,
   "metadata": {},
   "outputs": [
    {
     "name": "stdout",
     "output_type": "stream",
     "text": [
      "5\n",
      "(2.0, 3.0)\n"
     ]
    }
   ],
   "source": [
    "# En este punto los objetos rueda y rueda2 son \"sinónimos\"\n",
    "print(rueda2.radio)\n",
    "print(rueda2.centro)"
   ]
  },
  {
   "cell_type": "code",
   "execution_count": 18,
   "metadata": {},
   "outputs": [
    {
     "ename": "AttributeError",
     "evalue": "'Circulo' object has no attribute 'radio'",
     "output_type": "error",
     "traceback": [
      "\u001b[0;31m---------------------------------------------------------------------------\u001b[0m",
      "\u001b[0;31mAttributeError\u001b[0m                            Traceback (most recent call last)",
      "\u001b[0;32m<ipython-input-18-c86d27cd5755>\u001b[0m in \u001b[0;36m<module>\u001b[0;34m\u001b[0m\n\u001b[1;32m      1\u001b[0m \u001b[0;31m# El objeto rueda1 no tiene los mismos atributos, pues es otro objeto\u001b[0m\u001b[0;34m\u001b[0m\u001b[0;34m\u001b[0m\u001b[0;34m\u001b[0m\u001b[0m\n\u001b[0;32m----> 2\u001b[0;31m \u001b[0mprint\u001b[0m\u001b[0;34m(\u001b[0m\u001b[0mrueda1\u001b[0m\u001b[0;34m.\u001b[0m\u001b[0mradio\u001b[0m\u001b[0;34m)\u001b[0m\u001b[0;34m\u001b[0m\u001b[0;34m\u001b[0m\u001b[0m\n\u001b[0m",
      "\u001b[0;31mAttributeError\u001b[0m: 'Circulo' object has no attribute 'radio'"
     ]
    }
   ],
   "source": [
    "# El objeto rueda1 no tiene los mismos atributos, pues es otro objeto\n",
    "print(rueda1.radio)"
   ]
  },
  {
   "cell_type": "code",
   "execution_count": 19,
   "metadata": {},
   "outputs": [
    {
     "data": {
      "text/plain": [
       "{'radio': 5, 'centro': (2.0, 3.0)}"
      ]
     },
     "execution_count": 19,
     "metadata": {},
     "output_type": "execute_result"
    }
   ],
   "source": [
    "# Los atributos se almacenan en un diccionario del objeto\n",
    "rueda.__dict__"
   ]
  },
  {
   "cell_type": "code",
   "execution_count": 21,
   "metadata": {},
   "outputs": [
    {
     "data": {
      "text/plain": [
       "{}"
      ]
     },
     "execution_count": 21,
     "metadata": {},
     "output_type": "execute_result"
    }
   ],
   "source": [
    "# El objeto rueda1 no tiene atributos\n",
    "rueda1.__dict__"
   ]
  },
  {
   "cell_type": "markdown",
   "metadata": {},
   "source": [
    "### 2.2.1 <font color=green> Atributos estáticos en funciones </font> \n",
    "\n",
    "- Veamos un ejemplo de este tipo de atributo. Primero en funciones:"
   ]
  },
  {
   "cell_type": "code",
   "execution_count": 34,
   "metadata": {},
   "outputs": [
    {
     "name": "stdout",
     "output_type": "stream",
     "text": [
      "42\n"
     ]
    }
   ],
   "source": [
    "# Definimos una función un poco extraña.\n",
    "def func(x):\n",
    "    return 42\n",
    "\n",
    "print(func(0))"
   ]
  },
  {
   "cell_type": "code",
   "execution_count": 35,
   "metadata": {},
   "outputs": [],
   "source": [
    "# Podemos definir atributos al vuelo en la función\n",
    "func.y = 33 "
   ]
  },
  {
   "cell_type": "code",
   "execution_count": 36,
   "metadata": {},
   "outputs": [
    {
     "name": "stdout",
     "output_type": "stream",
     "text": [
      "33\n"
     ]
    }
   ],
   "source": [
    "print(func.y)"
   ]
  },
  {
   "cell_type": "code",
   "execution_count": 37,
   "metadata": {},
   "outputs": [
    {
     "data": {
      "text/plain": [
       "33"
      ]
     },
     "execution_count": 37,
     "metadata": {},
     "output_type": "execute_result"
    }
   ],
   "source": [
    "# La función de biblioteca getattr obtiene el atributo\n",
    "getattr(func,'y') "
   ]
  },
  {
   "cell_type": "code",
   "execution_count": 38,
   "metadata": {},
   "outputs": [
    {
     "name": "stdout",
     "output_type": "stream",
     "text": [
      "1\n"
     ]
    }
   ],
   "source": [
    "# La función getattr tiene un tercer argumento que es un valor para \n",
    "# el atributo, en caso de no haberse definido previamente\n",
    "def func(x):\n",
    "    func.contador = getattr(func, 'contador', 0) + 1\n",
    "    return 'cualquier cosa'\n",
    "\n",
    "func(10)\n",
    "\n",
    "print(func.contador)"
   ]
  },
  {
   "cell_type": "code",
   "execution_count": 39,
   "metadata": {},
   "outputs": [
    {
     "name": "stdout",
     "output_type": "stream",
     "text": [
      "2\n"
     ]
    }
   ],
   "source": [
    "# Cada vez que se ejecuta la función, el valor del contador se va\n",
    "# incrementando, es un atributo ESTÁTICO.\n",
    "func(1)\n",
    "print(func.contador) "
   ]
  },
  {
   "cell_type": "code",
   "execution_count": 41,
   "metadata": {},
   "outputs": [
    {
     "name": "stdout",
     "output_type": "stream",
     "text": [
      "22\n"
     ]
    }
   ],
   "source": [
    "# Ejecutamos varias veces la funcion y vemos el resultado\n",
    "for i in range(10):\n",
    "    func(i)\n",
    "    \n",
    "print(func.contador)"
   ]
  },
  {
   "cell_type": "markdown",
   "metadata": {},
   "source": [
    "### 2.2.2 <font color=green> Atributos estáticos en clases </font> \n",
    "\n",
    "- En las clases existen atributos estáticos, y también se conocen como atributos de clase"
   ]
  },
  {
   "cell_type": "code",
   "execution_count": 42,
   "metadata": {},
   "outputs": [],
   "source": [
    "rueda = Circulo() # Un objeto"
   ]
  },
  {
   "cell_type": "code",
   "execution_count": 47,
   "metadata": {},
   "outputs": [],
   "source": [
    "# Definimos un atributo estático (de clase) al vuelo. Para esto\n",
    "# usamos el nombre de la Clase.\n",
    "Circulo.radio = 10 "
   ]
  },
  {
   "cell_type": "code",
   "execution_count": 48,
   "metadata": {},
   "outputs": [
    {
     "data": {
      "text/plain": [
       "10"
      ]
     },
     "execution_count": 48,
     "metadata": {},
     "output_type": "execute_result"
    }
   ],
   "source": [
    "rueda.radio"
   ]
  },
  {
   "cell_type": "code",
   "execution_count": 52,
   "metadata": {},
   "outputs": [],
   "source": [
    "# Otro objeto de la misma clase también tendrá el atributo estático (de clase)\n",
    "rueda1 = Circulo()"
   ]
  },
  {
   "cell_type": "code",
   "execution_count": 53,
   "metadata": {},
   "outputs": [
    {
     "data": {
      "text/plain": [
       "10"
      ]
     },
     "execution_count": 53,
     "metadata": {},
     "output_type": "execute_result"
    }
   ],
   "source": [
    "rueda1.radio "
   ]
  },
  {
   "cell_type": "code",
   "execution_count": 55,
   "metadata": {},
   "outputs": [
    {
     "data": {
      "text/plain": [
       "{}"
      ]
     },
     "execution_count": 55,
     "metadata": {},
     "output_type": "execute_result"
    }
   ],
   "source": [
    "# Los objetos no tienen atributos definidos\n",
    "rueda.__dict__   "
   ]
  },
  {
   "cell_type": "code",
   "execution_count": 56,
   "metadata": {},
   "outputs": [
    {
     "data": {
      "text/plain": [
       "{}"
      ]
     },
     "execution_count": 56,
     "metadata": {},
     "output_type": "execute_result"
    }
   ],
   "source": [
    "rueda1.__dict__ "
   ]
  },
  {
   "cell_type": "code",
   "execution_count": 57,
   "metadata": {},
   "outputs": [
    {
     "data": {
      "text/plain": [
       "mappingproxy({'__module__': '__main__',\n",
       "              '__dict__': <attribute '__dict__' of 'Circulo' objects>,\n",
       "              '__weakref__': <attribute '__weakref__' of 'Circulo' objects>,\n",
       "              '__doc__': None,\n",
       "              'radio': 10})"
      ]
     },
     "execution_count": 57,
     "metadata": {},
     "output_type": "execute_result"
    }
   ],
   "source": [
    "# Pero la clase si tiene un atributo, que es un atributo de clase (estático)\n",
    "Circulo.__dict__   "
   ]
  },
  {
   "cell_type": "markdown",
   "metadata": {},
   "source": [
    "## 2.2 <font color=orange> Métodos </font>"
   ]
  },
  {
   "cell_type": "code",
   "execution_count": 59,
   "metadata": {},
   "outputs": [],
   "source": [
    "# Definamos una función que calcula el área del círculo\n",
    "from math import pi\n",
    "\n",
    "def calcAreaCirculo(objeto):\n",
    "    \"\"\"\n",
    "    Función que calcula el area de un círculo\n",
    "    \"\"\"\n",
    "    r = objeto.radio\n",
    "    return pi * r ** 2"
   ]
  },
  {
   "cell_type": "code",
   "execution_count": 60,
   "metadata": {},
   "outputs": [],
   "source": [
    "# Ahora \"conectamos\" la función anterior a la clase Círculo\n",
    "class Circulo:\n",
    "    \"\"\"\n",
    "    La clase círculo\n",
    "    \"\"\"\n",
    "    calcArea = calcAreaCirculo # definimos el método \"calcArea\""
   ]
  },
  {
   "cell_type": "code",
   "execution_count": 61,
   "metadata": {},
   "outputs": [
    {
     "data": {
      "text/plain": [
       "314.1592653589793"
      ]
     },
     "execution_count": 61,
     "metadata": {},
     "output_type": "execute_result"
    }
   ],
   "source": [
    "rueda = Circulo()   # Un objeto de tipo círculo\n",
    "rueda.radio = 10    # Definimos el atributo radio\n",
    "Circulo.calcArea(rueda) # Calculo el área del objeto \"rueda\""
   ]
  },
  {
   "cell_type": "code",
   "execution_count": 64,
   "metadata": {},
   "outputs": [
    {
     "data": {
      "text/plain": [
       "mappingproxy({'__module__': '__main__',\n",
       "              '__doc__': '\\n    La clase círculo\\n    ',\n",
       "              'calcArea': <function __main__.calcAreaCirculo(objeto)>,\n",
       "              '__dict__': <attribute '__dict__' of 'Circulo' objects>,\n",
       "              '__weakref__': <attribute '__weakref__' of 'Circulo' objects>})"
      ]
     },
     "execution_count": 64,
     "metadata": {},
     "output_type": "execute_result"
    }
   ],
   "source": [
    "Circulo.__dict__"
   ]
  },
  {
   "cell_type": "markdown",
   "metadata": {},
   "source": [
    "### Observaciones importantes\n",
    "- No es conveniente definir los atributos y los métodos en la forma en que se ha presentado antes.\n",
    "- Un método es una función que está declarada dentro de la clase.\n",
    "- El método calcArea() de la clase Circulo también se puede ejecutar como sigue:\n",
    "\n",
    "```python\n",
    "rueda.calcArea()\n",
    "```"
   ]
  },
  {
   "cell_type": "code",
   "execution_count": 65,
   "metadata": {},
   "outputs": [
    {
     "data": {
      "text/plain": [
       "314.1592653589793"
      ]
     },
     "execution_count": 65,
     "metadata": {},
     "output_type": "execute_result"
    }
   ],
   "source": [
    "rueda.calcArea()  # Equivalente a Circulo.calcArea(rueda)"
   ]
  },
  {
   "cell_type": "code",
   "execution_count": 66,
   "metadata": {},
   "outputs": [
    {
     "data": {
      "text/plain": [
       "{'radio': 10}"
      ]
     },
     "execution_count": 66,
     "metadata": {},
     "output_type": "execute_result"
    }
   ],
   "source": [
    "rueda.__dict__"
   ]
  },
  {
   "cell_type": "markdown",
   "metadata": {},
   "source": [
    "# 3. <font color=blue> Definición de clases </font>\n"
   ]
  },
  {
   "cell_type": "code",
   "execution_count": 82,
   "metadata": {},
   "outputs": [],
   "source": [
    "from math import pi\n",
    "\n",
    "# La clase Círculo definida con el método calcArea y el atributo radio\n",
    "class Circulo:\n",
    "    '''\n",
    "    Esta clase define un círculo.\n",
    "    '''\n",
    "    def calcArea(self):\n",
    "        '''\n",
    "        Esté método calcula el área del círculo.\n",
    "        '''\n",
    "        return pi * self.radio ** 2 # El atributo radio es \n",
    "                                    # declarado en el primer\n",
    "                                    # momento en que es usado\n",
    "                                    # dentro de la clase."
   ]
  },
  {
   "cell_type": "code",
   "execution_count": 83,
   "metadata": {},
   "outputs": [
    {
     "data": {
      "text/plain": [
       "314.1592653589793"
      ]
     },
     "execution_count": 83,
     "metadata": {},
     "output_type": "execute_result"
    }
   ],
   "source": [
    "rueda = Circulo()  # rueda es un objeto de tipo Circulo\n",
    "rueda.radio = 10   # se define el valor del radio de la rueda\n",
    "rueda.calcArea()   # se ejecuta el método calcArea de la clase Circulo"
   ]
  },
  {
   "cell_type": "code",
   "execution_count": 84,
   "metadata": {},
   "outputs": [
    {
     "data": {
      "text/plain": [
       "{'radio': 10}"
      ]
     },
     "execution_count": 84,
     "metadata": {},
     "output_type": "execute_result"
    }
   ],
   "source": [
    "rueda.__dict__"
   ]
  },
  {
   "cell_type": "code",
   "execution_count": 85,
   "metadata": {},
   "outputs": [
    {
     "data": {
      "text/plain": [
       "31415.926535897932"
      ]
     },
     "execution_count": 85,
     "metadata": {},
     "output_type": "execute_result"
    }
   ],
   "source": [
    "rueda1 = Circulo()\n",
    "rueda1.radio = 100\n",
    "rueda1.calcArea()"
   ]
  },
  {
   "cell_type": "code",
   "execution_count": 86,
   "metadata": {},
   "outputs": [
    {
     "name": "stdout",
     "output_type": "stream",
     "text": [
      "10\n",
      "100\n"
     ]
    }
   ],
   "source": [
    "print(rueda.radio)\n",
    "print(rueda1.radio)"
   ]
  },
  {
   "cell_type": "code",
   "execution_count": 87,
   "metadata": {},
   "outputs": [
    {
     "name": "stdout",
     "output_type": "stream",
     "text": [
      "10 100 10\n",
      "4522525864\n",
      "4522517280\n",
      "4522525864\n"
     ]
    }
   ],
   "source": [
    "rueda2 = rueda\n",
    "print(rueda.radio, rueda1.radio,rueda2.radio)\n",
    "print(id(rueda))\n",
    "print(id(rueda1))\n",
    "print(id(rueda2))"
   ]
  },
  {
   "cell_type": "markdown",
   "metadata": {},
   "source": [
    "### Observación: \n",
    "- La forma en que se declaró el atributo `radio`, de la clase     `Circulo`, no es muy conveniente.\n",
    "- Lo conveniente sería que los atributos de un objeto se declaren inmediatamente después de la creación de un objeto de la clase.\n",
    "- El proceso de creación de un objeto de una clase se conoce en inglés como *instantation*. \n",
    "- Y un objeto concreto de la clase, por ejemplo el objeto `rueda`, se llama en inglés *instance*.\n"
   ]
  },
  {
   "cell_type": "markdown",
   "metadata": {},
   "source": [
    "## 3.1 <font color=orange> El constructor: \\_\\_init\\_\\_ </font>\n",
    "\n",
    "- El método `__init__`, que es definido por el usario dentro de la clase, se ejecuta automáticamente cuando se crea un objeto.\n",
    "- Al método `__init__` se le llama el constructor.\n",
    "- Generalmente en este método se inicializan todas los atributos de la clase, se reserva memoria si es necesario, lo cual *construye* el objeto correspondiente.\n",
    "\n",
    "\n",
    "###  Ejemplo:"
   ]
  },
  {
   "cell_type": "code",
   "execution_count": 89,
   "metadata": {},
   "outputs": [
    {
     "name": "stdout",
     "output_type": "stream",
     "text": [
      "Hola mundo con clase, estás en __init__\n"
     ]
    }
   ],
   "source": [
    "class A:\n",
    "    \n",
    "    def __init__(self):\n",
    "        print('Hola mundo con clase, estás en __init__')\n",
    "        \n",
    "x = A() # creamos un objeto de la clase A, qué pasará?"
   ]
  },
  {
   "cell_type": "markdown",
   "metadata": {},
   "source": [
    "- Dado lo anterior, lo conveniente es declarar y si se puede también definir los atributos de la clase dentro del método `__init__`\n",
    "\n",
    "### Ejemplo:"
   ]
  },
  {
   "cell_type": "code",
   "execution_count": 96,
   "metadata": {},
   "outputs": [],
   "source": [
    "from math import pi\n",
    "\n",
    "class Circulo:\n",
    "    \n",
    "    def __init__(self, radio = None, centro = None):\n",
    "        \"\"\"\n",
    "        El constructor de la clase.\n",
    "        Hay dos atributos: radio y centro.\n",
    "        \"\"\"\n",
    "        self.radio = radio\n",
    "        self.centro = centro\n",
    "        print('radio: ', self.radio, '; centro :', self.centro)\n",
    "    \n",
    "    def calcArea(self):\n",
    "        \"\"\"\n",
    "        El método que calcula el área.\n",
    "        \"\"\"\n",
    "        return pi * self.radio ** 2"
   ]
  },
  {
   "cell_type": "code",
   "execution_count": 97,
   "metadata": {},
   "outputs": [
    {
     "name": "stdout",
     "output_type": "stream",
     "text": [
      "radio:  None ; centro : None\n"
     ]
    },
    {
     "data": {
      "text/plain": [
       "314.1592653589793"
      ]
     },
     "execution_count": 97,
     "metadata": {},
     "output_type": "execute_result"
    }
   ],
   "source": [
    "rueda =  Circulo()\n",
    "rueda.radio = 10\n",
    "rueda.calcArea()"
   ]
  },
  {
   "cell_type": "code",
   "execution_count": 98,
   "metadata": {},
   "outputs": [
    {
     "name": "stdout",
     "output_type": "stream",
     "text": [
      "radio:  100 ; centro : None\n"
     ]
    },
    {
     "data": {
      "text/plain": [
       "31415.926535897932"
      ]
     },
     "execution_count": 98,
     "metadata": {},
     "output_type": "execute_result"
    }
   ],
   "source": [
    "rueda1 = Circulo(100)  # se ejecuta __init__ con \n",
    "                       #argumento radio = 100\n",
    "rueda1.calcArea() # como ya se definió el radio, \n",
    "                  # ya se puede calcular el área"
   ]
  },
  {
   "cell_type": "code",
   "execution_count": 99,
   "metadata": {},
   "outputs": [
    {
     "name": "stdout",
     "output_type": "stream",
     "text": [
      "radio:  1 ; centro : (2, 3)\n",
      "3.141592653589793\n",
      "(2, 3)\n"
     ]
    }
   ],
   "source": [
    "rueda2 = Circulo(1,(2,3)) # puedo pasar los dos argumentos.\n",
    "print(rueda2.calcArea())\n",
    "print(rueda2.centro)"
   ]
  },
  {
   "cell_type": "markdown",
   "metadata": {},
   "source": [
    "## 3.2 <font color=orange> El destructor: \\_\\_del\\_\\_ </font>\n",
    "\n",
    "- Al igual que existe un método constructor, también existe un método destructor que se identifica por `__del__`\n",
    "\n",
    "### Ejemplo"
   ]
  },
  {
   "cell_type": "code",
   "execution_count": 104,
   "metadata": {},
   "outputs": [],
   "source": [
    "from math import pi\n",
    "\n",
    "class Circulo:\n",
    "    \n",
    "    def __init__(self, radio = None, centro = None):\n",
    "        self.radio = radio\n",
    "        self.centro = centro\n",
    "        print('radio: ', self.radio, '; centro :', self.centro)\n",
    "        \n",
    "    def __del__(self):\n",
    "        print('El objeto será destruido')\n",
    "    \n",
    "    def calcArea(self):\n",
    "        return pi * self.radio ** 2"
   ]
  },
  {
   "cell_type": "code",
   "execution_count": 105,
   "metadata": {},
   "outputs": [
    {
     "name": "stdout",
     "output_type": "stream",
     "text": [
      "radio:  10 ; centro : (1, 1)\n",
      "314.1592653589793\n",
      "El objeto será destruido\n"
     ]
    }
   ],
   "source": [
    "rueda = Circulo(10,(1,1))\n",
    "print(rueda.calcArea())\n",
    "del(rueda)"
   ]
  },
  {
   "cell_type": "markdown",
   "metadata": {},
   "source": [
    "## 3.3 <font color=orange> *Self* </font>\n",
    "\n",
    "- El primer parámetro de un método es usado como referencia al objeto que ejecuta el método.\n",
    "- Este primer parámetro se conoce como `self`.\n",
    "- En el ejemplo anterior `self` corresponde al objeto \"rueda\".\n",
    "\n",
    "<img src=\"./Figuras/AtributosDeClase.png\" alt=\"Smiley\">\n"
   ]
  },
  {
   "cell_type": "markdown",
   "metadata": {},
   "source": [
    "## 3.4 <font color=orange> Encapsulamiento y ocultamiento de la información </font>\n",
    "\n",
    "- Encapsulamiento: ocultar los atributos de un objeto, de tal manera que sólo se puedan modificar con métodos de la clase.\n",
    "\n",
    "### 3.4.1 <font color=green> Atributos públicos, protegidos y privados </font>\n",
    "\n"
   ]
  },
  {
   "cell_type": "code",
   "execution_count": 106,
   "metadata": {},
   "outputs": [
    {
     "name": "stdout",
     "output_type": "stream",
     "text": [
      "pub : atributo público\n"
     ]
    }
   ],
   "source": [
    "class miClase():\n",
    "    \n",
    "    def __init__(self):\n",
    "        self.pub = 'pub : atributo público'\n",
    "        self._pro = 'pro : atributo protegido'\n",
    "        self.__pri = 'pri : atributo privado'\n",
    "\n",
    "m = miClase()\n",
    "print(m.pub)"
   ]
  },
  {
   "cell_type": "code",
   "execution_count": 107,
   "metadata": {},
   "outputs": [
    {
     "name": "stdout",
     "output_type": "stream",
     "text": [
      "pro : atributo protegido\n"
     ]
    }
   ],
   "source": [
    "print(m._pro)"
   ]
  },
  {
   "cell_type": "code",
   "execution_count": 108,
   "metadata": {},
   "outputs": [
    {
     "ename": "AttributeError",
     "evalue": "'miClase' object has no attribute '__pri'",
     "output_type": "error",
     "traceback": [
      "\u001b[0;31m---------------------------------------------------------------------------\u001b[0m",
      "\u001b[0;31mAttributeError\u001b[0m                            Traceback (most recent call last)",
      "\u001b[0;32m<ipython-input-108-62dd601a2a9f>\u001b[0m in \u001b[0;36m<module>\u001b[0;34m\u001b[0m\n\u001b[0;32m----> 1\u001b[0;31m \u001b[0mprint\u001b[0m\u001b[0;34m(\u001b[0m\u001b[0mm\u001b[0m\u001b[0;34m.\u001b[0m\u001b[0m__pri\u001b[0m\u001b[0;34m)\u001b[0m\u001b[0;34m\u001b[0m\u001b[0;34m\u001b[0m\u001b[0m\n\u001b[0m",
      "\u001b[0;31mAttributeError\u001b[0m: 'miClase' object has no attribute '__pri'"
     ]
    }
   ],
   "source": [
    "print(m.__pri)"
   ]
  },
  {
   "cell_type": "code",
   "execution_count": 119,
   "metadata": {},
   "outputs": [],
   "source": [
    "from math import pi\n",
    "\n",
    "class Circulo:\n",
    "    \n",
    "    def __init__(self, radio = None, centro = None):\n",
    "        self.__radio = radio # Ahora el radio es privado\n",
    "        self.__centro = centro # Ahora el centro es privado\n",
    "        print('radio: ', self.__radio, '; centro :', self.__centro)\n",
    "        \n",
    "    def __del__(self):\n",
    "        print('El objeto será destruido')\n",
    "        \n",
    "    def calcArea(self):\n",
    "        return pi * self.__radio ** 2"
   ]
  },
  {
   "cell_type": "code",
   "execution_count": 120,
   "metadata": {},
   "outputs": [
    {
     "name": "stdout",
     "output_type": "stream",
     "text": [
      "radio:  2 ; centro : (3, 4)\n"
     ]
    },
    {
     "ename": "AttributeError",
     "evalue": "'Circulo' object has no attribute '__radio'",
     "output_type": "error",
     "traceback": [
      "\u001b[0;31m---------------------------------------------------------------------------\u001b[0m",
      "\u001b[0;31mAttributeError\u001b[0m                            Traceback (most recent call last)",
      "\u001b[0;32m<ipython-input-120-1591523d21f1>\u001b[0m in \u001b[0;36m<module>\u001b[0;34m\u001b[0m\n\u001b[1;32m      1\u001b[0m \u001b[0mrueda\u001b[0m \u001b[0;34m=\u001b[0m \u001b[0mCirculo\u001b[0m\u001b[0;34m(\u001b[0m\u001b[0;36m2\u001b[0m\u001b[0;34m,\u001b[0m\u001b[0;34m(\u001b[0m\u001b[0;36m3\u001b[0m\u001b[0;34m,\u001b[0m\u001b[0;36m4\u001b[0m\u001b[0;34m)\u001b[0m\u001b[0;34m)\u001b[0m\u001b[0;34m\u001b[0m\u001b[0;34m\u001b[0m\u001b[0m\n\u001b[0;32m----> 2\u001b[0;31m \u001b[0mprint\u001b[0m\u001b[0;34m(\u001b[0m\u001b[0mrueda\u001b[0m\u001b[0;34m.\u001b[0m\u001b[0m__radio\u001b[0m\u001b[0;34m,\u001b[0m \u001b[0mrueda\u001b[0m\u001b[0;34m.\u001b[0m\u001b[0m__centro\u001b[0m\u001b[0;34m)\u001b[0m\u001b[0;34m\u001b[0m\u001b[0;34m\u001b[0m\u001b[0m\n\u001b[0m",
      "\u001b[0;31mAttributeError\u001b[0m: 'Circulo' object has no attribute '__radio'"
     ]
    }
   ],
   "source": [
    "rueda = Circulo(2,(3,4))\n",
    "print(rueda.__radio, rueda.__centro)"
   ]
  },
  {
   "cell_type": "markdown",
   "metadata": {},
   "source": [
    "### 3.4.2 <font color=green> *Getters* y *setters* </font>\n",
    "\n",
    "- Para acceder y modificar la información de la clase se definen dos tipos de métodos: *get* y *set*."
   ]
  },
  {
   "cell_type": "markdown",
   "metadata": {},
   "source": [
    "### Ejemplo"
   ]
  },
  {
   "cell_type": "code",
   "execution_count": 135,
   "metadata": {},
   "outputs": [
    {
     "name": "stdout",
     "output_type": "stream",
     "text": [
      "El objeto será destruido\n",
      "El objeto será destruido\n"
     ]
    }
   ],
   "source": [
    "from math import pi\n",
    "\n",
    "class Circulo:\n",
    "    \n",
    "    def __init__(self, radio = None, centro = None):\n",
    "        self.__radio = radio\n",
    "        self.__centro = centro\n",
    "        print('radio: ', self.__radio, '; centro :', self.__centro)\n",
    "        \n",
    "    def __del__(self):\n",
    "        print('El objeto será destruido')\n",
    "    \n",
    "    def setRadio(self, radio):\n",
    "        self.__radio = radio\n",
    "        \n",
    "    def getRadio(self):\n",
    "        return self.__radio\n",
    "\n",
    "    def setCentro(self, centro):\n",
    "        self.__centro = centro\n",
    "    \n",
    "    def getCentro(self):\n",
    "        return self.__centro\n",
    "        \n",
    "    def calcArea(self):\n",
    "        return pi * self.__radio ** 2"
   ]
  },
  {
   "cell_type": "code",
   "execution_count": 128,
   "metadata": {},
   "outputs": [
    {
     "name": "stdout",
     "output_type": "stream",
     "text": [
      "radio:  2 ; centro : (3, 4)\n",
      "El objeto será destruido\n",
      "2 (3, 4)\n",
      "12.566370614359172\n",
      "3.1 (7, 8)\n",
      "30.190705400997917\n"
     ]
    }
   ],
   "source": [
    "rueda = Circulo(2,(3,4))\n",
    "print(rueda.getRadio(), rueda.getCentro())\n",
    "print(rueda.calcArea())\n",
    "\n",
    "rueda.setRadio(3.1)\n",
    "rueda.setCentro((7,8))\n",
    "print(rueda.getRadio(), rueda.getCentro())\n",
    "print(rueda.calcArea())"
   ]
  },
  {
   "cell_type": "markdown",
   "metadata": {},
   "source": [
    "## 3.5 <font color=orange> Atributos de clase </font>\n",
    "\n",
    "- Es posible que la clase tenga atributos, los cuales son compartidos por todos los objetos de la clase. Estos son los atributos estáticos o de clase.\n",
    "\n",
    "### Ejemplo"
   ]
  },
  {
   "cell_type": "code",
   "execution_count": 129,
   "metadata": {},
   "outputs": [
    {
     "name": "stdout",
     "output_type": "stream",
     "text": [
      "Atributo de clase\n",
      "Atributo de clase\n"
     ]
    }
   ],
   "source": [
    "class miClase():\n",
    "    ac = 'Atributo de clase'\n",
    "    \n",
    "c1 = miClase()\n",
    "c2 = miClase()\n",
    "print(c1.ac, c2.ac, sep='\\n')"
   ]
  },
  {
   "cell_type": "markdown",
   "metadata": {},
   "source": [
    "- Para modificar un atributo de clase se debe hacer como sigue:"
   ]
  },
  {
   "cell_type": "code",
   "execution_count": 130,
   "metadata": {},
   "outputs": [],
   "source": [
    "miClase.ac = 'Hola POO'"
   ]
  },
  {
   "cell_type": "code",
   "execution_count": 131,
   "metadata": {},
   "outputs": [
    {
     "name": "stdout",
     "output_type": "stream",
     "text": [
      "Hola POO\n",
      "Hola POO\n"
     ]
    }
   ],
   "source": [
    "print(c1.ac, c2.ac, sep='\\n')"
   ]
  },
  {
   "cell_type": "markdown",
   "metadata": {},
   "source": [
    "- Cuidado con lo siguiente:"
   ]
  },
  {
   "cell_type": "code",
   "execution_count": 132,
   "metadata": {},
   "outputs": [],
   "source": [
    "c1.ac = 'Qué pasará?'"
   ]
  },
  {
   "cell_type": "code",
   "execution_count": 133,
   "metadata": {},
   "outputs": [
    {
     "name": "stdout",
     "output_type": "stream",
     "text": [
      "Qué pasará?\n",
      "Hola POO\n"
     ]
    }
   ],
   "source": [
    "print(c1.ac, c2.ac, sep='\\n')"
   ]
  },
  {
   "cell_type": "code",
   "execution_count": 134,
   "metadata": {},
   "outputs": [
    {
     "name": "stdout",
     "output_type": "stream",
     "text": [
      "{'ac': 'Qué pasará?'}\n",
      "{}\n",
      "{'__module__': '__main__', 'ac': 'Hola POO', '__dict__': <attribute '__dict__' of 'miClase' objects>, '__weakref__': <attribute '__weakref__' of 'miClase' objects>, '__doc__': None}\n"
     ]
    }
   ],
   "source": [
    "print(c1.__dict__)\n",
    "print(c2.__dict__)\n",
    "print(miClase.__dict__)"
   ]
  },
  {
   "cell_type": "markdown",
   "metadata": {},
   "source": [
    "### Ejemplo"
   ]
  },
  {
   "cell_type": "code",
   "execution_count": 136,
   "metadata": {},
   "outputs": [],
   "source": [
    "from math import pi\n",
    "\n",
    "class Circulo:\n",
    "    \n",
    "    cuenta = 0\n",
    "    \n",
    "    def __init__(self, radio = None, centro = None):\n",
    "        type(self).cuenta += 1\n",
    "        self.__radio = radio\n",
    "        self.__centro = centro\n",
    "        \n",
    "    def __del__(self):\n",
    "        type(self).cuenta -= 1\n",
    "    \n",
    "    def setRadio(self, radio):\n",
    "        self.__radio = radio\n",
    "        \n",
    "    def getRadio(self):\n",
    "        return self.__radio\n",
    "\n",
    "    def setCentro(self, centro):\n",
    "        self.__centro = centro\n",
    "    \n",
    "    def getCentro(self):\n",
    "        return self.__centro\n",
    "        \n",
    "    def calcArea(self):\n",
    "        return pi * self.__radio ** 2"
   ]
  },
  {
   "cell_type": "code",
   "execution_count": 137,
   "metadata": {},
   "outputs": [
    {
     "name": "stdout",
     "output_type": "stream",
     "text": [
      "Total de círculos: 3\n",
      "Total de círculos: 5\n"
     ]
    }
   ],
   "source": [
    "circ_1 = Circulo(1,(0,0))\n",
    "circ_2 = Circulo(2,(0,0))\n",
    "circ_3 = Circulo(3,(0,0))\n",
    "print('Total de círculos: {}'.format(Circulo.cuenta))\n",
    "circ_4 = Circulo(4,(0,0))\n",
    "circ_5 = Circulo(5,(0,0))\n",
    "print('Total de círculos: {}'.format(Circulo.cuenta))"
   ]
  },
  {
   "cell_type": "code",
   "execution_count": 138,
   "metadata": {},
   "outputs": [
    {
     "name": "stdout",
     "output_type": "stream",
     "text": [
      "Total de círculos: 4\n"
     ]
    }
   ],
   "source": [
    "del circ_1\n",
    "print('Total de círculos: {}'.format(Circulo.cuenta))"
   ]
  },
  {
   "cell_type": "markdown",
   "metadata": {},
   "source": [
    "## 3.6 <font color=orange> Métodos estáticos </font>\n",
    "\n",
    "- Cuando atributo de clase (estático) es privado se debe usar un método para acceder al mismo.\n",
    "\n",
    "### Ejemplo"
   ]
  },
  {
   "cell_type": "code",
   "execution_count": 139,
   "metadata": {},
   "outputs": [],
   "source": [
    "from math import pi\n",
    "\n",
    "class Circulo:\n",
    "    \n",
    "    __cuenta = 0 # Ahora este atributo es privado\n",
    "    \n",
    "    def __init__(self, radio = None, centro = None):\n",
    "        type(self).__cuenta += 1\n",
    "        self.__radio = radio\n",
    "        self.__centro = centro\n",
    "        \n",
    "    def __del__(self):\n",
    "        type(self).__cuenta -= 1\n",
    "    \n",
    "    # este no es un método estatico\n",
    "    def getCuenta(self):\n",
    "        return Circulo.__cuenta\n",
    "    \n",
    "    def setRadio(self, radio):\n",
    "        self.__radio = radio\n",
    "        \n",
    "    def getRadio(self):\n",
    "        return self.__radio\n",
    "\n",
    "    def setCentro(self, centro):\n",
    "        self.__centro = centro\n",
    "    \n",
    "    def getCentro(self):\n",
    "        return self.__centro\n",
    "        \n",
    "    def calcArea(self):\n",
    "        return pi * self.__radio ** 2"
   ]
  },
  {
   "cell_type": "code",
   "execution_count": 140,
   "metadata": {},
   "outputs": [
    {
     "name": "stdout",
     "output_type": "stream",
     "text": [
      "Total de círculos: 3\n"
     ]
    }
   ],
   "source": [
    "circ_1 = Circulo(1,(0,0))\n",
    "circ_2 = Circulo(2,(0,0))\n",
    "circ_3 = Circulo(3,(0,0))\n",
    "print('Total de círculos: {}'.format(circ_1.getCuenta()))"
   ]
  },
  {
   "cell_type": "code",
   "execution_count": 141,
   "metadata": {},
   "outputs": [
    {
     "ename": "TypeError",
     "evalue": "getCuenta() missing 1 required positional argument: 'self'",
     "output_type": "error",
     "traceback": [
      "\u001b[0;31m---------------------------------------------------------------------------\u001b[0m",
      "\u001b[0;31mTypeError\u001b[0m                                 Traceback (most recent call last)",
      "\u001b[0;32m<ipython-input-141-8df7ded22a0e>\u001b[0m in \u001b[0;36m<module>\u001b[0;34m\u001b[0m\n\u001b[1;32m      1\u001b[0m \u001b[0;31m# No podemos ejecutar getCuenta() con la clase !!\u001b[0m\u001b[0;34m\u001b[0m\u001b[0;34m\u001b[0m\u001b[0;34m\u001b[0m\u001b[0m\n\u001b[0;32m----> 2\u001b[0;31m \u001b[0mprint\u001b[0m\u001b[0;34m(\u001b[0m\u001b[0;34m'Total de círculos: {}'\u001b[0m\u001b[0;34m.\u001b[0m\u001b[0mformat\u001b[0m\u001b[0;34m(\u001b[0m\u001b[0mCirculo\u001b[0m\u001b[0;34m.\u001b[0m\u001b[0mgetCuenta\u001b[0m\u001b[0;34m(\u001b[0m\u001b[0;34m)\u001b[0m\u001b[0;34m)\u001b[0m\u001b[0;34m)\u001b[0m\u001b[0;34m\u001b[0m\u001b[0;34m\u001b[0m\u001b[0m\n\u001b[0m",
      "\u001b[0;31mTypeError\u001b[0m: getCuenta() missing 1 required positional argument: 'self'"
     ]
    }
   ],
   "source": [
    "# No podemos ejecutar getCuenta() con la clase !!\n",
    "print('Total de círculos: {}'.format(Circulo.getCuenta()))"
   ]
  },
  {
   "cell_type": "markdown",
   "metadata": {},
   "source": [
    "- Los métodos estáticos permiten ser ejecutados sin necesidad\n",
    "de un objeto de la clase\n",
    "- Veamos como:"
   ]
  },
  {
   "cell_type": "code",
   "execution_count": 142,
   "metadata": {},
   "outputs": [],
   "source": [
    "from math import pi\n",
    "\n",
    "class Circulo:\n",
    "    \n",
    "    __cuenta = 0 # Ahora este atributo es privado\n",
    "    \n",
    "    def __init__(self, radio = None, centro = None):\n",
    "        type(self).__cuenta += 1\n",
    "        self.__radio = radio\n",
    "        self.__centro = centro\n",
    "        \n",
    "    def __del__(self):\n",
    "        type(self).__cuenta -= 1\n",
    "    \n",
    "    @staticmethod       # Esto parace un decorador\n",
    "    def getCuenta():    # Ahora la función no recibe parámetro\n",
    "        return Circulo.__cuenta\n",
    "    \n",
    "    def setRadio(self, radio):\n",
    "        self.__radio = radio\n",
    "        \n",
    "    def getRadio(self):\n",
    "        return self.__radio\n",
    "\n",
    "    def setCentro(self, centro):\n",
    "        self.__centro = centro\n",
    "    \n",
    "    def getCentro(self):\n",
    "        return self.__centro\n",
    "        \n",
    "    def calcArea(self):\n",
    "        return pi * self.__radio ** 2"
   ]
  },
  {
   "cell_type": "code",
   "execution_count": 143,
   "metadata": {},
   "outputs": [
    {
     "name": "stdout",
     "output_type": "stream",
     "text": [
      "Total de círculos: 3\n"
     ]
    }
   ],
   "source": [
    "circ_1 = Circulo(1,(0,0))\n",
    "circ_2 = Circulo(2,(0,0))\n",
    "circ_3 = Circulo(3,(0,0))\n",
    "print('Total de círculos: {}'.format(Circulo.getCuenta()))"
   ]
  },
  {
   "cell_type": "code",
   "execution_count": 144,
   "metadata": {},
   "outputs": [
    {
     "name": "stdout",
     "output_type": "stream",
     "text": [
      "Total de círculos: 3\n"
     ]
    }
   ],
   "source": [
    "print('Total de círculos: {}'.format(circ_2.getCuenta()))"
   ]
  },
  {
   "cell_type": "markdown",
   "metadata": {},
   "source": [
    "## 3.7 <font color=orange> @property </font>\n",
    "\n",
    "- Los métodos *getters* y *setters* son usadas muy comúnmente en los lenguajes POO para asegurar el principio de la encapsulación de datos. También se conocen como métodos mutadores.\n",
    "- La encapsulación de datos se puede ver como e argupamiento de datos y métodos que operan sobre esos datos.\n",
    "- De acuerdo con este principio, algunos datos son privados y se usan los *getters* y *setters* para obtener y modificar esos datos.\n",
    "- Sin embargo, la forma *Pythónica* para acceder a la información privada es hacerla pública!!!\n",
    "\n",
    "### Ejemplo:\n",
    "Implementaremos una clase para definir puntos en 1D.\n",
    "\n",
    "#### Implementación 1:"
   ]
  },
  {
   "cell_type": "code",
   "execution_count": 68,
   "metadata": {},
   "outputs": [],
   "source": [
    "class Point1D:\n",
    "\n",
    "    def __init__(self,x):\n",
    "        self.x = x # Atributo público !!!"
   ]
  },
  {
   "cell_type": "code",
   "execution_count": 70,
   "metadata": {},
   "outputs": [
    {
     "name": "stdout",
     "output_type": "stream",
     "text": [
      "c1 : 5\n",
      "c2 : 54\n",
      "c3 : 59\n"
     ]
    }
   ],
   "source": [
    "c1 = Point1D(5)\n",
    "c2 = Point1D(54)\n",
    "c3 = Point1D(0)\n",
    "\n",
    "c3.x  = c1.x + c2.x\n",
    "\n",
    "print('c1 :', c1.x)\n",
    "print('c2 :', c2.x)\n",
    "print('c3 :', c3.x)"
   ]
  },
  {
   "cell_type": "markdown",
   "metadata": {},
   "source": [
    "Muy bonito y todo, pero **no hay encapsulamiento de la información.**\n",
    "\n",
    "#### Implementación 2:"
   ]
  },
  {
   "cell_type": "code",
   "execution_count": 72,
   "metadata": {},
   "outputs": [],
   "source": [
    "class Point1D:\n",
    "\n",
    "    def __init__(self, x):\n",
    "        self.__x = x # Ahora el atributo x es privado.\n",
    "\n",
    "    def getX(self):\n",
    "        return self.__x \n",
    "\n",
    "    def setX(self, x): # Aquí voy a checar el rango de valores\n",
    "        self.__x = x"
   ]
  },
  {
   "cell_type": "code",
   "execution_count": 73,
   "metadata": {},
   "outputs": [
    {
     "name": "stdout",
     "output_type": "stream",
     "text": [
      "c1 : 5\n",
      "c2 : 54\n",
      "c3 : 59\n"
     ]
    }
   ],
   "source": [
    "c1 = Point1D(5)\n",
    "c2 = Point1D(54)\n",
    "c3 = Point1D(0)\n",
    "\n",
    "c3.setX(c1.getX() + c2.getX())\n",
    "\n",
    "print('c1 :', c1.getX())\n",
    "print('c2 :', c2.getX())\n",
    "print('c3 :', c3.getX())"
   ]
  },
  {
   "cell_type": "markdown",
   "metadata": {},
   "source": [
    "Hay encapsulamiento de la información, pero no se cumple el primer principio del Zen de Python:  `Beautiful is better than ugly.`\n",
    "\n",
    "¿Qué pasaría si en el futuro necesito cambiar la implementación? Por ejemplo que el valor de `x` solo pudiera estar en un rango, por ejemplo $x \\in [min,max]$, donde $max$ y $min$ son valores definidos por el usuario. Además, para encapsular la información, se decide poner el atributo `x` como privado.\n",
    "\n",
    "#### Implementación 3:"
   ]
  },
  {
   "cell_type": "code",
   "execution_count": 63,
   "metadata": {},
   "outputs": [],
   "source": [
    "class Point1D:\n",
    "\n",
    "    def __init__(self, x, minimo = 0, maximo = 100):\n",
    "        self.__min = minimo\n",
    "        self.__max = maximo\n",
    "        self.setX(x)\n",
    "\n",
    "    def getX(self):\n",
    "        return self.__x # Ahora el atributo x es privado.\n",
    "\n",
    "    def setX(self, x): # Aquí voy a checar el rango de valores\n",
    "        if x < self.__min:\n",
    "            self.__x = self.__min\n",
    "        elif x > self.__max:\n",
    "            self.__x = self.__max\n",
    "        else:\n",
    "            self.__x = x"
   ]
  },
  {
   "cell_type": "code",
   "execution_count": 64,
   "metadata": {},
   "outputs": [
    {
     "name": "stdout",
     "output_type": "stream",
     "text": [
      "45 0 100\n"
     ]
    }
   ],
   "source": [
    "# Veamos que cumple con el rango de valores\n",
    "x1 = Point1D(45)\n",
    "x2 = Point1D(-8)\n",
    "x3 = Point1D(300)\n",
    "print(x1.getX(), x2.getX(), x3.getX())"
   ]
  },
  {
   "cell_type": "code",
   "execution_count": 65,
   "metadata": {},
   "outputs": [],
   "source": [
    "# Ahora vamos a sumar el valor de x de diferentes objetos como en la implementación 1\n",
    "c1 = Point1D(5)\n",
    "c2 = Point1D(54)\n",
    "c3 = Point1D(0)"
   ]
  },
  {
   "cell_type": "code",
   "execution_count": 74,
   "metadata": {},
   "outputs": [
    {
     "name": "stdout",
     "output_type": "stream",
     "text": [
      "59\n"
     ]
    }
   ],
   "source": [
    "# Para sumar las 'x' de cada punto, en la versión con atributos públicos se hacia:\n",
    "# c3.x = c1.x + c2.x\n",
    "# En esta nueva versión se debe hacer con la función getX():\n",
    "c3.setX(c1.getX() + c2.getX())\n",
    "print(c3.getX())"
   ]
  },
  {
   "cell_type": "markdown",
   "metadata": {},
   "source": [
    "Esto rompe con la compatibilidad: un usuario de la versión 1 tendría que cambiar su código!!!\n",
    "\n",
    "Esta es la razón por la que muchos expertos de POO recomiendan usar solo atributos privados y acceder a ellos mediante *getters* y *setters*, de tal manera que se pueda cambiar la implementación manteniendo la interfaz sin modificaciones para el cliente.\n",
    "\n",
    "Python ofrece una manera de mantener la implementación clara y usable, con encapsulamiento de la información\n",
    "\n",
    "#### Implementación 4:"
   ]
  },
  {
   "cell_type": "code",
   "execution_count": 103,
   "metadata": {},
   "outputs": [],
   "source": [
    "class Point1D:\n",
    "\n",
    "    def __init__(self, x, minimo = 0, maximo = 100):\n",
    "        self.__min = minimo\n",
    "        self.__max = maximo\n",
    "        self.x = x # Ojo: aquí se ejecuta la función setter\n",
    "\n",
    "    @property\n",
    "    def x(self):\n",
    "        return self.__x # Ahora el atributo x es privado.\n",
    "\n",
    "    @x.setter\n",
    "    def x(self, x): # Aquí voy a checar el rango de valores\n",
    "        if x < self.__min:\n",
    "            self.__x = self.__min\n",
    "        elif x > self.__max:\n",
    "            self.__x = self.__max\n",
    "        else:\n",
    "            self.__x = x"
   ]
  },
  {
   "cell_type": "code",
   "execution_count": 104,
   "metadata": {},
   "outputs": [
    {
     "name": "stdout",
     "output_type": "stream",
     "text": [
      "c1 : 5\n",
      "c2 : 54\n",
      "c3 : 59\n"
     ]
    }
   ],
   "source": [
    "# Ahora vamos a sumar el valor de x de diferentes objetos como en la implementación 1\n",
    "c1 = Point1D(5)\n",
    "c2 = Point1D(54)\n",
    "c3 = Point1D(0)\n",
    "\n",
    "c3.x  = c1.x + c2.x\n",
    "\n",
    "print('c1 :', c1.x)\n",
    "print('c2 :', c2.x)\n",
    "print('c3 :', c3.x)"
   ]
  },
  {
   "cell_type": "code",
   "execution_count": 105,
   "metadata": {},
   "outputs": [
    {
     "name": "stdout",
     "output_type": "stream",
     "text": [
      "45 0 100\n"
     ]
    }
   ],
   "source": [
    "# Veamos que cumple con el rango de valores\n",
    "x1 = Point1D(45)\n",
    "x2 = Point1D(-8)\n",
    "x3 = Point1D(300)\n",
    "print(x1.x, x2.x, x3.x)"
   ]
  },
  {
   "cell_type": "markdown",
   "metadata": {},
   "source": [
    "#### Observación:\n",
    "Se puede comenzar con una implementación muy sencilla, con atributos públicos (sin encapsulación de la información) y posteriormente mejorar esa implementación con atributos privados, con *getters* y *setters* y usando @property y @x.setter para acceder a la información privada, como si fuera pública. Esto mantiene la interfaz del usuario."
   ]
  },
  {
   "cell_type": "markdown",
   "metadata": {},
   "source": [
    "## 3.8 <font color=orange> El método \\_\\_call__ </font>\n",
    "\n",
    "- Una función es un objeto que se puede ejecutar (llamar) desde un cierto punto del programa: `f(x)`\n",
    "- Existen otro tipo de objetos que se pueden ejecutar como si fueran una función; estos objetos se conocen como *functor* o *function object*.\n",
    "- Podemos definir clases, cuyos objetos se comporten como funciones y para ello se hace uso del método `__call__`.\n",
    "- Cuando el objeto es usado como una función se ejecuta automáticamente el método `__call__`.\n"
   ]
  },
  {
   "cell_type": "code",
   "execution_count": 7,
   "metadata": {},
   "outputs": [
    {
     "name": "stdout",
     "output_type": "stream",
     "text": [
      "Constructor de la clase Ejemplo\n",
      "Los argumentos de la ejecución(llamda) son: (3, 4) {'x': 11, 'y': 10}\n",
      "Los argumentos de la ejecución(llamda) son: (3, 4) {'nombre': 'Luis'}\n"
     ]
    }
   ],
   "source": [
    "class Ejemplo:\n",
    "    \n",
    "    def __init__(self):\n",
    "        print(\"Constructor de la clase Ejemplo\")\n",
    "    \n",
    "    def __call__(self, *args, **kwargs):\n",
    "        print(\"Los argumentos de la ejecución(llamda) son:\", args, kwargs)\n",
    "\n",
    "# Se construye un objeto\n",
    "x = Ejemplo()\n",
    "\n",
    "# Usamos el objeto como una función:\n",
    "x(3, 4, x=11, y=10)\n",
    "\n",
    "x(3, 4, nombre='Luis')"
   ]
  },
  {
   "cell_type": "markdown",
   "metadata": {},
   "source": [
    "### Ejemplo:"
   ]
  },
  {
   "cell_type": "code",
   "execution_count": 9,
   "metadata": {},
   "outputs": [
    {
     "name": "stdout",
     "output_type": "stream",
     "text": [
      "0, 1, 1, 2, 3, 5, 8, 13, 21, 34, 55, 89, 144, 233, 377, "
     ]
    }
   ],
   "source": [
    "# Clase Fibonacci con la definición de la función __call__\n",
    "class Fibonacci:\n",
    "\n",
    "    def __init__(self):\n",
    "        self.cache = {}\n",
    "\n",
    "    def __call__(self, n):\n",
    "        if n not in self.cache:\n",
    "            if n == 0:\n",
    "                self.cache[0] = 0\n",
    "            elif n == 1:\n",
    "                self.cache[1] = 1\n",
    "            else:\n",
    "                self.cache[n] = self.__call__(n-1) + self.__call__(n-2)\n",
    "        return self.cache[n]\n",
    "\n",
    "# Creamos un objeto\n",
    "fib = Fibonacci()\n",
    "\n",
    "# Usamos el objeto como una función\n",
    "for i in range(15):\n",
    "    print(fib(i), end=\", \")"
   ]
  },
  {
   "cell_type": "markdown",
   "metadata": {},
   "source": [
    "## 3.8 <font color=orange> Decoradores usando clases </font>\n",
    "\n",
    "Supongamos que tenemos el siguiente decorador:"
   ]
  },
  {
   "cell_type": "code",
   "execution_count": 19,
   "metadata": {},
   "outputs": [
    {
     "name": "stdout",
     "output_type": "stream",
     "text": [
      "--------------------------------------------------------------------------------\n",
      "Decorando la función : funcion_x\n",
      "--------------------------------------------------------------------------------\n",
      "Hola mundo pythonico!\n",
      "--------------------------------------------------------------------------------\n"
     ]
    }
   ],
   "source": [
    "def decorador(f):\n",
    "    def helper():\n",
    "        print('-'*80)\n",
    "        print('Decorando la función : {}'.format(f.__name__))\n",
    "        print('-'*80)\n",
    "        f()\n",
    "        print('-'*80)       \n",
    "    return helper\n",
    "\n",
    "@decorador\n",
    "def funcion_x():\n",
    "    print('Hola mundo pythonico!')\n",
    "\n",
    "funcion_x()"
   ]
  },
  {
   "cell_type": "markdown",
   "metadata": {},
   "source": [
    "Usando una clase y la función `__call__` se puede obtener el mismo resultado"
   ]
  },
  {
   "cell_type": "code",
   "execution_count": 21,
   "metadata": {},
   "outputs": [
    {
     "name": "stdout",
     "output_type": "stream",
     "text": [
      "--------------------------------------------------------------------------------\n",
      "Decorando la función : funcion_y\n",
      "--------------------------------------------------------------------------------\n",
      "Hola mundo pythonico!\n",
      "--------------------------------------------------------------------------------\n"
     ]
    }
   ],
   "source": [
    "class ClaseDecorador:\n",
    "    \n",
    "    def __init__(self, f):\n",
    "        self.f = f\n",
    "        \n",
    "    def __call__(self):\n",
    "        print('-'*80)\n",
    "        print('Decorando la función : {}'.format(self.f.__name__))\n",
    "        print('-'*80)\n",
    "        self.f()\n",
    "        print('-'*80)  \n",
    "        \n",
    "\n",
    "@ClaseDecorador\n",
    "def funcion_y():\n",
    "    print('Hola mundo pythonico!')\n",
    "\n",
    "funcion_y()"
   ]
  },
  {
   "cell_type": "code",
   "execution_count": null,
   "metadata": {},
   "outputs": [],
   "source": []
  }
 ],
 "metadata": {
  "kernelspec": {
   "display_name": "Python 3",
   "language": "python",
   "name": "python3"
  },
  "language_info": {
   "codemirror_mode": {
    "name": "ipython",
    "version": 3
   },
   "file_extension": ".py",
   "mimetype": "text/x-python",
   "name": "python",
   "nbconvert_exporter": "python",
   "pygments_lexer": "ipython3",
   "version": "3.7.3"
  }
 },
 "nbformat": 4,
 "nbformat_minor": 2
}
