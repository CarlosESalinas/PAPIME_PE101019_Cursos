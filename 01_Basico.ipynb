{
 "cells": [
  {
   "cell_type": "markdown",
   "metadata": {},
   "source": [
    "# Python 3: Básico\n",
    "Autor: Luis M. de la Cruz, IGF-UNAM, octubre de 2019."
   ]
  },
  {
   "cell_type": "markdown",
   "metadata": {},
   "source": [
    "## Huevo cocido perfecto\n",
    "\n",
    "<img src=\"./Huevo_cocido.jpg\"  style=\"width: 300px;\"/>\n",
    "\n",
    "## Huevo suave. \n",
    "\n",
    "La clara necesita calentarse lo suficiente para coagular a una temperatura de 63 $^o$C, pero la yema no debe llegar a los 70 $^o$C.\n",
    "\n",
    "## Huevo duro.\n",
    "La yema debe calentarse a 70 $^o$C.\n",
    "\n",
    "## Fórmula para calcular el tiempo de cocción.\n",
    "La siguiente fórmula expresa el tiempo $t$, en segundos, que le toma a la yema alcanzar la temperatura $T_y$, en grados Celsius.\n",
    "\n",
    "$t = \\dfrac{M^{2/3} c \\rho^{1/3}}{K \\pi^2 (4\\pi/3)^{2/3}} \\ln \\left[ 0.76 \\dfrac{T_o - T_w}{T_y - T_w}\\right]$\n",
    "\n",
    "donde las propiedades son:\n",
    "\n",
    "- $M$ masa; \n",
    "- $\\rho$ densidad; \n",
    "- $c$ capacidad calorífica específica; \n",
    "- $K$ conductividad térmica; \n",
    "- $T_w$ es la temperatura de ebullición del agua y \n",
    "- $T_o$ es la temperatura original del huevo antes de meterlo al agua. \n",
    "\n",
    "### Ejemplo 1.\n",
    "Hagamos el cálculo para un huevo pequeño.\n",
    "\n",
    "- $M$ = 47 g\n",
    "- $\\rho$ = 1.038 g / cm$^3$\n",
    "- $c$ = 3.7 J / g K\n",
    "- $K$ = 5.4 $\\times 10^{-3}$ W / cm K\n",
    "- $T_w$ = 100 $^o$C\n",
    "- $T_y$ = 70 $^o$C\n",
    "\n",
    "Temperatura original del huevo:\n",
    "- Temperatura ambiente: $To$ = 20 $^o$C.\n",
    "- Temperatura en el refrigerador: $To$ = 4 $^o$C."
   ]
  },
  {
   "cell_type": "markdown",
   "metadata": {},
   "source": [
    "<a href=\"./01_Etiquetas_y_Palabras_Reservadas.ipynb\">Etiquetas y palabras reservadas </a>"
   ]
  },
  {
   "cell_type": "code",
   "execution_count": 2,
   "metadata": {},
   "outputs": [],
   "source": [
    "#Definición de la etiqueta M para identificar al objeto 47\n",
    "M = 47 # La masa está dada en gramos.\n",
    "rho = 1.038 # g /cm^3\n",
    "c = 3.7 # J / g K"
   ]
  },
  {
   "cell_type": "code",
   "execution_count": 3,
   "metadata": {},
   "outputs": [
    {
     "name": "stdout",
     "output_type": "stream",
     "text": [
      "47 1.038 3.7\n"
     ]
    }
   ],
   "source": [
    "print(M, rho, c)"
   ]
  },
  {
   "cell_type": "code",
   "execution_count": 4,
   "metadata": {},
   "outputs": [
    {
     "name": "stdout",
     "output_type": "stream",
     "text": [
      "<class 'int'> <class 'float'> <class 'float'>\n"
     ]
    }
   ],
   "source": [
    "print(type(M), type(rho), type(c))"
   ]
  },
  {
   "cell_type": "markdown",
   "metadata": {},
   "source": [
    "<a href=\"./01_Expr_Decla_Tipos_Oper.ipynb\">Expresiones, Declaraciones, Tipos y Operadores</a>"
   ]
  },
  {
   "cell_type": "code",
   "execution_count": 6,
   "metadata": {},
   "outputs": [],
   "source": [
    "num1 = M**(2/3) * c * rho**(1/3)"
   ]
  },
  {
   "cell_type": "code",
   "execution_count": 8,
   "metadata": {},
   "outputs": [],
   "source": [
    "K = 5.4e-3 # W / cm K"
   ]
  },
  {
   "cell_type": "code",
   "execution_count": 10,
   "metadata": {},
   "outputs": [],
   "source": [
    "import math"
   ]
  },
  {
   "cell_type": "code",
   "execution_count": 12,
   "metadata": {},
   "outputs": [],
   "source": [
    "den1 = K * math.pi**2 * (4 * math.pi / 3)**(2/3)"
   ]
  },
  {
   "cell_type": "code",
   "execution_count": 15,
   "metadata": {},
   "outputs": [],
   "source": [
    "To = 20\n",
    "Tw = 100\n",
    "Ty = 70\n",
    "T = (To - Tw) / (Ty - Tw)"
   ]
  },
  {
   "cell_type": "code",
   "execution_count": 17,
   "metadata": {},
   "outputs": [],
   "source": [
    "t = (num1 /den1) * math.log(0.76 * T)"
   ]
  },
  {
   "cell_type": "code",
   "execution_count": null,
   "metadata": {},
   "outputs": [],
   "source": []
  }
 ],
 "metadata": {
  "kernelspec": {
   "display_name": "Python 3",
   "language": "python",
   "name": "python3"
  },
  "language_info": {
   "codemirror_mode": {
    "name": "ipython",
    "version": 3
   },
   "file_extension": ".py",
   "mimetype": "text/x-python",
   "name": "python",
   "nbconvert_exporter": "python",
   "pygments_lexer": "ipython3",
   "version": "3.7.3"
  }
 },
 "nbformat": 4,
 "nbformat_minor": 2
}
