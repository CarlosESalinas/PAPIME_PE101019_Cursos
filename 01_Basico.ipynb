{
 "cells": [
  {
   "cell_type": "markdown",
   "metadata": {},
   "source": [
    "# Python 3: Básico\n",
    "Autor: Luis M. de la Cruz, IGF-UNAM, octubre de 2019."
   ]
  },
  {
   "cell_type": "markdown",
   "metadata": {},
   "source": [
    "## El huevo cocido perfecto\n",
    "\n",
    "<img src=\"./Figuras/Huevo_cocido.jpg\"  style=\"width: 300px;\"/>\n",
    "\n",
    "## Huevo suave. \n",
    "\n",
    "La clara necesita calentarse lo suficiente para coagular a una temperatura de 63 $^o$C, pero la yema no debe llegar a los 70 $^o$C.\n",
    "\n",
    "## Huevo duro.\n",
    "La yema debe calentarse a 70 $^o$C.\n",
    "\n",
    "## Fórmula para calcular el tiempo de cocción.\n",
    "La siguiente fórmula expresa el tiempo $t$, en segundos, que le toma a la yema alcanzar la temperatura $T_y$, en grados Celsius.\n",
    "\n",
    "$t = \\dfrac{M^{2/3} c \\rho^{1/3}}{K \\pi^2 (4\\pi/3)^{2/3}} \\ln \\left[ 0.76 \\dfrac{T_o - T_w}{T_y - T_w}\\right]$\n",
    "\n",
    "donde las propiedades son:\n",
    "\n",
    "- $M$ masa; \n",
    "- $\\rho$ densidad; \n",
    "- $c$ capacidad calorífica específica; \n",
    "- $K$ conductividad térmica; \n",
    "- $T_w$ es la temperatura de ebullición del agua y \n",
    "- $T_o$ es la temperatura original del huevo antes de meterlo al agua. \n",
    "\n",
    "### Ejercicio 0.\n",
    "Hagamos el cálculo para un huevo pequeño. (La masa de un huevo grande es 67 g)\n",
    "\n",
    "- $M$ = 47 g \n",
    "- $\\rho$ = 1.038 g / cm$^3$\n",
    "- $c$ = 3.7 J / g K\n",
    "- $K$ = 5.4 $\\times 10^{-3}$ W / cm K\n",
    "- $T_w$ = 100 $^o$C\n",
    "- $T_y$ = 70 $^o$C\n",
    "\n",
    "Temperatura original del huevo:\n",
    "- Temperatura ambiente: $T_o$ = 20 $^o$C.\n",
    "- Temperatura en el refrigerador: $T_o$ = 4 $^o$C."
   ]
  },
  {
   "cell_type": "markdown",
   "metadata": {},
   "source": [
    "<a href=\"./T01_Etiquetas_y_Palabras_Reservadas.ipynb\">Etiquetas y palabras reservadas </a>"
   ]
  },
  {
   "cell_type": "code",
   "execution_count": 1,
   "metadata": {},
   "outputs": [],
   "source": [
    "# Datos iniciales\n",
    "M = 47 # [g]\n",
    "rho = 1.038 # [g /cm^3]\n",
    "c = 3.7 # [J / g K]\n",
    "K = 5.4e-3 # [W / cm K]"
   ]
  },
  {
   "cell_type": "markdown",
   "metadata": {},
   "source": [
    "<a href=\"./T02_Expr_Decla_Tipos_Oper.ipynb\">Expresiones, Declaraciones, Tipos y Operadores</a>"
   ]
  },
  {
   "cell_type": "code",
   "execution_count": 2,
   "metadata": {},
   "outputs": [],
   "source": [
    "# Numerador\n",
    "num1 = M**(2/3) * c * rho**(1/3)"
   ]
  },
  {
   "cell_type": "code",
   "execution_count": 3,
   "metadata": {},
   "outputs": [
    {
     "name": "stdout",
     "output_type": "stream",
     "text": [
      "48.790216719661984\n"
     ]
    }
   ],
   "source": [
    "print(num1)"
   ]
  },
  {
   "cell_type": "code",
   "execution_count": 4,
   "metadata": {},
   "outputs": [],
   "source": [
    "# Denominador, necesitamos el valor de Pi.\n",
    "import math\n",
    "# Se puede importar la biblioteca math y ponerle otro nombre \n",
    "#import math as m \n",
    "# Se puede importat solo una función de la biblioteca y ponerle un nombre\n",
    "#from math import sinh as senoHiperbolico"
   ]
  },
  {
   "cell_type": "code",
   "execution_count": 5,
   "metadata": {},
   "outputs": [],
   "source": [
    "den1 = K * math.pi**2 * (4 * math.pi / 3)**(2/3)"
   ]
  },
  {
   "cell_type": "code",
   "execution_count": 6,
   "metadata": {},
   "outputs": [
    {
     "name": "stdout",
     "output_type": "stream",
     "text": [
      "0.13849026450902358\n"
     ]
    }
   ],
   "source": [
    "print(den1)"
   ]
  },
  {
   "cell_type": "markdown",
   "metadata": {},
   "source": [
    "### Ejercicio 1:  \n",
    "Calcular el tiempo de cocción óptimo para obtener un huevo duro, el cual acabamos de sacar del refrigerador."
   ]
  },
  {
   "cell_type": "code",
   "execution_count": 7,
   "metadata": {},
   "outputs": [],
   "source": [
    "To = 4 # [C]\n",
    "Tw = 100 # [C]\n",
    "Ty = 70 # [C]\n",
    "T = (To - Tw) / (Ty - Tw)"
   ]
  },
  {
   "cell_type": "code",
   "execution_count": 8,
   "metadata": {},
   "outputs": [
    {
     "name": "stdout",
     "output_type": "stream",
     "text": [
      "El tiempo de cocción óptimo es: 313.09454902221637 [s]\n"
     ]
    }
   ],
   "source": [
    "t1 = (num1 /den1) * math.log(0.76 * T)\n",
    "print('El tiempo de cocción óptimo es:', t1, '[s]')"
   ]
  },
  {
   "cell_type": "code",
   "execution_count": 9,
   "metadata": {},
   "outputs": [
    {
     "name": "stdout",
     "output_type": "stream",
     "text": [
      "El tiempo de cocción óptimo es: 313.09454902221637 [s]\n"
     ]
    }
   ],
   "source": [
    "t2 = (num1 /den1) * math.log(0.76 * T)\n",
    "print('El tiempo de cocción óptimo es:', t2, '[s]')"
   ]
  },
  {
   "cell_type": "code",
   "execution_count": 10,
   "metadata": {},
   "outputs": [
    {
     "name": "stdout",
     "output_type": "stream",
     "text": [
      "0.0\n"
     ]
    }
   ],
   "source": [
    "print(math.fabs(t2 - t1))"
   ]
  },
  {
   "cell_type": "markdown",
   "metadata": {},
   "source": [
    "### Ejercicio 2:\n",
    "Calcular el tiempo del ejercicio 1 en minutos"
   ]
  },
  {
   "cell_type": "code",
   "execution_count": 11,
   "metadata": {},
   "outputs": [
    {
     "name": "stdout",
     "output_type": "stream",
     "text": [
      "5.218242483703606\n"
     ]
    }
   ],
   "source": [
    "print(t1 / 60)"
   ]
  },
  {
   "cell_type": "markdown",
   "metadata": {},
   "source": [
    "### Ejercicio 3:\n",
    "¿Cómo cambia el tiempo para un huevo tomado del refrigerador contra otro que estaba en la mesa de la cocina? "
   ]
  },
  {
   "cell_type": "markdown",
   "metadata": {},
   "source": [
    "<a href=\"./T03_Estructura_de_Datos.ipynb\">Estructura de datos</a>"
   ]
  },
  {
   "cell_type": "markdown",
   "metadata": {},
   "source": [
    "<a href=\"./T04_Control_de_flujo.ipynb\">Control de flujo</a>"
   ]
  },
  {
   "cell_type": "markdown",
   "metadata": {},
   "source": [
    "### Ejercicio 4:\n",
    "Hacer una lista de tiempos para temperaturas del huevo, desde la que se tiene en el refrigerador hasta temperatura ambiente, en pasos de 1$^o$C."
   ]
  },
  {
   "cell_type": "code",
   "execution_count": 13,
   "metadata": {},
   "outputs": [
    {
     "name": "stdout",
     "output_type": "stream",
     "text": [
      "[4, 5, 6, 7, 8, 9, 10, 11, 12, 13, 14, 15, 16, 17, 18, 19, 20]\n",
      "[5.218242483703606, 5.156758379667707, 5.094623638112833, 5.03182434126508, 4.968346119945966, 4.90417413383796, 4.8392930506595935, 4.773687024177139, 4.7073396709739255, 4.640234045892085, 4.572352616054674, 4.503677233368514, 4.434189105399863, 4.363868764506, 4.292696035095873, 4.220649998882027, 4.147708957974123]\n"
     ]
    }
   ],
   "source": [
    "Ts = []\n",
    "ts = []\n",
    "for i in range(4,21):\n",
    "    Ts.append(i)\n",
    "    t = (num1 /den1) * math.log(0.76 * (i - Tw) / (Ty - Tw))\n",
    "    ts.append(t/60)\n",
    "print(Ts)\n",
    "print(ts)"
   ]
  },
  {
   "cell_type": "markdown",
   "metadata": {},
   "source": [
    "### Ejercicio 5:\n",
    "De la lista creada anteriormente determinar que temperatura debería tener el huevo originalmente para que el tiempo de cocción sea de 5 minutos."
   ]
  },
  {
   "cell_type": "code",
   "execution_count": 44,
   "metadata": {},
   "outputs": [
    {
     "name": "stdout",
     "output_type": "stream",
     "text": [
      "Tiempos [s]: ts[3] : 5.03182; ts[4] : 4.96835\n",
      "Temps   [C]: Ts[3] : 7.00000; Ts[4] : 8.00000\n",
      "Pendiente : -15.75343\n",
      "Ordenada  : 86.26852\n",
      "Temperatura del huevo para una cocción de 5 [m] : 7.5013426747591865 [C]\n"
     ]
    }
   ],
   "source": [
    "# Encontrar el intervalo donde cae el valor de 5 minutos\n",
    "Ip1 = 0 # índice donde se pasa de 5 a menos de 5\n",
    "for i,v in enumerate(ts):\n",
    "    if v < 5.0:\n",
    "        Ip1 = i\n",
    "        print('Tiempos [s]: ts[{}] : {:2.5f}; ts[{}] : {:2.5f}'.format(i-1,ts[i-1],i,v))\n",
    "        print('Temps   [C]: Ts[{}] : {:2.5f}; Ts[{}] : {:2.5f}'.format(i-1,Ts[i-1],i,Ts[i]))\n",
    "        break\n",
    "\n",
    "# Calcular la pendiente:\n",
    "m = (Ts[Ip1] - Ts[Ip1-1]) / (ts[Ip1] - ts[Ip1-1])\n",
    "# Calcular la ordenada al origen:\n",
    "b = Ts[Ip1] - m * ts[Ip1]\n",
    "print('Pendiente : {:2.5f}'.format(m))\n",
    "print('Ordenada  : {:2.5f}'.format(b))\n",
    "\n",
    "# Calcular la temperatura para que la cocción sean 5 minutos\n",
    "tx = 5.0 # 5 minutos en segundos\n",
    "Tx = m * tx + b\n",
    "\n",
    "print('Temperatura del huevo para una cocción de 5 [m] : {} [C]'.format(Tx))"
   ]
  },
  {
   "cell_type": "code",
   "execution_count": 52,
   "metadata": {},
   "outputs": [
    {
     "data": {
      "text/plain": [
       "[<matplotlib.lines.Line2D at 0x112e82cf8>]"
      ]
     },
     "execution_count": 52,
     "metadata": {},
     "output_type": "execute_result"
    },
    {
     "data": {
      "image/png": "[encoded data removed]",
      "text/plain": [
       "<Figure size 432x288 with 1 Axes>"
      ]
     },
     "metadata": {
      "needs_background": "light"
     },
     "output_type": "display_data"
    }
   ],
   "source": [
    "# Grafica de apoyo\n",
    "import numpy as np\n",
    "import matplotlib.pyplot as plt\n",
    "%matplotlib inline\n",
    "x = np.linspace(0,6,10)\n",
    "plt.plot(x,m*x+b)\n",
    "plt.plot(5,m*5+b,'o')"
   ]
  },
  {
   "cell_type": "markdown",
   "metadata": {},
   "source": [
    "<a href=\"./T05_Entrada_Salida_Archivos.ipynb\">Entrada, Salida y Archivos</a>"
   ]
  },
  {
   "cell_type": "markdown",
   "metadata": {},
   "source": [
    "### Ejercicio 6:\n",
    "Escribir un programa que pregunte al usuario el peso del huevo y crear una lista de temperaturas y una la lista de tiempos de cocción para esas temperaturas; crear un archivo con el nombre \"huevo_m_XX\", donde XX indica el peso del huevo; escribir en el archivo las listas de temperaturas y tiempos."
   ]
  },
  {
   "cell_type": "code",
   "execution_count": 54,
   "metadata": {},
   "outputs": [
    {
     "name": "stdout",
     "output_type": "stream",
     "text": [
      "Dame el peso del huevo:55\n"
     ]
    }
   ],
   "source": [
    "peso_huevo = input('Dame el peso del huevo:')\n",
    "archivo = open('huevo_m_{}'.format(peso_huevo), 'w')\n",
    "\n",
    "M = float(peso_huevo)\n",
    "num1 = M**(2/3) * c * rho**(1/3)\n",
    "den1 = K * math.pi**2 * (4 * math.pi / 3)**(2/3)\n",
    "\n",
    "for i in range(4,21):\n",
    "    t = (num1 /den1) * math.log(0.76 * (i - Tw) / (Ty - Tw))\n",
    "    archivo.write('{:>3.8f}\\t{:>3.8f}\\n'.format(i,t/60))\n",
    "    \n",
    "archivo.close()"
   ]
  },
  {
   "cell_type": "markdown",
   "metadata": {},
   "source": [
    "<a href=\"./T06_Funciones_y_Documentacion.ipynb\">Funciones y documentación</a>"
   ]
  },
  {
   "cell_type": "markdown",
   "metadata": {},
   "source": [
    "<a href=\"./T07_Excepciones.ipynb\">Excepciones</a>"
   ]
  },
  {
   "cell_type": "markdown",
   "metadata": {},
   "source": [
    "### Proyecto 1:\n",
    "Organizar los cálculos en funciones que reciban varios tipos de argumentos y que regresen distintos tipos de objetos. La idea es que el programa solicite al usuario la temperatura inicial ($T_o$), el peso del huevo ($M$); El programa debe verificar que $T_o \\in [4,20]$ y $M \\in [47, 67]$ y que los valores introducidos sean compatibles para realizar los cálculos. Los errores deberán ser manejados con excepciones. Documente sus funciones para que el usuario sepa que es lo que hacen."
   ]
  },
  {
   "cell_type": "markdown",
   "metadata": {},
   "source": [
    "<a href=\"./T08_IterablesMapFilter.ipynb\">Iterables, Mapeo y Filtrado</a>"
   ]
  },
  {
   "cell_type": "markdown",
   "metadata": {},
   "source": [
    "<a href=\"T09_LambdaExpressions_Reduce.ipynb\">Lambda Expressions y Reduce </a>"
   ]
  },
  {
   "cell_type": "markdown",
   "metadata": {},
   "source": [
    "<a href=\"T10_Comprehensions.ipynb\">Comprehensions</a>\n"
   ]
  },
  {
   "cell_type": "markdown",
   "metadata": {},
   "source": [
    "<a href=\"T11_IteradoresGeneradores.ipynb\">Iteradores y generadores</a>"
   ]
  },
  {
   "cell_type": "markdown",
   "metadata": {},
   "source": [
    "<a href=\"T12_Decoradores.ipynb\">Decoradores</a>"
   ]
  },
  {
   "cell_type": "markdown",
   "metadata": {},
   "source": [
    "<a href=\"T13_BibliotecaEstandar.ipynb\">Biblioteca estándar</a>"
   ]
  },
  {
   "cell_type": "markdown",
   "metadata": {},
   "source": [
    "### Proyecto 2:\n",
    "Re-programe el proyecto 1 usando una forma más *Pythónica*, dando la posibilidad de usar grados Kelvin y Farenheit. \n",
    "Bonus: Haga uso de <a href=\"./BONUS_IPYWidgets.ipynb\">IPYWidgets</a> para un mejor manejo del programa."
   ]
  }
 ],
 "metadata": {
  "kernelspec": {
   "display_name": "Python 3",
   "language": "python",
   "name": "python3"
  },
  "language_info": {
   "codemirror_mode": {
    "name": "ipython",
    "version": 3
   },
   "file_extension": ".py",
   "mimetype": "text/x-python",
   "name": "python",
   "nbconvert_exporter": "python",
   "pygments_lexer": "ipython3",
   "version": "3.7.3"
  }
 },
 "nbformat": 4,
 "nbformat_minor": 2
}
