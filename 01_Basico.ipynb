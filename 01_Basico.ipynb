{
 "cells": [
  {
   "cell_type": "markdown",
   "metadata": {},
   "source": [
    "# Huevo cocido perfecto\n",
    "\n",
    "<img src=\"./Huevo_cocido.jpg\" />\n",
    "\n",
    "Conforme un huevo se va cocinando, las proteínas sufren cambios estructurales (se desnaturalizan), y luego se coagulan.\n",
    "\n",
    "Cuando la temperatura excede un punto crítico, comienzan a ocurrir algunas reacciones que se van incrementando con el aumento de la temperatura.\n",
    "\n",
    "En la clara, las proteínas comienzan a coagular arriba de los 63 $^o$C, mientras que en la yema este proceso comienza a los 70 $^o$C. \n",
    "\n",
    "Para obtener un huevo suave , la clara necesita calentarse lo suficiente para coagular a una temperatura de 63 $^o$C, pero la yema no debe llegar a los 70 $^o$C.\n",
    "\n",
    "Para obtener un huevo duro, el centro debe calentarse a 70 $^o$C.\n",
    "\n",
    "La siguiente fórmula expresa el tiempo $t$, en segundos, que le toma a la yema alcanzar la temperatura $T_y$ en grados Celsius.\n",
    "\n",
    "$t = \\dfrac{M^{2/3} c \\rho^{1/3}}{K \\pi^2 (4\\pi/3)^{2/3}} \\ln \\left[ 0.76 \\dfrac{T_o - T_w}{T_y - T_w}\\right]$\n",
    "\n",
    "donde las propiedades de huevo son:\n",
    "\n",
    "$M$ masa; $\\rho$ densidad; $c$ capacidad calorífica específica; $K$ conductividad térmica. $T_w$ es la temperatura de ebullición del agua y $T_o$ es la temperatura original del huevo antes de meterlo al agua. \n",
    "\n"
   ]
  },
  {
   "cell_type": "code",
   "execution_count": null,
   "metadata": {},
   "outputs": [],
   "source": []
  },
  {
   "cell_type": "code",
   "execution_count": null,
   "metadata": {},
   "outputs": [],
   "source": []
  }
 ],
 "metadata": {
  "kernelspec": {
   "display_name": "Python 3",
   "language": "python",
   "name": "python3"
  },
  "language_info": {
   "codemirror_mode": {
    "name": "ipython",
    "version": 3
   },
   "file_extension": ".py",
   "mimetype": "text/x-python",
   "name": "python",
   "nbconvert_exporter": "python",
   "pygments_lexer": "ipython3",
   "version": "3.7.3"
  }
 },
 "nbformat": 4,
 "nbformat_minor": 2
}
