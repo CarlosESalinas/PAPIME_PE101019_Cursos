{
 "cells": [
  {
   "cell_type": "markdown",
   "metadata": {},
   "source": [
    "# Python 3: Programación Orientada a Objetos\n",
    "\n",
    "Autor: Luis M. de la Cruz, IGF-UNAM, octubre de 2019.\n"
   ]
  },
  {
   "cell_type": "markdown",
   "metadata": {},
   "source": [
    "# 4. <font color=blue> Herencia y polimorfismo </font>\n",
    "\n",
    "## 4.1 <font color=orange> Herencia </font>\n",
    "\n",
    "- Las clases pueden heredar de otras clases.\n",
    "- Por ejemplo: \n",
    "    - El Círculo se puede clasificar como una forma geométrica.\n",
    "    - Un Rectángulo también es una forma geométrica.\n",
    "    \n",
    "  <img src=\"./Figuras/Herencia.png\" alt=\"Smiley\">"
   ]
  },
  {
   "cell_type": "markdown",
   "metadata": {},
   "source": [
    "### Ejemplo"
   ]
  },
  {
   "cell_type": "code",
   "execution_count": 51,
   "metadata": {},
   "outputs": [],
   "source": [
    "class Forma:\n",
    "    \n",
    "    def __init__(self, nombre):\n",
    "        self._nombre = nombre\n",
    "        \n",
    "    def getNombre(self):\n",
    "        return self._nombre\n",
    "        \n",
    "class Poligono(Forma):\n",
    "    pass"
   ]
  },
  {
   "cell_type": "code",
   "execution_count": 52,
   "metadata": {},
   "outputs": [
    {
     "name": "stdout",
     "output_type": "stream",
     "text": [
      "formita\n",
      "triangulo\n",
      "----------------------------------------\n",
      "<class '__main__.Forma'>\n",
      "<class '__main__.Poligono'>\n",
      "----------------------------------------\n",
      "True False\n",
      "False True\n",
      "----------------------------------------\n",
      "True False\n",
      "True True\n",
      "----------------------------------------\n"
     ]
    }
   ],
   "source": [
    "f = Forma('formita')\n",
    "p = Poligono('triangulo')\n",
    "print(f.getNombre())\n",
    "print(p.getNombre())\n",
    "print('-'*40)\n",
    "\n",
    "print(type(f))\n",
    "print(type(p))\n",
    "print('-'*40)\n",
    "\n",
    "print(type(f) == Forma, type(f) == Poligono)\n",
    "print(type(p) == Forma, type(p) == Poligono)\n",
    "print('-'*40)\n",
    "\n",
    "print(isinstance(f, Forma), isinstance(f, Poligono))\n",
    "print(isinstance(p, Forma), isinstance(p, Poligono))\n",
    "print('-'*40)\n"
   ]
  },
  {
   "cell_type": "markdown",
   "metadata": {},
   "source": [
    "### 4.1 <font color=green> Jerarquías </font>"
   ]
  },
  {
   "cell_type": "code",
   "execution_count": 27,
   "metadata": {},
   "outputs": [
    {
     "name": "stdout",
     "output_type": "stream",
     "text": [
      "False False True\n",
      "False True True\n",
      "True True True\n",
      "True True True\n"
     ]
    }
   ],
   "source": [
    "class A:\n",
    "    pass\n",
    "\n",
    "class B(A):\n",
    "    pass\n",
    "\n",
    "class C(B):\n",
    "    pass\n",
    "\n",
    "class D(B):\n",
    "    pass\n",
    "\n",
    "x = A()\n",
    "y = B()\n",
    "z = C()\n",
    "d = D()\n",
    "print(isinstance(x, C), isinstance(x, B), isinstance(x, A))\n",
    "print(isinstance(y, C), isinstance(y, B), isinstance(x, A))\n",
    "print(isinstance(z, C), isinstance(z, B), isinstance(x, A))\n",
    "print(isinstance(d, D), isinstance(d, B), isinstance(d, A))"
   ]
  },
  {
   "cell_type": "markdown",
   "metadata": {},
   "source": [
    "### 4.2 <font color=green> Overriding </font>\n",
    "\n",
    "Se puede declarar un método en la  clase derivada con el mismo nombre que en la clase base. Cualquier objeto de la clase derivada hará primero referencia al método definido en dicha clase; si no encuentra la función definida en la clase derivada, entonces buscará en la clase padre."
   ]
  },
  {
   "cell_type": "code",
   "execution_count": 61,
   "metadata": {},
   "outputs": [],
   "source": [
    "class Forma:\n",
    "    \n",
    "    def __init__(self, nombre):\n",
    "        self._nombre = nombre\n",
    "        \n",
    "    def getNombre(self):\n",
    "        return self._nombre\n",
    "    \n",
    "    def dibuja(self):\n",
    "        print('El nombre es', self._nombre)\n",
    "        \n",
    "class Circulo(Forma):\n",
    "    def dibuja(self):\n",
    "        print('El nombre es', self._nombre, 'el área : a = pi * r ** 2')\n",
    "        "
   ]
  },
  {
   "cell_type": "code",
   "execution_count": 63,
   "metadata": {},
   "outputs": [
    {
     "name": "stdout",
     "output_type": "stream",
     "text": [
      "El nombre es formita\n",
      "El nombre es ruedita el área : a = pi * r ** 2\n"
     ]
    }
   ],
   "source": [
    "f = Forma('formita')\n",
    "c = Circulo('ruedita')\n",
    "\n",
    "f.dibuja()\n",
    "c.dibuja()"
   ]
  },
  {
   "cell_type": "markdown",
   "metadata": {},
   "source": [
    "### 4.3 <font color=green> Función `super()` </font>"
   ]
  },
  {
   "cell_type": "code",
   "execution_count": 65,
   "metadata": {},
   "outputs": [
    {
     "name": "stdout",
     "output_type": "stream",
     "text": [
      "<class '__main__.Forma'>\n",
      "<class '__main__.Circulo'>\n"
     ]
    }
   ],
   "source": [
    "class Forma:\n",
    "    \n",
    "    def __init__(self, nombre = 'sin nombre'):\n",
    "        self._area = 0.0\n",
    "        self._nombre = nombre\n",
    "\n",
    "    def setNombre(self, nombre):\n",
    "        self._nombre = nombre\n",
    "        \n",
    "    def getNombre(self):\n",
    "        return self._nombre\n",
    "\n",
    "    def getArea(self):\n",
    "        return self._area\n",
    "    \n",
    "    def dibuja(self):\n",
    "        print('El nombre es', self._nombre)\n",
    "        \n",
    "class Circulo(Forma):\n",
    "    def dibuja(self):\n",
    "        print('El nombre es', self._nombre, 'el área : a = pi * r ** 2')\n",
    "\n",
    "from math import pi\n",
    "\n",
    "#        super().__init__(3, 'Circulo')\n",
    "#        type(self).__cuenta += 1\n",
    "\n",
    "class Circulo(Forma):\n",
    "    \n",
    "    __cuenta = 0 # Atributo privado estático para\n",
    "                 # contar el número de círculos \n",
    "    \n",
    "    def __init__(self, radio = None, centro = None):\n",
    "        Forma.__init__(self, 'Circulo') # Se ejecuta el constructor de la base\n",
    "        self.__cuenta += 1\n",
    "        self.__radio = radio\n",
    "        self.__centro = centro\n",
    "        \n",
    "    def __del__(self):\n",
    "        type(self).__cuenta -= 1\n",
    "    \n",
    "    @staticmethod       # Esto parace un decorador\n",
    "    def getCuenta():    # Ahora la función no recibe parámetro\n",
    "        return Circulo.__cuenta\n",
    "    \n",
    "    def setRadio(self, radio):\n",
    "        self.__radio = radio\n",
    "        \n",
    "    def getRadio(self):\n",
    "        return self.__radio\n",
    "\n",
    "    def setCentro(self, centro):\n",
    "        self.__centro = centro\n",
    "    \n",
    "    def getCentro(self):\n",
    "        return self.__centro\n",
    "        \n",
    "    def calcArea(self):\n",
    "        self.setArea(pi * self.__radio ** 2)\n",
    "        return self.getArea()\n",
    "\n",
    "forma_x = Forma()\n",
    "rueda = Circulo(4,(2,3))\n",
    "\n",
    "print(type(forma_x))\n",
    "print(type(rueda))\n"
   ]
  },
  {
   "cell_type": "code",
   "execution_count": 146,
   "metadata": {},
   "outputs": [
    {
     "name": "stdout",
     "output_type": "stream",
     "text": [
      "0.0\n",
      "El área del ' sin nombre ' es  0.0\n",
      "None\n"
     ]
    }
   ],
   "source": [
    "print(forma_x.getArea())\n",
    "print(forma_x.dibujar())"
   ]
  },
  {
   "cell_type": "code",
   "execution_count": 147,
   "metadata": {},
   "outputs": [
    {
     "name": "stdout",
     "output_type": "stream",
     "text": [
      "4 (2, 3)\n"
     ]
    }
   ],
   "source": [
    "print(rueda.getRadio(), rueda.getCentro())"
   ]
  },
  {
   "cell_type": "code",
   "execution_count": 148,
   "metadata": {},
   "outputs": [
    {
     "name": "stdout",
     "output_type": "stream",
     "text": [
      "3.1416\n",
      "El área del ' Circulo ' es  3.1416\n",
      "None\n"
     ]
    }
   ],
   "source": [
    "print(rueda.getArea())\n",
    "print(rueda.dibujar())"
   ]
  },
  {
   "cell_type": "code",
   "execution_count": 149,
   "metadata": {},
   "outputs": [],
   "source": [
    "rueda.calcArea()\n",
    "rueda.setNombre('Polar')"
   ]
  },
  {
   "cell_type": "code",
   "execution_count": 150,
   "metadata": {},
   "outputs": [
    {
     "name": "stdout",
     "output_type": "stream",
     "text": [
      "50.26548245743669\n",
      "Polar\n"
     ]
    }
   ],
   "source": [
    "print(rueda.getArea())\n",
    "print(rueda.getNombre())"
   ]
  },
  {
   "cell_type": "markdown",
   "metadata": {},
   "source": [
    "### Ejercicio\n",
    "Diseñar e implementar la clase Rectángulo."
   ]
  },
  {
   "cell_type": "markdown",
   "metadata": {},
   "source": [
    "## 4.2 <font color=blue> Overriding </font>\n"
   ]
  },
  {
   "cell_type": "code",
   "execution_count": 151,
   "metadata": {},
   "outputs": [
    {
     "name": "stdout",
     "output_type": "stream",
     "text": [
      "<class '__main__.Forma'>\n",
      "<class '__main__.Circulo'>\n"
     ]
    }
   ],
   "source": [
    "class Forma:\n",
    "    \n",
    "    cuenta_total = 0\n",
    "    \n",
    "    def __init__(self, area = 0.0, nombre =  'sin nombre'):\n",
    "        type(self).cuenta_total += 1\n",
    "        self._area = area\n",
    "        self._nombre = nombre\n",
    "    \n",
    "    def getCuenta(self):\n",
    "        return Forma.cuenta_total\n",
    "    \n",
    "    def dibujar(self):\n",
    "        print(\"El área del '\", self._nombre, \"' es \", self._area)\n",
    "    \n",
    "    def setArea(self, area):\n",
    "        self._area = area\n",
    "        \n",
    "    def getArea(self):\n",
    "        return self._area\n",
    "    \n",
    "    def setNombre(self, nombre):\n",
    "        self._nombre = nombre\n",
    "        \n",
    "    def getNombre(self):\n",
    "        return self._nombre\n",
    "\n",
    "from math import pi\n",
    "\n",
    "class Circulo(Forma):\n",
    "    \n",
    "    cuenta = 0 \n",
    "    \n",
    "    def __init__(self, radio = None, centro = None):\n",
    "        Forma.__init__(self, 3.1416, 'Circulo')\n",
    "#        super().__init__(3, 'Circulo')\n",
    "        type(self).cuenta += 1\n",
    "        self.__radio = radio\n",
    "        self.__centro = centro\n",
    "        \n",
    "    def __del__(self):\n",
    "        type(self).cuenta -= 1\n",
    "    \n",
    "    def getCuenta(self):\n",
    "        #aqui tengo que ejecutar getCuenta() de Forma ...\n",
    "        return Circulo.cuenta\n",
    "    \n",
    "    def setRadio(self, radio):\n",
    "        self.__radio = radio\n",
    "        \n",
    "    def getRadio(self):\n",
    "        return self.__radio\n",
    "\n",
    "    def setCentro(self, centro):\n",
    "        self.__centro = centro\n",
    "    \n",
    "    def getCentro(self):\n",
    "        return self.__centro\n",
    "        \n",
    "    def calcArea(self):\n",
    "        self.setArea(pi * self.__radio ** 2)\n",
    "        return self.getArea()\n",
    "\n",
    "forma_x = Forma()\n",
    "rueda = Circulo(4,(2,3))\n",
    "\n",
    "print(type(forma_x))\n",
    "print(type(rueda))\n"
   ]
  },
  {
   "cell_type": "code",
   "execution_count": 152,
   "metadata": {},
   "outputs": [
    {
     "data": {
      "text/plain": [
       "1"
      ]
     },
     "execution_count": 152,
     "metadata": {},
     "output_type": "execute_result"
    }
   ],
   "source": [
    "rueda.getCuenta()"
   ]
  },
  {
   "cell_type": "code",
   "execution_count": 153,
   "metadata": {},
   "outputs": [
    {
     "data": {
      "text/plain": [
       "1"
      ]
     },
     "execution_count": 153,
     "metadata": {},
     "output_type": "execute_result"
    }
   ],
   "source": [
    "forma_x.getCuenta()"
   ]
  },
  {
   "cell_type": "code",
   "execution_count": null,
   "metadata": {},
   "outputs": [],
   "source": []
  }
 ],
 "metadata": {
  "kernelspec": {
   "display_name": "Python 3",
   "language": "python",
   "name": "python3"
  },
  "language_info": {
   "codemirror_mode": {
    "name": "ipython",
    "version": 3
   },
   "file_extension": ".py",
   "mimetype": "text/x-python",
   "name": "python",
   "nbconvert_exporter": "python",
   "pygments_lexer": "ipython3",
   "version": "3.7.3"
  }
 },
 "nbformat": 4,
 "nbformat_minor": 2
}
