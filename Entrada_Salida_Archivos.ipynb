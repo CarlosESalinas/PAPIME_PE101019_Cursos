{
 "cells": [
  {
   "cell_type": "markdown",
   "metadata": {},
   "source": [
    "# Python 3: Básico\n",
    "Autor: Luis M. de la Cruz, IGF-UNAM, octubre de 2019."
   ]
  },
  {
   "cell_type": "markdown",
   "metadata": {},
   "source": [
    "# 2. <font color=blue> Pythonico es más bonito </font>"
   ]
  },
  {
   "cell_type": "markdown",
   "metadata": {},
   "source": [
    "## 2.6 <font color=orange> Entrada y salida estándar </font>\n",
    "\n",
    "Existen varias formas de presentar la salida de un programa al usuario: en la pantalla (generalmente la salida estándar) \n",
    "\n",
    "En ambos casos se desea un control adecuado sobre el formato de la salida. Para ello se tienen varias maneras de controlar la salida:\n",
    "\n",
    "- Con el uso de cadenas con formato, las cuales comienzan con f o F:  "
   ]
  },
  {
   "cell_type": "code",
   "execution_count": 1,
   "metadata": {},
   "outputs": [
    {
     "data": {
      "text/plain": [
       "'Hola mi nombre es LUIS MIGUEL y tengo 25 años'"
      ]
     },
     "execution_count": 1,
     "metadata": {},
     "output_type": "execute_result"
    }
   ],
   "source": [
    "nombre = 'LUIS MIGUEL'\n",
    "edad = 25\n",
    "f'Hola mi nombre es {nombre} y tengo {edad} años'"
   ]
  },
  {
   "cell_type": "code",
   "execution_count": 2,
   "metadata": {},
   "outputs": [
    {
     "name": "stdout",
     "output_type": "stream",
     "text": [
      "El valor de PI es aproximadamente 3.1415926536.\n"
     ]
    }
   ],
   "source": [
    "import math\n",
    "print(f'El valor de PI es aproximadamente {math.pi:.10f}.') # {valor:formato}"
   ]
  },
  {
   "cell_type": "code",
   "execution_count": 3,
   "metadata": {},
   "outputs": [
    {
     "name": "stdout",
     "output_type": "stream",
     "text": [
      "Fulano     ==>      5521345678\n",
      "Sutano     ==>      7712932143\n"
     ]
    }
   ],
   "source": [
    "na1 = 'Fulano'; n1 = 55_21345678\n",
    "na2 = 'Sutano'; n2 = 77_12932143\n",
    "print(f'{na1:10} ==> {n1:15d}') # alineación del texto\n",
    "print(f'{na2:10} ==> {n2:15d}') # alineación del texto"
   ]
  },
  {
   "cell_type": "markdown",
   "metadata": {},
   "source": [
    "Véase <a href=\"https://docs.python.org/3.7/library/string.html#formatspec\"> Format Specification Mini-Language </a>"
   ]
  },
  {
   "cell_type": "markdown",
   "metadata": {},
   "source": [
    "- Con el uso del método format"
   ]
  },
  {
   "cell_type": "code",
   "execution_count": 5,
   "metadata": {},
   "outputs": [
    {
     "name": "stdout",
     "output_type": "stream",
     "text": [
      "El curso se llama \"Python 3 Básico\" y tenemos 100! alumnos\n"
     ]
    }
   ],
   "source": [
    "print('El curso se llama \"{}\" y tenemos {}! alumnos'.format('Python 3 Básico', 100))"
   ]
  },
  {
   "cell_type": "code",
   "execution_count": 6,
   "metadata": {},
   "outputs": [
    {
     "data": {
      "text/plain": [
       "'  42572654 votos a favor (49.67%)'"
      ]
     },
     "execution_count": 6,
     "metadata": {},
     "output_type": "execute_result"
    }
   ],
   "source": [
    "votos_a_favor = 42_572_654\n",
    "votos_en_contra = 43_132_495\n",
    "total_de_votos = votos_a_favor + votos_en_contra\n",
    "porcentaje = votos_a_favor / total_de_votos\n",
    "'{:>10} votos a favor ({:2.2%})'.format(votos_a_favor, porcentaje)"
   ]
  },
  {
   "cell_type": "code",
   "execution_count": 7,
   "metadata": {},
   "outputs": [
    {
     "name": "stdout",
     "output_type": "stream",
     "text": [
      "el huevo y la gallina\n",
      "la gallina y el huevo\n"
     ]
    }
   ],
   "source": [
    "print('{0} y {1}'.format('el huevo', 'la gallina'))\n",
    "print('{1} y {0}'.format('el huevo', 'la gallina'))"
   ]
  },
  {
   "cell_type": "code",
   "execution_count": 8,
   "metadata": {},
   "outputs": [
    {
     "name": "stdout",
     "output_type": "stream",
     "text": [
      "Esta comida es exquisita.\n"
     ]
    }
   ],
   "source": [
    "print('Esta {sustantivo} es {adjetivo}.'.format(adjetivo='exquisita', sustantivo='comida'))"
   ]
  },
  {
   "cell_type": "code",
   "execution_count": 9,
   "metadata": {},
   "outputs": [
    {
     "name": "stdout",
     "output_type": "stream",
     "text": [
      "El Bueno, el Malo, y el Feo.\n"
     ]
    }
   ],
   "source": [
    "print('El {0}, el {1}, y el {otro}.'.format('Bueno', 'Malo',\n",
    "                                                       otro='Feo'))"
   ]
  },
  {
   "cell_type": "code",
   "execution_count": 14,
   "metadata": {},
   "outputs": [
    {
     "name": "stdout",
     "output_type": "stream",
     "text": [
      "Sphynx: 0; Siamés: 5; Siberiano: 4\n"
     ]
    }
   ],
   "source": [
    "dicc = {'Siamés': 5, 'Siberiano': 4, 'Sphynx': 0}\n",
    "print('Sphynx: {0[Sphynx]:d}; Siamés: {0[Siamés]:d}; Siberiano: {0[Siberiano]:d}'.format(dicc))"
   ]
  },
  {
   "cell_type": "code",
   "execution_count": 16,
   "metadata": {},
   "outputs": [
    {
     "name": "stdout",
     "output_type": "stream",
     "text": [
      "Sphynx: 0; Siamés: 5; Siberiano: 4\n"
     ]
    }
   ],
   "source": [
    "print('Sphynx: {Sphynx:d}; Siamés: {Siamés:d}; Siberiano: {Siberiano:d}'.format(**dicc))"
   ]
  },
  {
   "cell_type": "code",
   "execution_count": 23,
   "metadata": {},
   "outputs": [
    {
     "name": "stdout",
     "output_type": "stream",
     "text": [
      " 1   1    1\n",
      " 2   4    8\n",
      " 3   9   27\n",
      " 4  16   64\n",
      " 5  25  125\n",
      " 6  36  216\n",
      " 7  49  343\n",
      " 8  64  512\n",
      " 9  81  729\n",
      "10 100 1000\n"
     ]
    }
   ],
   "source": [
    "for x in range(1, 11):\n",
    "    print('{0:2d} {1:3d} {2:4d}'.format(x, x*x, x*x*x))"
   ]
  },
  {
   "cell_type": "markdown",
   "metadata": {},
   "source": [
    "Véase <a href=\"https://docs.python.org/3.7/library/string.html#formatstrings\"> Format String Syntax </a>"
   ]
  },
  {
   "cell_type": "markdown",
   "metadata": {},
   "source": [
    "### Forma antigüa de formatear la salida"
   ]
  },
  {
   "cell_type": "code",
   "execution_count": 26,
   "metadata": {},
   "outputs": [
    {
     "name": "stdout",
     "output_type": "stream",
     "text": [
      "El valor aproximado de pi es 3.141593.\n"
     ]
    }
   ],
   "source": [
    "import math\n",
    "print('El valor aproximado de pi es %5.6f.' % math.pi)"
   ]
  },
  {
   "cell_type": "markdown",
   "metadata": {},
   "source": [
    "## 2.7 <font color=orange> Manejo de archivos </font>\n",
    "\n",
    "La función clave para el trabajar con archivos es *open()*. Toma dos parámetro: el nombre del archivo y el modo. Existen cuatro diferentes modos:\n",
    "\n",
    "- \"r\" - Read - Default value. Abre el archivo para lectura. Se produce un error si el archvio no existe.\n",
    "- \"a\" - Append - Abre el archivo para agregar información. Si el archivo no existe, lo crea.\n",
    "- \"w\" - Write - Abre el archivo para escritura. Si el archivo no existe, lo crea. Si el archivo existe, lo sobreescribe.\n",
    "- \"x\" - Create - Crea el archivo, regresa un error si el archivo existe.\n",
    "\n",
    "Adicionalmente se puede especificar si el archivo se abre en modo texto o binario:\n",
    "\n",
    "- \"t\" - Text - Valor por omisión. \n",
    "- \"b\" - Binary\n",
    "\n"
   ]
  },
  {
   "cell_type": "code",
   "execution_count": 36,
   "metadata": {},
   "outputs": [],
   "source": [
    "f = open('gatos.txt', 'w')"
   ]
  },
  {
   "cell_type": "code",
   "execution_count": 37,
   "metadata": {},
   "outputs": [],
   "source": [
    "gatos = ['Persa', 'Sphynx', 'Ragdoll','Siamés']\n",
    "peso_minimo = [2.3, 3.5, 5.4, 2.5]\n",
    "dicc = dict(zip(gatos,peso_minimo))"
   ]
  },
  {
   "cell_type": "code",
   "execution_count": 38,
   "metadata": {},
   "outputs": [],
   "source": [
    "for i in dicc:\n",
    "    f.write('{:>10} {:>10} \\n'.format(i,dicc[i]))"
   ]
  },
  {
   "cell_type": "code",
   "execution_count": 39,
   "metadata": {},
   "outputs": [],
   "source": [
    "f.close()"
   ]
  },
  {
   "cell_type": "code",
   "execution_count": 40,
   "metadata": {},
   "outputs": [
    {
     "name": "stdout",
     "output_type": "stream",
     "text": [
      "     Persa        2.3 \n",
      "\n",
      "    Sphynx        3.5 \n",
      "\n",
      "   Ragdoll        5.4 \n",
      "\n",
      "    Siamés        2.5 \n",
      "\n"
     ]
    }
   ],
   "source": [
    "f = open('gatos.txt','r')\n",
    "for i in f:\n",
    "    print(i)\n",
    "f.close()"
   ]
  },
  {
   "cell_type": "code",
   "execution_count": null,
   "metadata": {},
   "outputs": [],
   "source": []
  }
 ],
 "metadata": {
  "kernelspec": {
   "display_name": "Python 3",
   "language": "python",
   "name": "python3"
  },
  "language_info": {
   "codemirror_mode": {
    "name": "ipython",
    "version": 3
   },
   "file_extension": ".py",
   "mimetype": "text/x-python",
   "name": "python",
   "nbconvert_exporter": "python",
   "pygments_lexer": "ipython3",
   "version": "3.7.3"
  }
 },
 "nbformat": 4,
 "nbformat_minor": 2
}
