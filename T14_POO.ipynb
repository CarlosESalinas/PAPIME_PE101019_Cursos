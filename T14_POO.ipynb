{
 "cells": [
  {
   "cell_type": "markdown",
   "metadata": {},
   "source": [
    "# Programación Orientada a Objetos\n",
    "\n",
    "- En Python todo lo que se declara es un objeto!\n",
    "- El lenguaje tiene definidos objetos en su bibloteca estándar.\n",
    "- Los mayoría de las bibliotecas que componen el ecosistema de Python también definen objetos."
   ]
  },
  {
   "cell_type": "code",
   "execution_count": 1,
   "metadata": {},
   "outputs": [
    {
     "data": {
      "text/plain": [
       "int"
      ]
     },
     "execution_count": 1,
     "metadata": {},
     "output_type": "execute_result"
    }
   ],
   "source": [
    "x = 25\n",
    "type(x)"
   ]
  },
  {
   "cell_type": "code",
   "execution_count": 2,
   "metadata": {},
   "outputs": [
    {
     "name": "stdout",
     "output_type": "stream",
     "text": [
      "<class 'int'>\n"
     ]
    }
   ],
   "source": [
    "print(type(x))"
   ]
  },
  {
   "cell_type": "code",
   "execution_count": 3,
   "metadata": {},
   "outputs": [],
   "source": [
    "lista = ['a','b','c']"
   ]
  },
  {
   "cell_type": "code",
   "execution_count": 4,
   "metadata": {},
   "outputs": [
    {
     "name": "stdout",
     "output_type": "stream",
     "text": [
      "<class 'list'>\n"
     ]
    }
   ],
   "source": [
    "print(type(lista))"
   ]
  },
  {
   "cell_type": "code",
   "execution_count": 5,
   "metadata": {},
   "outputs": [],
   "source": [
    "import time\n",
    "clock = time.time()"
   ]
  },
  {
   "cell_type": "code",
   "execution_count": 6,
   "metadata": {},
   "outputs": [
    {
     "name": "stdout",
     "output_type": "stream",
     "text": [
      "<class 'float'>\n"
     ]
    }
   ],
   "source": [
    "print(type(clock))"
   ]
  },
  {
   "cell_type": "code",
   "execution_count": 7,
   "metadata": {},
   "outputs": [
    {
     "data": {
      "text/plain": [
       "array([0., 0., 0., 0., 0.])"
      ]
     },
     "execution_count": 7,
     "metadata": {},
     "output_type": "execute_result"
    }
   ],
   "source": [
    "import numpy as np\n",
    "y = np.zeros(5)\n",
    "y"
   ]
  },
  {
   "cell_type": "code",
   "execution_count": 8,
   "metadata": {},
   "outputs": [
    {
     "name": "stdout",
     "output_type": "stream",
     "text": [
      "<class 'numpy.ndarray'>\n"
     ]
    }
   ],
   "source": [
    "print(type(y))"
   ]
  },
  {
   "cell_type": "code",
   "execution_count": 9,
   "metadata": {},
   "outputs": [
    {
     "name": "stdout",
     "output_type": "stream",
     "text": [
      "<class 'function'>\n"
     ]
    }
   ],
   "source": [
    "def funcion():\n",
    "    pass\n",
    "\n",
    "print(type(funcion))"
   ]
  },
  {
   "cell_type": "markdown",
   "metadata": {},
   "source": [
    "## Los objetos tienen atributos y métodos"
   ]
  },
  {
   "cell_type": "code",
   "execution_count": 10,
   "metadata": {},
   "outputs": [
    {
     "data": {
      "text/plain": [
       "array([0., 0., 0., 0., 0.])"
      ]
     },
     "execution_count": 10,
     "metadata": {},
     "output_type": "execute_result"
    }
   ],
   "source": [
    "y"
   ]
  },
  {
   "cell_type": "code",
   "execution_count": 11,
   "metadata": {},
   "outputs": [
    {
     "data": {
      "text/plain": [
       "(5,)"
      ]
     },
     "execution_count": 11,
     "metadata": {},
     "output_type": "execute_result"
    }
   ],
   "source": [
    "y.shape # atributo"
   ]
  },
  {
   "cell_type": "code",
   "execution_count": 12,
   "metadata": {},
   "outputs": [
    {
     "data": {
      "text/plain": [
       "['a', 'b', 'c']"
      ]
     },
     "execution_count": 12,
     "metadata": {},
     "output_type": "execute_result"
    }
   ],
   "source": [
    "lista"
   ]
  },
  {
   "cell_type": "code",
   "execution_count": 13,
   "metadata": {},
   "outputs": [
    {
     "data": {
      "text/plain": [
       "'c'"
      ]
     },
     "execution_count": 13,
     "metadata": {},
     "output_type": "execute_result"
    }
   ],
   "source": [
    "lista.pop() # método"
   ]
  },
  {
   "cell_type": "code",
   "execution_count": 14,
   "metadata": {},
   "outputs": [
    {
     "data": {
      "text/plain": [
       "['a', 'b']"
      ]
     },
     "execution_count": 14,
     "metadata": {},
     "output_type": "execute_result"
    }
   ],
   "source": [
    "lista"
   ]
  },
  {
   "cell_type": "markdown",
   "metadata": {},
   "source": [
    "## ¿Cómo puedo definir mis propios objetos?.\n",
    "\n",
    "<img src=\"ClasesObjetosPython.png\" alt=\"Smiley\">\n"
   ]
  },
  {
   "cell_type": "code",
   "execution_count": null,
   "metadata": {},
   "outputs": [],
   "source": []
  },
  {
   "cell_type": "code",
   "execution_count": 15,
   "metadata": {},
   "outputs": [],
   "source": [
    "class Circulo:  # Mi primera clase, la más simple de todas\n",
    "    pass\n",
    "\n",
    "rueda = Circulo() # Mi primer objeto, el más simple de todos"
   ]
  },
  {
   "cell_type": "code",
   "execution_count": 16,
   "metadata": {},
   "outputs": [
    {
     "name": "stdout",
     "output_type": "stream",
     "text": [
      "<class '__main__.Circulo'>\n"
     ]
    }
   ],
   "source": [
    "print(type(rueda))"
   ]
  },
  {
   "cell_type": "code",
   "execution_count": 17,
   "metadata": {},
   "outputs": [
    {
     "name": "stdout",
     "output_type": "stream",
     "text": [
      "False\n",
      "True\n"
     ]
    }
   ],
   "source": [
    "rueda1 = Circulo()   # Otro objeto de tipo Circulo\n",
    "rueda2 = rueda       # ¿Qué pasa aquí?\n",
    "print(rueda == rueda1)\n",
    "print(rueda == rueda2)"
   ]
  },
  {
   "cell_type": "code",
   "execution_count": 18,
   "metadata": {},
   "outputs": [
    {
     "name": "stdout",
     "output_type": "stream",
     "text": [
      "4487317880\n",
      "4487333312\n",
      "4487317880\n"
     ]
    }
   ],
   "source": [
    "print(id(rueda))\n",
    "print(id(rueda1))\n",
    "print(id(rueda2))"
   ]
  },
  {
   "cell_type": "markdown",
   "metadata": {},
   "source": [
    "## Definiendo atributos"
   ]
  },
  {
   "cell_type": "code",
   "execution_count": 19,
   "metadata": {},
   "outputs": [],
   "source": [
    "# Se pueden definir atributos \"al vuelo\"\n",
    "rueda.radio = 5\n",
    "rueda.centro = (2.0,3.0)"
   ]
  },
  {
   "cell_type": "code",
   "execution_count": 20,
   "metadata": {},
   "outputs": [
    {
     "name": "stdout",
     "output_type": "stream",
     "text": [
      "5\n",
      "(2.0, 3.0)\n"
     ]
    }
   ],
   "source": [
    "print(rueda.radio)\n",
    "print(rueda.centro)"
   ]
  },
  {
   "cell_type": "code",
   "execution_count": 21,
   "metadata": {},
   "outputs": [
    {
     "name": "stdout",
     "output_type": "stream",
     "text": [
      "5\n",
      "(2.0, 3.0)\n"
     ]
    }
   ],
   "source": [
    "# rueda y rueda2 son \"sinónimos\"\n",
    "print(rueda2.radio)\n",
    "print(rueda2.centro)"
   ]
  },
  {
   "cell_type": "code",
   "execution_count": 22,
   "metadata": {},
   "outputs": [
    {
     "ename": "AttributeError",
     "evalue": "'Circulo' object has no attribute 'radio'",
     "output_type": "error",
     "traceback": [
      "\u001b[0;31m---------------------------------------------------------------------------\u001b[0m",
      "\u001b[0;31mAttributeError\u001b[0m                            Traceback (most recent call last)",
      "\u001b[0;32m<ipython-input-22-2f96e01d66d2>\u001b[0m in \u001b[0;36m<module>\u001b[0;34m()\u001b[0m\n\u001b[1;32m      1\u001b[0m \u001b[0;31m# rueda1 no tiene los mismos atributos, pues es otro objeto\u001b[0m\u001b[0;34m\u001b[0m\u001b[0;34m\u001b[0m\u001b[0m\n\u001b[0;32m----> 2\u001b[0;31m \u001b[0mprint\u001b[0m\u001b[0;34m(\u001b[0m\u001b[0mrueda1\u001b[0m\u001b[0;34m.\u001b[0m\u001b[0mradio\u001b[0m\u001b[0;34m)\u001b[0m\u001b[0;34m\u001b[0m\u001b[0m\n\u001b[0m",
      "\u001b[0;31mAttributeError\u001b[0m: 'Circulo' object has no attribute 'radio'"
     ]
    }
   ],
   "source": [
    "# rueda1 no tiene los mismos atributos, pues es otro objeto\n",
    "print(rueda1.radio)"
   ]
  },
  {
   "cell_type": "code",
   "execution_count": 23,
   "metadata": {},
   "outputs": [
    {
     "data": {
      "text/plain": [
       "{'centro': (2.0, 3.0), 'radio': 5}"
      ]
     },
     "execution_count": 23,
     "metadata": {},
     "output_type": "execute_result"
    }
   ],
   "source": [
    "# Los atributos se almacenan en un diccionario del objeto\n",
    "rueda.__dict__"
   ]
  },
  {
   "cell_type": "code",
   "execution_count": 24,
   "metadata": {},
   "outputs": [
    {
     "data": {
      "text/plain": [
       "{}"
      ]
     },
     "execution_count": 24,
     "metadata": {},
     "output_type": "execute_result"
    }
   ],
   "source": [
    "rueda1.__dict__"
   ]
  },
  {
   "cell_type": "markdown",
   "metadata": {},
   "source": [
    "## Atributos estáticos en funciones\n",
    "- Veamos un ejemplo de este tipo de atributo. Primero en funciones:"
   ]
  },
  {
   "cell_type": "code",
   "execution_count": 25,
   "metadata": {},
   "outputs": [
    {
     "name": "stdout",
     "output_type": "stream",
     "text": [
      "42\n"
     ]
    }
   ],
   "source": [
    "# Definimos una función un poco extraña.\n",
    "def func(x):\n",
    "    return 42\n",
    "\n",
    "print(func(0))"
   ]
  },
  {
   "cell_type": "code",
   "execution_count": 26,
   "metadata": {},
   "outputs": [],
   "source": [
    "func.y = 33 # Podemos definir atributos al vuelo en la función"
   ]
  },
  {
   "cell_type": "code",
   "execution_count": 27,
   "metadata": {},
   "outputs": [
    {
     "name": "stdout",
     "output_type": "stream",
     "text": [
      "33\n"
     ]
    }
   ],
   "source": [
    "print(func.y)"
   ]
  },
  {
   "cell_type": "code",
   "execution_count": 28,
   "metadata": {},
   "outputs": [
    {
     "data": {
      "text/plain": [
       "33"
      ]
     },
     "execution_count": 28,
     "metadata": {},
     "output_type": "execute_result"
    }
   ],
   "source": [
    "getattr(func,'y') # La función de biblioteca getattr obtiene\n",
    "                  # el atributo"
   ]
  },
  {
   "cell_type": "code",
   "execution_count": 29,
   "metadata": {},
   "outputs": [
    {
     "name": "stdout",
     "output_type": "stream",
     "text": [
      "1\n"
     ]
    }
   ],
   "source": [
    "def func(x):\n",
    "    # El tercer argumento en getattr es un valor para el atributo\n",
    "    # en caso de no haberse definido previamente\n",
    "    func.contador = getattr(func, 'contador', 0) + 1\n",
    "    return 'cualquier cosa'\n",
    "\n",
    "func(10)\n",
    "\n",
    "print(func.contador)"
   ]
  },
  {
   "cell_type": "code",
   "execution_count": 30,
   "metadata": {},
   "outputs": [
    {
     "name": "stdout",
     "output_type": "stream",
     "text": [
      "2\n"
     ]
    }
   ],
   "source": [
    "func(1)\n",
    "print(func.contador) # OJO: el valor del contador se \n",
    "                     # va incrementando. Es un atributo estático"
   ]
  },
  {
   "cell_type": "code",
   "execution_count": 31,
   "metadata": {},
   "outputs": [
    {
     "name": "stdout",
     "output_type": "stream",
     "text": [
      "12\n"
     ]
    }
   ],
   "source": [
    "for i in range(10):\n",
    "    func(i)\n",
    "    \n",
    "print(func.contador)"
   ]
  },
  {
   "cell_type": "markdown",
   "metadata": {},
   "source": [
    "## Atributos de clase, en Clases\n",
    "- En las clases, existen este tipo de atributos estáticos, pero se conocen como atributos de clase"
   ]
  },
  {
   "cell_type": "code",
   "execution_count": 32,
   "metadata": {},
   "outputs": [],
   "source": [
    "rueda = Circulo() # Un objeto"
   ]
  },
  {
   "cell_type": "code",
   "execution_count": 33,
   "metadata": {},
   "outputs": [],
   "source": [
    "Circulo.radio = 10 # Definimos al vuelo un atributo de clase"
   ]
  },
  {
   "cell_type": "code",
   "execution_count": 35,
   "metadata": {},
   "outputs": [
    {
     "data": {
      "text/plain": [
       "10"
      ]
     },
     "execution_count": 35,
     "metadata": {},
     "output_type": "execute_result"
    }
   ],
   "source": [
    "rueda.radio"
   ]
  },
  {
   "cell_type": "code",
   "execution_count": 36,
   "metadata": {},
   "outputs": [],
   "source": [
    "rueda1 = Circulo() # Otro objeto"
   ]
  },
  {
   "cell_type": "code",
   "execution_count": 37,
   "metadata": {},
   "outputs": [
    {
     "data": {
      "text/plain": [
       "10"
      ]
     },
     "execution_count": 37,
     "metadata": {},
     "output_type": "execute_result"
    }
   ],
   "source": [
    "rueda1.radio "
   ]
  },
  {
   "cell_type": "code",
   "execution_count": 38,
   "metadata": {},
   "outputs": [
    {
     "data": {
      "text/plain": [
       "{}"
      ]
     },
     "execution_count": 38,
     "metadata": {},
     "output_type": "execute_result"
    }
   ],
   "source": [
    "rueda.__dict__   # No tiene ningún atributo definido"
   ]
  },
  {
   "cell_type": "code",
   "execution_count": 39,
   "metadata": {},
   "outputs": [
    {
     "data": {
      "text/plain": [
       "{}"
      ]
     },
     "execution_count": 39,
     "metadata": {},
     "output_type": "execute_result"
    }
   ],
   "source": [
    "rueda1.__dict__  # Tampoco tiene ningún atributo definido"
   ]
  },
  {
   "cell_type": "code",
   "execution_count": 40,
   "metadata": {},
   "outputs": [
    {
     "data": {
      "text/plain": [
       "mappingproxy({'__dict__': <attribute '__dict__' of 'Circulo' objects>,\n",
       "              '__doc__': None,\n",
       "              '__module__': '__main__',\n",
       "              '__weakref__': <attribute '__weakref__' of 'Circulo' objects>,\n",
       "              'radio': 10})"
      ]
     },
     "execution_count": 40,
     "metadata": {},
     "output_type": "execute_result"
    }
   ],
   "source": [
    "Circulo.__dict__   # Pero la clase si tiene un atributo!"
   ]
  },
  {
   "cell_type": "markdown",
   "metadata": {},
   "source": [
    "## Definiendo métodos"
   ]
  },
  {
   "cell_type": "code",
   "execution_count": 41,
   "metadata": {},
   "outputs": [],
   "source": [
    "from numpy import pi\n",
    "\n",
    "def calcAreaCirculo(objeto):\n",
    "    \"\"\"\n",
    "    Función que calcula el area de un círculo\n",
    "    \"\"\"\n",
    "    r = objeto.radio\n",
    "    return pi * r ** 2"
   ]
  },
  {
   "cell_type": "code",
   "execution_count": 42,
   "metadata": {},
   "outputs": [],
   "source": [
    "class Circulo:\n",
    "    \"\"\"\n",
    "    La clase círculo\n",
    "    \"\"\"\n",
    "    calcArea = calcAreaCirculo # definimos el método \"calcArea\""
   ]
  },
  {
   "cell_type": "code",
   "execution_count": 43,
   "metadata": {},
   "outputs": [
    {
     "data": {
      "text/plain": [
       "314.1592653589793"
      ]
     },
     "execution_count": 43,
     "metadata": {},
     "output_type": "execute_result"
    }
   ],
   "source": [
    "rueda = Circulo()   # Un objeto de tipo círculo\n",
    "rueda.radio = 10    # Defino el atributo radio\n",
    "Circulo.calcArea(rueda) # Calculo el área del objeto \"rueda\""
   ]
  },
  {
   "cell_type": "markdown",
   "metadata": {},
   "source": [
    "## Observaciones importantes\n",
    "- No es conveniente definir los atributos y los métodos en la forma en que se ha presentado antes.\n",
    "- Un método es una función que está declarada dentro de la clase.\n",
    "- El primer parámetro de un método es usado como referencia al objeto que ejecuta el método.\n",
    "- Este primer parámetro se conoce como `self`.\n",
    "- En el ejemplo anterior `self` corresponde al objeto \"rueda\".\n",
    "\n",
    "<img src=\"AtributosDeClase.png\" alt=\"Smiley\">\n",
    "\n",
    "- El método calcArea() de la clase Circulo también se puede ejecutar como sigue:\n",
    "\n",
    "```python\n",
    "rueda.calcArea()\n",
    "```"
   ]
  },
  {
   "cell_type": "code",
   "execution_count": 44,
   "metadata": {},
   "outputs": [
    {
     "data": {
      "text/plain": [
       "314.1592653589793"
      ]
     },
     "execution_count": 44,
     "metadata": {},
     "output_type": "execute_result"
    }
   ],
   "source": [
    "rueda.calcArea()  # Equivalente a Circulo.calcArea(rueda)"
   ]
  },
  {
   "cell_type": "markdown",
   "metadata": {},
   "source": [
    "## Una manera más conveniente de definir clases"
   ]
  },
  {
   "cell_type": "code",
   "execution_count": 45,
   "metadata": {},
   "outputs": [
    {
     "data": {
      "text/plain": [
       "314.1592653589793"
      ]
     },
     "execution_count": 45,
     "metadata": {},
     "output_type": "execute_result"
    }
   ],
   "source": [
    "from numpy import pi\n",
    "\n",
    "class Circulo:\n",
    "    \n",
    "    def calcArea(self):\n",
    "        return pi * self.radio ** 2 # El atributo radio es \n",
    "                                    # declarado en el primer\n",
    "                                    # momento en que es usado\n",
    "                                    # dentro de la clase.\n",
    "\n",
    "rueda = Circulo()  # rueda es un objeto de tipo Circulo\n",
    "rueda.radio = 10   # se define el valor del radio de la rueda\n",
    "rueda.calcArea()   # se ejecuta el método calcArea de la clase Circulo"
   ]
  },
  {
   "cell_type": "code",
   "execution_count": 46,
   "metadata": {},
   "outputs": [
    {
     "data": {
      "text/plain": [
       "31415.926535897932"
      ]
     },
     "execution_count": 46,
     "metadata": {},
     "output_type": "execute_result"
    }
   ],
   "source": [
    "rueda1 = Circulo()\n",
    "rueda1.radio = 100\n",
    "rueda1.calcArea()"
   ]
  },
  {
   "cell_type": "code",
   "execution_count": 47,
   "metadata": {},
   "outputs": [
    {
     "name": "stdout",
     "output_type": "stream",
     "text": [
      "10\n",
      "100\n"
     ]
    }
   ],
   "source": [
    "print(rueda.radio)\n",
    "print(rueda1.radio)"
   ]
  },
  {
   "cell_type": "code",
   "execution_count": 48,
   "metadata": {},
   "outputs": [
    {
     "name": "stdout",
     "output_type": "stream",
     "text": [
      "10 100 10\n",
      "4487303296\n",
      "4487270128\n",
      "4487303296\n"
     ]
    }
   ],
   "source": [
    "rueda2 = rueda\n",
    "print(rueda.radio, rueda1.radio,rueda2.radio)\n",
    "print(id(rueda))\n",
    "print(id(rueda1))\n",
    "print(id(rueda2))"
   ]
  },
  {
   "cell_type": "markdown",
   "metadata": {},
   "source": [
    "### Observación: \n",
    "- La forma en que se declaró el atributo `radio`, de la clase     `Circulo`, no es muy conveniente.\n",
    "- Lo conveniente sería que los atributos de un objeto se declaren inmediatamente después de la creación de un objeto de la clase.\n",
    "- El proceso de creación de un objeto de una clase se conoce en inglés como *instantation*. \n",
    "- Y un objeto concreto de la clase, por ejemplo el objeto `rueda`, se llama en inglés *instance* (que no es lo mismo que instancia en español !!!).\n"
   ]
  },
  {
   "cell_type": "markdown",
   "metadata": {},
   "source": [
    "## El método \\_\\_init\\_\\_ (constructor)\n",
    "\n",
    "- Este método tiene un significado especial en la definición de clases.\n",
    "- Cuando se crea un objeto de una clase, el método `__init__` definido por el usario dentro de la clase se ejecuta automáticamente. \n",
    "\n",
    "### Veamos un ejemplo:"
   ]
  },
  {
   "cell_type": "code",
   "execution_count": 49,
   "metadata": {},
   "outputs": [
    {
     "name": "stdout",
     "output_type": "stream",
     "text": [
      "Hola mundo con clase, estas en __init__\n"
     ]
    }
   ],
   "source": [
    "class A:\n",
    "    \n",
    "    def __init__(self):\n",
    "        print('Hola mundo con clase, estas en __init__')\n",
    "        \n",
    "x = A() # creamos un objeto de la clase A, qué pasará?"
   ]
  },
  {
   "cell_type": "markdown",
   "metadata": {},
   "source": [
    "- Dado lo anterior, lo conveniente es declarar y si se puede también definir los atributos de la clase dentro del método `__init__`\n",
    "\n",
    "### Ejemplo:"
   ]
  },
  {
   "cell_type": "code",
   "execution_count": 51,
   "metadata": {},
   "outputs": [
    {
     "name": "stdout",
     "output_type": "stream",
     "text": [
      "None None\n"
     ]
    },
    {
     "data": {
      "text/plain": [
       "314.1592653589793"
      ]
     },
     "execution_count": 51,
     "metadata": {},
     "output_type": "execute_result"
    }
   ],
   "source": [
    "from numpy import pi\n",
    "\n",
    "class Circulo:\n",
    "    \n",
    "    def __init__(self, radio = None, centro = None):\n",
    "        \"\"\"\n",
    "        El constructor de la clase.\n",
    "        Hay dos atributos: radio y centro.\n",
    "        \"\"\"\n",
    "        self.radio = radio\n",
    "        self.centro = centro\n",
    "        print(self.radio, self.centro)\n",
    "    \n",
    "    def calcArea(self):\n",
    "        \"\"\"\n",
    "        El método que calcula el área.\n",
    "        \"\"\"\n",
    "        return pi * self.radio ** 2\n",
    "    \n",
    "rueda =  Circulo()\n",
    "rueda.radio = 10\n",
    "rueda.calcArea()"
   ]
  },
  {
   "cell_type": "code",
   "execution_count": 52,
   "metadata": {},
   "outputs": [
    {
     "name": "stdout",
     "output_type": "stream",
     "text": [
      "100 None\n"
     ]
    },
    {
     "data": {
      "text/plain": [
       "31415.926535897932"
      ]
     },
     "execution_count": 52,
     "metadata": {},
     "output_type": "execute_result"
    }
   ],
   "source": [
    "rueda1 = Circulo(100)  # se ejecuta __init__ con \n",
    "                       #argumento radio = 100\n",
    "rueda1.calcArea() # como ya se definió el radio, \n",
    "                  # ya se puede calcular el área"
   ]
  },
  {
   "cell_type": "code",
   "execution_count": 53,
   "metadata": {},
   "outputs": [
    {
     "name": "stdout",
     "output_type": "stream",
     "text": [
      "1 (2, 3)\n",
      "3.141592653589793\n",
      "(2, 3)\n"
     ]
    }
   ],
   "source": [
    "rueda2 = Circulo(1,(2,3)) # puedo pasar los dos argumentos.\n",
    "print(rueda2.calcArea())\n",
    "print(rueda2.centro)"
   ]
  },
  {
   "cell_type": "markdown",
   "metadata": {},
   "source": [
    "### Observación:\n",
    "- Al método `__init__` se llama el constructor.\n",
    "- Generalmente en este método se inicializan todas los atributos de la clase, se reserva memoria si es necesario, lo cual *construye* el objeto correspondiente.\n",
    "- Al igual que existe un método constructor, también existe un método destructor que es `__del__`\n",
    "\n",
    "### Ejemplo"
   ]
  },
  {
   "cell_type": "code",
   "execution_count": 55,
   "metadata": {},
   "outputs": [],
   "source": [
    "from numpy import pi\n",
    "\n",
    "class Circulo:\n",
    "    \n",
    "    def __init__(self, radio = None, centro = None):\n",
    "        self.radio = radio\n",
    "        self.centro = centro\n",
    "        \n",
    "    def __del__(self):\n",
    "        print('El objeto será destruido')\n",
    "    \n",
    "    def calcArea(self):\n",
    "        return pi * self.radio ** 2"
   ]
  },
  {
   "cell_type": "code",
   "execution_count": 56,
   "metadata": {},
   "outputs": [
    {
     "name": "stdout",
     "output_type": "stream",
     "text": [
      "314.1592653589793\n",
      "El objeto será destruido\n"
     ]
    }
   ],
   "source": [
    "rueda = Circulo(10,(1,1))\n",
    "print(rueda.calcArea())\n",
    "del(rueda)"
   ]
  },
  {
   "cell_type": "markdown",
   "metadata": {},
   "source": [
    "## Encapsulamiento y ocultamiento de la información\n",
    "\n",
    "- Encapsulamiento: ocultar los atributos de un objeto, de tal manera que sólo se puedan modificar con métodos de la clase.\n",
    "- La encapsulación la podemos realizar con dos tipos de métodos para acceder y modificar los atributos: get y set.\n",
    "\n",
    "### Ejemplo"
   ]
  },
  {
   "cell_type": "code",
   "execution_count": 57,
   "metadata": {},
   "outputs": [],
   "source": [
    "from numpy import pi\n",
    "\n",
    "class Circulo:\n",
    "    \n",
    "    def __init__(self, radio = None, centro = None):\n",
    "        self.radio = radio\n",
    "        self.centro = centro\n",
    "        \n",
    "    def __del__(self):\n",
    "        print('El objeto será destruido')\n",
    "    \n",
    "    def setRadio(self, radio):\n",
    "        self.radio = radio\n",
    "        \n",
    "    def getRadio(self):\n",
    "        return self.radio\n",
    "\n",
    "    def setCentro(self, centro):\n",
    "        self.centro = centro\n",
    "    \n",
    "    def getCentro(self):\n",
    "        return self.centro\n",
    "        \n",
    "    def calcArea(self):\n",
    "        return pi * self.radio ** 2"
   ]
  },
  {
   "cell_type": "code",
   "execution_count": 58,
   "metadata": {},
   "outputs": [
    {
     "name": "stdout",
     "output_type": "stream",
     "text": [
      "2 (3, 4)\n",
      "3.1 (7, 8)\n",
      "3.1 (7, 8)\n"
     ]
    }
   ],
   "source": [
    "rueda = Circulo(2,(3,4))\n",
    "print(rueda.radio, rueda.centro)\n",
    "\n",
    "rueda.setRadio(3.1)\n",
    "rueda.setCentro((7,8))\n",
    "print(rueda.radio, rueda.centro)\n",
    "\n",
    "print(rueda.getRadio(), rueda.getCentro())"
   ]
  },
  {
   "cell_type": "markdown",
   "metadata": {},
   "source": [
    "### Atributos públicos, protegidos y privados"
   ]
  },
  {
   "cell_type": "code",
   "execution_count": 59,
   "metadata": {},
   "outputs": [
    {
     "name": "stdout",
     "output_type": "stream",
     "text": [
      "pub : atributo público\n"
     ]
    }
   ],
   "source": [
    "class miClase():\n",
    "    \n",
    "    def __init__(self):\n",
    "        self.pub = 'pub : atributo público'\n",
    "        self._pro = 'pro : atributo protegido'\n",
    "        self.__pri = 'pri : atributo privado'\n",
    "\n",
    "m = miClase()\n",
    "print(m.pub)"
   ]
  },
  {
   "cell_type": "code",
   "execution_count": 60,
   "metadata": {},
   "outputs": [
    {
     "name": "stdout",
     "output_type": "stream",
     "text": [
      "pro : atributo protegido\n"
     ]
    }
   ],
   "source": [
    "print(m._pro)"
   ]
  },
  {
   "cell_type": "code",
   "execution_count": 61,
   "metadata": {},
   "outputs": [
    {
     "ename": "AttributeError",
     "evalue": "'miClase' object has no attribute '__pri'",
     "output_type": "error",
     "traceback": [
      "\u001b[0;31m---------------------------------------------------------------------------\u001b[0m",
      "\u001b[0;31mAttributeError\u001b[0m                            Traceback (most recent call last)",
      "\u001b[0;32m<ipython-input-61-62dd601a2a9f>\u001b[0m in \u001b[0;36m<module>\u001b[0;34m()\u001b[0m\n\u001b[0;32m----> 1\u001b[0;31m \u001b[0mprint\u001b[0m\u001b[0;34m(\u001b[0m\u001b[0mm\u001b[0m\u001b[0;34m.\u001b[0m\u001b[0m__pri\u001b[0m\u001b[0;34m)\u001b[0m\u001b[0;34m\u001b[0m\u001b[0m\n\u001b[0m",
      "\u001b[0;31mAttributeError\u001b[0m: 'miClase' object has no attribute '__pri'"
     ]
    }
   ],
   "source": [
    "print(m.__pri)"
   ]
  },
  {
   "cell_type": "code",
   "execution_count": 65,
   "metadata": {},
   "outputs": [],
   "source": [
    "from numpy import pi\n",
    "\n",
    "class Circulo:\n",
    "    \n",
    "    def __init__(self, radio = None, centro = None):\n",
    "        self.__radio = radio\n",
    "        self.__centro = centro\n",
    "        \n",
    "    def __del__(self):\n",
    "        print('El objeto será destruido')\n",
    "    \n",
    "    def setRadio(self, radio):\n",
    "        self.__radio = radio\n",
    "        \n",
    "    def getRadio(self):\n",
    "        return self.__radio\n",
    "\n",
    "    def setCentro(self, centro):\n",
    "        self.__centro = centro\n",
    "    \n",
    "    def getCentro(self):\n",
    "        return self.__centro\n",
    "        \n",
    "    def calcArea(self):\n",
    "        return pi * self.__radio ** 2"
   ]
  },
  {
   "cell_type": "code",
   "execution_count": 66,
   "metadata": {},
   "outputs": [
    {
     "name": "stdout",
     "output_type": "stream",
     "text": [
      "El objeto será destruido\n"
     ]
    }
   ],
   "source": [
    "rueda = Circulo(2,(3,4))"
   ]
  },
  {
   "cell_type": "code",
   "execution_count": 67,
   "metadata": {},
   "outputs": [
    {
     "ename": "AttributeError",
     "evalue": "'Circulo' object has no attribute 'radio'",
     "output_type": "error",
     "traceback": [
      "\u001b[0;31m---------------------------------------------------------------------------\u001b[0m",
      "\u001b[0;31mAttributeError\u001b[0m                            Traceback (most recent call last)",
      "\u001b[0;32m<ipython-input-67-6e96c9b3d932>\u001b[0m in \u001b[0;36m<module>\u001b[0;34m()\u001b[0m\n\u001b[0;32m----> 1\u001b[0;31m \u001b[0mprint\u001b[0m\u001b[0;34m(\u001b[0m\u001b[0mrueda\u001b[0m\u001b[0;34m.\u001b[0m\u001b[0mradio\u001b[0m\u001b[0;34m)\u001b[0m\u001b[0;34m\u001b[0m\u001b[0m\n\u001b[0m",
      "\u001b[0;31mAttributeError\u001b[0m: 'Circulo' object has no attribute 'radio'"
     ]
    }
   ],
   "source": [
    "print(rueda.radio)"
   ]
  },
  {
   "cell_type": "code",
   "execution_count": 68,
   "metadata": {},
   "outputs": [
    {
     "name": "stdout",
     "output_type": "stream",
     "text": [
      "2\n"
     ]
    }
   ],
   "source": [
    "print(rueda.getRadio())"
   ]
  },
  {
   "cell_type": "markdown",
   "metadata": {},
   "source": [
    "## Atributos de clase\n",
    "\n",
    "- Hasta ahora los atributos se atribuyen a objetos\n",
    "- Es posible que la clase tenga atributos, los cuales son compartidos por todos los objetos de la clase.\n",
    "\n",
    "### Ejemplo"
   ]
  },
  {
   "cell_type": "code",
   "execution_count": 69,
   "metadata": {},
   "outputs": [
    {
     "name": "stdout",
     "output_type": "stream",
     "text": [
      "Atributo de clase\n",
      "Atributo de clase\n"
     ]
    }
   ],
   "source": [
    "class miClase():\n",
    "    ac = 'Atributo de clase'\n",
    "    \n",
    "c1 = miClase()\n",
    "c2 = miClase()\n",
    "print(c1.ac, c2.ac, sep='\\n')"
   ]
  },
  {
   "cell_type": "markdown",
   "metadata": {},
   "source": [
    "- Para modificar un atributo de clase se debe hacer como sigue:"
   ]
  },
  {
   "cell_type": "code",
   "execution_count": 70,
   "metadata": {},
   "outputs": [],
   "source": [
    "miClase.ac = 'Hola POO'"
   ]
  },
  {
   "cell_type": "code",
   "execution_count": 71,
   "metadata": {},
   "outputs": [
    {
     "name": "stdout",
     "output_type": "stream",
     "text": [
      "Hola POO\n",
      "Hola POO\n"
     ]
    }
   ],
   "source": [
    "print(c1.ac, c2.ac, sep='\\n')"
   ]
  },
  {
   "cell_type": "markdown",
   "metadata": {},
   "source": [
    "- Cuidado con lo siguiente:"
   ]
  },
  {
   "cell_type": "code",
   "execution_count": 72,
   "metadata": {},
   "outputs": [],
   "source": [
    "c1.ac = 'Qué pasará?'"
   ]
  },
  {
   "cell_type": "code",
   "execution_count": 73,
   "metadata": {},
   "outputs": [
    {
     "name": "stdout",
     "output_type": "stream",
     "text": [
      "Qué pasará?\n",
      "Hola POO\n"
     ]
    }
   ],
   "source": [
    "print(c1.ac, c2.ac, sep='\\n')"
   ]
  },
  {
   "cell_type": "code",
   "execution_count": 74,
   "metadata": {},
   "outputs": [
    {
     "name": "stdout",
     "output_type": "stream",
     "text": [
      "{'ac': 'Qué pasará?'}\n",
      "{}\n",
      "{'__module__': '__main__', 'ac': 'Hola POO', '__dict__': <attribute '__dict__' of 'miClase' objects>, '__weakref__': <attribute '__weakref__' of 'miClase' objects>, '__doc__': None}\n"
     ]
    }
   ],
   "source": [
    "print(c1.__dict__)\n",
    "print(c2.__dict__)\n",
    "print(miClase.__dict__)"
   ]
  },
  {
   "cell_type": "markdown",
   "metadata": {},
   "source": [
    "### Ejemplo"
   ]
  },
  {
   "cell_type": "code",
   "execution_count": 76,
   "metadata": {},
   "outputs": [],
   "source": [
    "from numpy import pi\n",
    "\n",
    "class Circulo:\n",
    "    \n",
    "    cuenta = 0\n",
    "    \n",
    "    def __init__(self, radio = None, centro = None):\n",
    "        type(self).cuenta += 1\n",
    "        self.__radio = radio\n",
    "        self.__centro = centro\n",
    "        \n",
    "    def __del__(self):\n",
    "        type(self).cuenta -= 1\n",
    "    \n",
    "    def setRadio(self, radio):\n",
    "        self.__radio = radio\n",
    "        \n",
    "    def getRadio(self):\n",
    "        return self.__radio\n",
    "\n",
    "    def setCentro(self, centro):\n",
    "        self.__centro = centro\n",
    "    \n",
    "    def getCentro(self):\n",
    "        return self.__centro\n",
    "        \n",
    "    def calcArea(self):\n",
    "        return pi * self.__radio ** 2"
   ]
  },
  {
   "cell_type": "code",
   "execution_count": 77,
   "metadata": {},
   "outputs": [
    {
     "name": "stdout",
     "output_type": "stream",
     "text": [
      "El objeto será destruido\n",
      "El objeto será destruido\n",
      "El objeto será destruido\n",
      "Total de círculos: 3\n",
      "Total de círculos: 5\n"
     ]
    }
   ],
   "source": [
    "circ_1 = Circulo(1,(0,0))\n",
    "circ_2 = Circulo(2,(0,0))\n",
    "circ_3 = Circulo(3,(0,0))\n",
    "print('Total de círculos: {}'.format(Circulo.cuenta))\n",
    "circ_4 = Circulo(4,(0,0))\n",
    "circ_5 = Circulo(5,(0,0))\n",
    "print('Total de círculos: {}'.format(Circulo.cuenta))"
   ]
  },
  {
   "cell_type": "code",
   "execution_count": 78,
   "metadata": {},
   "outputs": [
    {
     "name": "stdout",
     "output_type": "stream",
     "text": [
      "Total de círculos: 4\n"
     ]
    }
   ],
   "source": [
    "del circ_1\n",
    "print('Total de círculos: {}'.format(Circulo.cuenta))"
   ]
  },
  {
   "cell_type": "markdown",
   "metadata": {},
   "source": [
    "## Métodos estáticos\n",
    "\n",
    "- Quizá deseamos que nuestro atributo de clase sea privado.\n",
    "- Eso significa que debemos usar un método para acceder a este atributo.\n",
    "\n",
    "### Ejemplo"
   ]
  },
  {
   "cell_type": "code",
   "execution_count": 81,
   "metadata": {},
   "outputs": [],
   "source": [
    "from numpy import pi\n",
    "\n",
    "class Circulo:\n",
    "    \n",
    "    __cuenta = 0 # Ahora este atributo es privado\n",
    "    \n",
    "    def __init__(self, radio = None, centro = None):\n",
    "        type(self).__cuenta += 1\n",
    "        self.__radio = radio\n",
    "        self.__centro = centro\n",
    "        \n",
    "    def __del__(self):\n",
    "        type(self).__cuenta -= 1\n",
    "    \n",
    "    # este no es un metodo estatico\n",
    "    def getCuenta(self):\n",
    "        return Circulo.__cuenta\n",
    "    \n",
    "    def setRadio(self, radio):\n",
    "        self.__radio = radio\n",
    "        \n",
    "    def getRadio(self):\n",
    "        return self.__radio\n",
    "\n",
    "    def setCentro(self, centro):\n",
    "        self.__centro = centro\n",
    "    \n",
    "    def getCentro(self):\n",
    "        return self.__centro\n",
    "        \n",
    "    def calcArea(self):\n",
    "        return pi * self.__radio ** 2"
   ]
  },
  {
   "cell_type": "code",
   "execution_count": 91,
   "metadata": {},
   "outputs": [
    {
     "name": "stdout",
     "output_type": "stream",
     "text": [
      "Total de círculos: 3\n"
     ]
    }
   ],
   "source": [
    "circ_1 = Circulo(1,(0,0))\n",
    "circ_2 = Circulo(2,(0,0))\n",
    "circ_3 = Circulo(3,(0,0))\n",
    "print('Total de círculos: {}'.format(circ_1.getCuenta()))"
   ]
  },
  {
   "cell_type": "code",
   "execution_count": 90,
   "metadata": {},
   "outputs": [
    {
     "ename": "TypeError",
     "evalue": "getCuenta() missing 1 required positional argument: 'self'",
     "output_type": "error",
     "traceback": [
      "\u001b[0;31m---------------------------------------------------------------------------\u001b[0m",
      "\u001b[0;31mTypeError\u001b[0m                                 Traceback (most recent call last)",
      "\u001b[0;32m<ipython-input-90-8df7ded22a0e>\u001b[0m in \u001b[0;36m<module>\u001b[0;34m()\u001b[0m\n\u001b[1;32m      1\u001b[0m \u001b[0;31m# No podemos ejecutar getCuenta() con la clase !!\u001b[0m\u001b[0;34m\u001b[0m\u001b[0;34m\u001b[0m\u001b[0m\n\u001b[0;32m----> 2\u001b[0;31m \u001b[0mprint\u001b[0m\u001b[0;34m(\u001b[0m\u001b[0;34m'Total de círculos: {}'\u001b[0m\u001b[0;34m.\u001b[0m\u001b[0mformat\u001b[0m\u001b[0;34m(\u001b[0m\u001b[0mCirculo\u001b[0m\u001b[0;34m.\u001b[0m\u001b[0mgetCuenta\u001b[0m\u001b[0;34m(\u001b[0m\u001b[0;34m)\u001b[0m\u001b[0;34m)\u001b[0m\u001b[0;34m)\u001b[0m\u001b[0;34m\u001b[0m\u001b[0m\n\u001b[0m",
      "\u001b[0;31mTypeError\u001b[0m: getCuenta() missing 1 required positional argument: 'self'"
     ]
    }
   ],
   "source": [
    "# No podemos ejecutar getCuenta() con la clase !!\n",
    "print('Total de círculos: {}'.format(Circulo.getCuenta()))"
   ]
  },
  {
   "cell_type": "markdown",
   "metadata": {},
   "source": [
    "- Los métodos estáticos permiten ser ejecutados sin necesidad\n",
    "de un objeto de la clase\n",
    "- Veamos como:"
   ]
  },
  {
   "cell_type": "code",
   "execution_count": 93,
   "metadata": {},
   "outputs": [],
   "source": [
    "from numpy import pi\n",
    "\n",
    "class Circulo:\n",
    "    \n",
    "    __cuenta = 0 # Ahora este atributo es privado\n",
    "    \n",
    "    def __init__(self, radio = None, centro = None):\n",
    "        type(self).__cuenta += 1\n",
    "        self.__radio = radio\n",
    "        self.__centro = centro\n",
    "        \n",
    "    def __del__(self):\n",
    "        type(self).__cuenta -= 1\n",
    "    \n",
    "    @staticmethod       # Esto parace un decorador\n",
    "    def getCuenta():    # Ahora la función no recibe parámetro\n",
    "        return Circulo.__cuenta\n",
    "    \n",
    "    def setRadio(self, radio):\n",
    "        self.__radio = radio\n",
    "        \n",
    "    def getRadio(self):\n",
    "        return self.__radio\n",
    "\n",
    "    def setCentro(self, centro):\n",
    "        self.__centro = centro\n",
    "    \n",
    "    def getCentro(self):\n",
    "        return self.__centro\n",
    "        \n",
    "    def calcArea(self):\n",
    "        return pi * self.__radio ** 2"
   ]
  },
  {
   "cell_type": "code",
   "execution_count": 97,
   "metadata": {},
   "outputs": [
    {
     "name": "stdout",
     "output_type": "stream",
     "text": [
      "Total de círculos: 3\n"
     ]
    }
   ],
   "source": [
    "circ_1 = Circulo(1,(0,0))\n",
    "circ_2 = Circulo(2,(0,0))\n",
    "circ_3 = Circulo(3,(0,0))\n",
    "print('Total de círculos: {}'.format(Circulo.getCuenta()))"
   ]
  },
  {
   "cell_type": "code",
   "execution_count": 96,
   "metadata": {},
   "outputs": [
    {
     "name": "stdout",
     "output_type": "stream",
     "text": [
      "Total de círculos: 3\n"
     ]
    }
   ],
   "source": [
    "print('Total de círculos: {}'.format(circ_2.getCuenta()))"
   ]
  },
  {
   "cell_type": "markdown",
   "metadata": {},
   "source": [
    "# Herencia"
   ]
  },
  {
   "cell_type": "markdown",
   "metadata": {},
   "source": [
    "- Las clases pueden heredar de otras clases.\n",
    "- Por ejemplo: \n",
    "    - El Círculo es una forma geométrica.\n",
    "    - Pero también se puede clasificar como una forma geométrica.\n",
    "    - Un Rectángulo también es una forma geométrica.\n",
    "    \n",
    "  <img src=\"Herencia.png\" alt=\"Smiley\">\n",
    "\n",
    "### Ejemplo"
   ]
  },
  {
   "cell_type": "code",
   "execution_count": 98,
   "metadata": {},
   "outputs": [
    {
     "name": "stdout",
     "output_type": "stream",
     "text": [
      "El objeto será destruido\n",
      "<class '__main__.Forma'>\n",
      "<class '__main__.Circulo'>\n"
     ]
    }
   ],
   "source": [
    "class Forma:\n",
    "    \n",
    "    def __init__(self, area = 0.0, nombre =  'sin nombre'):\n",
    "        self._area = area\n",
    "        self._nombre = nombre\n",
    "        \n",
    "    def dibujar(self):\n",
    "        print(\"El área del '\", self._nombre, \"' es \", self._area)\n",
    "    \n",
    "    def setArea(self, area):\n",
    "        self._area = area\n",
    "        \n",
    "    def getArea(self):\n",
    "        return self._area\n",
    "    \n",
    "    def setNombre(self, nombre):\n",
    "        self._nombre = nombre\n",
    "        \n",
    "    def getNombre(self):\n",
    "        return self._nombre\n",
    "\n",
    "from numpy import pi\n",
    "\n",
    "class Circulo(Forma):\n",
    "    \n",
    "    __cuenta = 0 # Ahora este atributo es privado\n",
    "    \n",
    "    def __init__(self, radio = None, centro = None):\n",
    "        Forma.__init__(self, 3.1416, 'Circulo')\n",
    "#        super().__init__(3, 'Circulo')\n",
    "        type(self).__cuenta += 1\n",
    "        self.__radio = radio\n",
    "        self.__centro = centro\n",
    "        \n",
    "    def __del__(self):\n",
    "        type(self).__cuenta -= 1\n",
    "    \n",
    "    @staticmethod       # Esto parace un decorador\n",
    "    def getCuenta():    # Ahora la función no recibe parámetro\n",
    "        return Circulo.__cuenta\n",
    "    \n",
    "    def setRadio(self, radio):\n",
    "        self.__radio = radio\n",
    "        \n",
    "    def getRadio(self):\n",
    "        return self.__radio\n",
    "\n",
    "    def setCentro(self, centro):\n",
    "        self.__centro = centro\n",
    "    \n",
    "    def getCentro(self):\n",
    "        return self.__centro\n",
    "        \n",
    "    def calcArea(self):\n",
    "        self.setArea(pi * self.__radio ** 2)\n",
    "        return self.getArea()\n",
    "\n",
    "forma_x = Forma()\n",
    "rueda = Circulo(4,(2,3))\n",
    "\n",
    "print(type(forma_x))\n",
    "print(type(rueda))\n"
   ]
  },
  {
   "cell_type": "code",
   "execution_count": 99,
   "metadata": {},
   "outputs": [
    {
     "name": "stdout",
     "output_type": "stream",
     "text": [
      "0.0\n",
      "El área del ' sin nombre ' es  0.0\n",
      "None\n"
     ]
    }
   ],
   "source": [
    "print(forma_x.getArea())\n",
    "print(forma_x.dibujar())"
   ]
  },
  {
   "cell_type": "code",
   "execution_count": 100,
   "metadata": {},
   "outputs": [
    {
     "name": "stdout",
     "output_type": "stream",
     "text": [
      "4 (2, 3)\n"
     ]
    }
   ],
   "source": [
    "print(rueda.getRadio(), rueda.getCentro())"
   ]
  },
  {
   "cell_type": "code",
   "execution_count": 101,
   "metadata": {},
   "outputs": [
    {
     "name": "stdout",
     "output_type": "stream",
     "text": [
      "3.1416\n",
      "El área del ' Circulo ' es  3.1416\n",
      "None\n"
     ]
    }
   ],
   "source": [
    "print(rueda.getArea())\n",
    "print(rueda.dibujar())"
   ]
  },
  {
   "cell_type": "code",
   "execution_count": 102,
   "metadata": {},
   "outputs": [],
   "source": [
    "rueda.calcArea()\n",
    "rueda.setNombre('Polar')"
   ]
  },
  {
   "cell_type": "code",
   "execution_count": 103,
   "metadata": {},
   "outputs": [
    {
     "name": "stdout",
     "output_type": "stream",
     "text": [
      "50.26548245743669\n",
      "Polar\n"
     ]
    }
   ],
   "source": [
    "print(rueda.getArea())\n",
    "print(rueda.getNombre())"
   ]
  },
  {
   "cell_type": "markdown",
   "metadata": {},
   "source": [
    "### Ejercicio\n",
    "Diseñar e implementar la clase Rectángulo."
   ]
  },
  {
   "cell_type": "markdown",
   "metadata": {},
   "source": [
    "# Overriding"
   ]
  },
  {
   "cell_type": "code",
   "execution_count": 104,
   "metadata": {},
   "outputs": [
    {
     "name": "stdout",
     "output_type": "stream",
     "text": [
      "<class '__main__.Forma'>\n",
      "<class '__main__.Circulo'>\n"
     ]
    }
   ],
   "source": [
    "class Forma:\n",
    "    \n",
    "    cuenta_total = 0\n",
    "    \n",
    "    def __init__(self, area = 0.0, nombre =  'sin nombre'):\n",
    "        type(self).cuenta_total += 1\n",
    "        self._area = area\n",
    "        self._nombre = nombre\n",
    "    \n",
    "    def getCuenta(self):\n",
    "        return Forma.cuenta_total\n",
    "    \n",
    "    def dibujar(self):\n",
    "        print(\"El área del '\", self._nombre, \"' es \", self._area)\n",
    "    \n",
    "    def setArea(self, area):\n",
    "        self._area = area\n",
    "        \n",
    "    def getArea(self):\n",
    "        return self._area\n",
    "    \n",
    "    def setNombre(self, nombre):\n",
    "        self._nombre = nombre\n",
    "        \n",
    "    def getNombre(self):\n",
    "        return self._nombre\n",
    "\n",
    "from numpy import pi\n",
    "\n",
    "class Circulo(Forma):\n",
    "    \n",
    "    cuenta = 0 # Ahora este atributo es privado\n",
    "    \n",
    "    def __init__(self, radio = None, centro = None):\n",
    "        Forma.__init__(self, 3.1416, 'Circulo')\n",
    "#        super().__init__(3, 'Circulo')\n",
    "        type(self).cuenta += 1\n",
    "        self.__radio = radio\n",
    "        self.__centro = centro\n",
    "        \n",
    "    def __del__(self):\n",
    "        type(self).cuenta -= 1\n",
    "    \n",
    "    def getCuenta(self):\n",
    "        #aqui tengo que ejecutar getCuenta() de Forma ...\n",
    "        return Circulo.cuenta\n",
    "    \n",
    "    def setRadio(self, radio):\n",
    "        self.__radio = radio\n",
    "        \n",
    "    def getRadio(self):\n",
    "        return self.__radio\n",
    "\n",
    "    def setCentro(self, centro):\n",
    "        self.__centro = centro\n",
    "    \n",
    "    def getCentro(self):\n",
    "        return self.__centro\n",
    "        \n",
    "    def calcArea(self):\n",
    "        self.setArea(pi * self.__radio ** 2)\n",
    "        return self.getArea()\n",
    "\n",
    "forma_x = Forma()\n",
    "rueda = Circulo(4,(2,3))\n",
    "\n",
    "print(type(forma_x))\n",
    "print(type(rueda))\n"
   ]
  },
  {
   "cell_type": "code",
   "execution_count": 105,
   "metadata": {},
   "outputs": [
    {
     "data": {
      "text/plain": [
       "1"
      ]
     },
     "execution_count": 105,
     "metadata": {},
     "output_type": "execute_result"
    }
   ],
   "source": [
    "rueda.getCuenta()"
   ]
  },
  {
   "cell_type": "code",
   "execution_count": 106,
   "metadata": {},
   "outputs": [
    {
     "data": {
      "text/plain": [
       "1"
      ]
     },
     "execution_count": 106,
     "metadata": {},
     "output_type": "execute_result"
    }
   ],
   "source": [
    "forma_x.getCuenta()"
   ]
  },
  {
   "cell_type": "code",
   "execution_count": null,
   "metadata": {},
   "outputs": [],
   "source": []
  }
 ],
 "metadata": {
  "kernelspec": {
   "display_name": "Python 3",
   "language": "python",
   "name": "python3"
  },
  "language_info": {
   "codemirror_mode": {
    "name": "ipython",
    "version": 3
   },
   "file_extension": ".py",
   "mimetype": "text/x-python",
   "name": "python",
   "nbconvert_exporter": "python",
   "pygments_lexer": "ipython3",
   "version": "3.7.3"
  }
 },
 "nbformat": 4,
 "nbformat_minor": 2
}
