{
 "cells": [
  {
   "cell_type": "markdown",
   "metadata": {},
   "source": [
    "# Proyecto\n",
    "\n",
    "Crear un sistema que permita realizar el seguimiento de partículas en un fluido en movimiento, el cual está contenido en un dominio cerrado en 2D. El sistema debe permitir al usuario definir: la forma del dominio entre circular y rectangular, el tamaño del dominio, el campo de velocidades mediante una fórmula, la posición inicial de una o varias partículas dentro del dominio, el tiempo durante el cual se hará el seguimiento y el método para realizar el cálculo de la trayectoria. El sistema hará el cálculo y guardará en uno o varios archivos las posiciones de la(s) trayectoria(s), presentará un extracto de estas posiciones en pantalla y graficará el dominio y las trayectorias."
   ]
  },
  {
   "cell_type": "code",
   "execution_count": null,
   "metadata": {},
   "outputs": [],
   "source": []
  }
 ],
 "metadata": {
  "kernelspec": {
   "display_name": "Python 3",
   "language": "python",
   "name": "python3"
  },
  "language_info": {
   "codemirror_mode": {
    "name": "ipython",
    "version": 3
   },
   "file_extension": ".py",
   "mimetype": "text/x-python",
   "name": "python",
   "nbconvert_exporter": "python",
   "pygments_lexer": "ipython3",
   "version": "3.7.3"
  }
 },
 "nbformat": 4,
 "nbformat_minor": 2
}
