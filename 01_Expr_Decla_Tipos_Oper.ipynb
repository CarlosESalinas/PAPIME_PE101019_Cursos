{
 "cells": [
  {
   "cell_type": "markdown",
   "metadata": {},
   "source": [
    "# Python 3: Básico\n",
    "Autor: Luis M. de la Cruz, IGF-UNAM, octubre de 2019."
   ]
  },
  {
   "cell_type": "markdown",
   "metadata": {},
   "source": [
    "# 2. <font color=blue> Pythonico es más bonito </font>"
   ]
  },
  {
   "cell_type": "markdown",
   "metadata": {},
   "source": [
    "## 2.0 <font color=orange> Expresiones y declaraciones </font>"
   ]
  },
  {
   "cell_type": "markdown",
   "metadata": {},
   "source": [
    "Todo programa en Python, se puede descomponer en:\n",
    "- Declaraciones\n",
    "- Expresiones\n",
    "- Funciones\n",
    "- Clases\n",
    "- Módulos"
   ]
  },
  {
   "cell_type": "code",
   "execution_count": null,
   "metadata": {},
   "outputs": [],
   "source": []
  },
  {
   "cell_type": "markdown",
   "metadata": {},
   "source": [
    "## 2.1 <font color=orange> Tipos y operadores </font>"
   ]
  },
  {
   "cell_type": "markdown",
   "metadata": {
    "collapsed": true
   },
   "source": [
    "El tipo de un objeto se determina en tiempo de ejecución (casi siempre).\n",
    "\n",
    "Tres tipos más usados:\n",
    "\n",
    "|Tipo|Ejemplo|\n",
    "|----|-------|\n",
    "|Númerico|13,3.1416,1+5j|\n",
    "| Cadena |\"Frida\",\"Diego\"|\n",
    "| Lógico | True, False|"
   ]
  },
  {
   "cell_type": "markdown",
   "metadata": {},
   "source": [
    "### 2.1.1 <font color=green> Tipos númericos </font>\n",
    "Tres tipos de números:\n",
    "                1. Enteros\n",
    "                2. Reales\n",
    "                3. Complejos\n",
    "\n",
    "Nota: en Python 2 existían los enteros largos que se definían mediante una L al final del número. En Python 3 los enteros forman un solo grupo de números."
   ]
  },
  {
   "cell_type": "markdown",
   "metadata": {},
   "source": [
    "#### 1. Enteros\n",
    "\n",
    "Son aquellos que carecen de parte decimal."
   ]
  },
  {
   "cell_type": "code",
   "execution_count": 9,
   "metadata": {},
   "outputs": [
    {
     "name": "stdout",
     "output_type": "stream",
     "text": [
      "13\n",
      "<class 'int'>\n"
     ]
    }
   ],
   "source": [
    "entero   = 13\n",
    "print(entero)\n",
    "print(type(entero))"
   ]
  },
  {
   "cell_type": "code",
   "execution_count": 10,
   "metadata": {},
   "outputs": [
    {
     "data": {
      "text/plain": [
       "sys.int_info(bits_per_digit=30, sizeof_digit=4)"
      ]
     },
     "execution_count": 10,
     "metadata": {},
     "output_type": "execute_result"
    }
   ],
   "source": [
    "import sys\n",
    "sys.int_info"
   ]
  },
  {
   "cell_type": "markdown",
   "metadata": {},
   "source": [
    "#### 2. Reales\n",
    "\n",
    "Son aquellos que tienen una parte decimal."
   ]
  },
  {
   "cell_type": "code",
   "execution_count": 11,
   "metadata": {},
   "outputs": [
    {
     "name": "stdout",
     "output_type": "stream",
     "text": [
      "3.141592\n",
      "<class 'float'>\n"
     ]
    }
   ],
   "source": [
    "pi     = 3.141592\n",
    "print(pi)\n",
    "print(type(pi))"
   ]
  },
  {
   "cell_type": "code",
   "execution_count": 14,
   "metadata": {},
   "outputs": [
    {
     "data": {
      "text/plain": [
       "sys.float_info(max=1.7976931348623157e+308, max_exp=1024, max_10_exp=308, min=2.2250738585072014e-308, min_exp=-1021, min_10_exp=-307, dig=15, mant_dig=53, epsilon=2.220446049250313e-16, radix=2, rounds=1)"
      ]
     },
     "execution_count": 14,
     "metadata": {},
     "output_type": "execute_result"
    }
   ],
   "source": [
    "#import sys\n",
    "sys.float_info"
   ]
  },
  {
   "cell_type": "markdown",
   "metadata": {},
   "source": [
    "#### 3. Complejos\n",
    "\n",
    "Son aquellos que tienen una parte real y una parte imaginaria, y ambas partes son números reales."
   ]
  },
  {
   "cell_type": "code",
   "execution_count": 16,
   "metadata": {},
   "outputs": [
    {
     "name": "stdout",
     "output_type": "stream",
     "text": [
      "(12+5j)\n",
      "<class 'complex'>\n"
     ]
    }
   ],
   "source": [
    "complejo = 12 + 5j # La parte imaginaria lleva una j a l final\n",
    "print(complejo)\n",
    "print(type(complejo))"
   ]
  },
  {
   "cell_type": "code",
   "execution_count": 17,
   "metadata": {},
   "outputs": [
    {
     "data": {
      "text/plain": [
       "5.0"
      ]
     },
     "execution_count": 17,
     "metadata": {},
     "output_type": "execute_result"
    }
   ],
   "source": [
    "complejo.imag"
   ]
  },
  {
   "cell_type": "code",
   "execution_count": 18,
   "metadata": {},
   "outputs": [
    {
     "data": {
      "text/plain": [
       "12.0"
      ]
     },
     "execution_count": 18,
     "metadata": {},
     "output_type": "execute_result"
    }
   ],
   "source": [
    "complejo.real"
   ]
  },
  {
   "cell_type": "code",
   "execution_count": 20,
   "metadata": {},
   "outputs": [
    {
     "data": {
      "text/plain": [
       "(12-5j)"
      ]
     },
     "execution_count": 20,
     "metadata": {},
     "output_type": "execute_result"
    }
   ],
   "source": [
    "complejo.conjugate()"
   ]
  },
  {
   "cell_type": "markdown",
   "metadata": {},
   "source": [
    "#### Operadores Aritméticos"
   ]
  },
  {
   "cell_type": "code",
   "execution_count": 32,
   "metadata": {},
   "outputs": [
    {
     "data": {
      "text/plain": [
       "3"
      ]
     },
     "execution_count": 32,
     "metadata": {},
     "output_type": "execute_result"
    }
   ],
   "source": [
    "# Suma\n",
    "1 + 2"
   ]
  },
  {
   "cell_type": "code",
   "execution_count": 33,
   "metadata": {},
   "outputs": [
    {
     "data": {
      "text/plain": [
       "-27"
      ]
     },
     "execution_count": 33,
     "metadata": {},
     "output_type": "execute_result"
    }
   ],
   "source": [
    "# Resta\n",
    "5 - 32"
   ]
  },
  {
   "cell_type": "code",
   "execution_count": 34,
   "metadata": {},
   "outputs": [
    {
     "data": {
      "text/plain": [
       "9"
      ]
     },
     "execution_count": 34,
     "metadata": {},
     "output_type": "execute_result"
    }
   ],
   "source": [
    "# Multiplicación\n",
    "3 * 3"
   ]
  },
  {
   "cell_type": "code",
   "execution_count": 35,
   "metadata": {},
   "outputs": [
    {
     "data": {
      "text/plain": [
       "1.5"
      ]
     },
     "execution_count": 35,
     "metadata": {},
     "output_type": "execute_result"
    }
   ],
   "source": [
    "# División\n",
    "3 / 2"
   ]
  },
  {
   "cell_type": "code",
   "execution_count": 40,
   "metadata": {},
   "outputs": [
    {
     "data": {
      "text/plain": [
       "9.0"
      ]
     },
     "execution_count": 40,
     "metadata": {},
     "output_type": "execute_result"
    }
   ],
   "source": [
    "# Potencia\n",
    "81 ** (1/2)"
   ]
  },
  {
   "cell_type": "markdown",
   "metadata": {},
   "source": [
    "<a href=\"https://docs.python.org/3/library/stdtypes.html#numeric-types-int-float-complex\">Numeric types</a>"
   ]
  },
  {
   "cell_type": "code",
   "execution_count": 41,
   "metadata": {},
   "outputs": [
    {
     "data": {
      "text/plain": [
       "11"
      ]
     },
     "execution_count": 41,
     "metadata": {},
     "output_type": "execute_result"
    }
   ],
   "source": [
    "# Precedencia de operaciones\n",
    "1 + 2 * 3 + 4"
   ]
  },
  {
   "cell_type": "code",
   "execution_count": 45,
   "metadata": {},
   "outputs": [
    {
     "data": {
      "text/plain": [
       "21"
      ]
     },
     "execution_count": 45,
     "metadata": {},
     "output_type": "execute_result"
    }
   ],
   "source": [
    "# Uso de paréntesis para modificar la precedencia\n",
    "(1 + 2) * (3 + 4)"
   ]
  },
  {
   "cell_type": "markdown",
   "metadata": {},
   "source": [
    "<a href=\"https://docs.python.org/3/reference/expressions.html#operator-summary\">Operator precedence</a>"
   ]
  },
  {
   "cell_type": "code",
   "execution_count": 47,
   "metadata": {},
   "outputs": [
    {
     "data": {
      "text/plain": [
       "(1+6j)"
      ]
     },
     "execution_count": 47,
     "metadata": {},
     "output_type": "execute_result"
    }
   ],
   "source": [
    "# Operaciones entre tipos diferentes\n",
    "a = 1\n",
    "b = 2 * 3j\n",
    "a + b"
   ]
  },
  {
   "cell_type": "markdown",
   "metadata": {},
   "source": [
    "#### Operadores de asignación"
   ]
  },
  {
   "cell_type": "code",
   "execution_count": 49,
   "metadata": {},
   "outputs": [
    {
     "name": "stdout",
     "output_type": "stream",
     "text": [
      "2.0\n"
     ]
    }
   ],
   "source": [
    "etiqueta = 1.0 \n",
    "suma = 1.0\n",
    "suma += etiqueta  # Equivalente a : suma = suma + etiqueta\n",
    "print(suma)"
   ]
  },
  {
   "cell_type": "code",
   "execution_count": 50,
   "metadata": {},
   "outputs": [
    {
     "data": {
      "text/plain": [
       "3.0"
      ]
     },
     "execution_count": 50,
     "metadata": {},
     "output_type": "execute_result"
    }
   ],
   "source": [
    "suma += 1\n",
    "suma"
   ]
  },
  {
   "cell_type": "code",
   "execution_count": 51,
   "metadata": {},
   "outputs": [
    {
     "data": {
      "text/plain": [
       "1"
      ]
     },
     "execution_count": 51,
     "metadata": {},
     "output_type": "execute_result"
    }
   ],
   "source": [
    "suma = 1\n",
    "suma"
   ]
  },
  {
   "cell_type": "code",
   "execution_count": 53,
   "metadata": {},
   "outputs": [
    {
     "name": "stdout",
     "output_type": "stream",
     "text": [
      "12\n"
     ]
    }
   ],
   "source": [
    "etiqueta =  4\n",
    "resta = 16\n",
    "resta -= etiqueta # Equivalente a : resta = resta - etiqueta\n",
    "print(resta)"
   ]
  },
  {
   "cell_type": "code",
   "execution_count": 54,
   "metadata": {},
   "outputs": [
    {
     "name": "stdout",
     "output_type": "stream",
     "text": [
      "24\n"
     ]
    }
   ],
   "source": [
    "etiqueta = 2\n",
    "mult = 12\n",
    "mult *= etiqueta  # Equivalente a : mult = mult * etiqueta\n",
    "print(mult)"
   ]
  },
  {
   "cell_type": "code",
   "execution_count": 57,
   "metadata": {},
   "outputs": [
    {
     "name": "stdout",
     "output_type": "stream",
     "text": [
      "10.0\n"
     ]
    }
   ],
   "source": [
    "etiqueta = 5\n",
    "divide = 50\n",
    "divide /= etiqueta  # Equivalente a : divide = divide / etiqueta\n",
    "print(divide)"
   ]
  },
  {
   "cell_type": "code",
   "execution_count": 58,
   "metadata": {},
   "outputs": [
    {
     "name": "stdout",
     "output_type": "stream",
     "text": [
      "9\n"
     ]
    }
   ],
   "source": [
    "etiqueta = 2\n",
    "pot = 3\n",
    "pot **= etiqueta # Equivalente a : pot = pot ** etiqueta\n",
    "print(pot)"
   ]
  },
  {
   "cell_type": "code",
   "execution_count": 59,
   "metadata": {},
   "outputs": [
    {
     "name": "stdout",
     "output_type": "stream",
     "text": [
      "0\n"
     ]
    }
   ],
   "source": [
    "etiqueta = 5\n",
    "modulo = 50\n",
    "modulo %= etiqueta # Equivalente a : modulo = modulo % etiqueta\n",
    "print(modulo)"
   ]
  },
  {
   "cell_type": "markdown",
   "metadata": {},
   "source": [
    "### 2.1.2 <font color=green> Cadenas </font>\n",
    "\n",
    "Para definir una cadena se utilizan comillas simples, comillas dobles o comillas triples."
   ]
  },
  {
   "cell_type": "code",
   "execution_count": 61,
   "metadata": {},
   "outputs": [
    {
     "name": "stdout",
     "output_type": "stream",
     "text": [
      "este es un ejemplo\n",
      "este es otro ejemplo\n",
      "este es el tercer ejemplo\n"
     ]
    }
   ],
   "source": [
    "ejemplo = 'este es un ejemplo'\n",
    "print(ejemplo)\n",
    "ejemplo = \"este es otro ejemplo\"\n",
    "print(ejemplo)\n",
    "ejemplo = '''este es el tercer ejemplo'''\n",
    "print(ejemplo)"
   ]
  },
  {
   "cell_type": "code",
   "execution_count": 65,
   "metadata": {
    "scrolled": true
   },
   "outputs": [
    {
     "name": "stdout",
     "output_type": "stream",
     "text": [
      " \n",
      "Desde muy niño\n",
      "tuve que interrumpir mi educuación\n",
      "para ir a la escuela\n",
      "\n"
     ]
    }
   ],
   "source": [
    "queja = ''' \n",
    "Desde muy niño\n",
    "tuve que interrumpir mi educuación\n",
    "para ir a la escuela\n",
    "'''\n",
    "print(queja)"
   ]
  },
  {
   "cell_type": "code",
   "execution_count": 70,
   "metadata": {},
   "outputs": [
    {
     "name": "stdout",
     "output_type": "stream",
     "text": [
      "Enjoy the moments now, because they don't last forever\n"
     ]
    }
   ],
   "source": [
    "poema = \"Enjoy the moments now, because they don't last forever\"\n",
    "print(poema)"
   ]
  },
  {
   "cell_type": "code",
   "execution_count": 76,
   "metadata": {},
   "outputs": [
    {
     "name": "stdout",
     "output_type": "stream",
     "text": [
      "Python \"pythonico\" \n"
     ]
    }
   ],
   "source": [
    "titulo = 'Python \"pythonico\" '\n",
    "print(titulo)"
   ]
  },
  {
   "cell_type": "markdown",
   "metadata": {},
   "source": [
    "#### Formato en código ANSI\n",
    "- Un código de formato lo forma el carácter Escape seguido por tres números enteros separados por un punto y coma (;). \n",
    "- El primero de estos números (un valor de 0 a 7) establece el estilo del texto (negrita, subrayado, etc); el segundo número (de 30 a 37) fija el color del texto y el último número (de 40 a 47) el color del fondo.\n",
    "- El carácter Escape se puede expresar en octal \"\\033\", en hexadecimal \"\\x1b\", o bien, con chr(27).\n",
    "\n",
    "**OJO** : Algunos estilos no están soportados por todas las consolas."
   ]
  },
  {
   "cell_type": "code",
   "execution_count": 108,
   "metadata": {},
   "outputs": [
    {
     "name": "stdout",
     "output_type": "stream",
     "text": [
      "\u001b[0;31mTexto en color rojo\n"
     ]
    }
   ],
   "source": [
    "print(chr(27)+\"[0;31m\"+\"Texto en color rojo\")"
   ]
  },
  {
   "cell_type": "code",
   "execution_count": 109,
   "metadata": {},
   "outputs": [
    {
     "name": "stdout",
     "output_type": "stream",
     "text": [
      "\u001b[1;32mTexto en negrita de color verde\n"
     ]
    }
   ],
   "source": [
    "print(\"\\x1b[1;32m\"+\"Texto en negrita de color verde\") "
   ]
  },
  {
   "cell_type": "code",
   "execution_count": 110,
   "metadata": {},
   "outputs": [
    {
     "name": "stdout",
     "output_type": "stream",
     "text": [
      "\u001b[4;35mTexto subrayado de color morado\n"
     ]
    }
   ],
   "source": [
    "print(\"\\033[4;35m\"+\"Texto subrayado de color morado\") "
   ]
  },
  {
   "cell_type": "code",
   "execution_count": 111,
   "metadata": {},
   "outputs": [
    {
     "name": "stdout",
     "output_type": "stream",
     "text": [
      "\u001b[1;34;46mTexto en negrita de color azul con fondo cyan \n"
     ]
    }
   ],
   "source": [
    "print(\"\\033[1;34;46m\"+\"Texto en negrita de color azul con fondo cyan \")"
   ]
  },
  {
   "cell_type": "markdown",
   "metadata": {},
   "source": [
    "#### Se pueden indexar."
   ]
  },
  {
   "cell_type": "code",
   "execution_count": 118,
   "metadata": {},
   "outputs": [],
   "source": [
    "ejemplo = 'Murciélago'"
   ]
  },
  {
   "cell_type": "code",
   "execution_count": 119,
   "metadata": {},
   "outputs": [
    {
     "data": {
      "text/plain": [
       "'é'"
      ]
     },
     "execution_count": 119,
     "metadata": {},
     "output_type": "execute_result"
    }
   ],
   "source": [
    "ejemplo[5]"
   ]
  },
  {
   "cell_type": "code",
   "execution_count": 120,
   "metadata": {},
   "outputs": [
    {
     "data": {
      "text/plain": [
       "10"
      ]
     },
     "execution_count": 120,
     "metadata": {},
     "output_type": "execute_result"
    }
   ],
   "source": [
    "len(ejemplo)"
   ]
  },
  {
   "cell_type": "code",
   "execution_count": 121,
   "metadata": {},
   "outputs": [
    {
     "ename": "IndexError",
     "evalue": "string index out of range",
     "output_type": "error",
     "traceback": [
      "\u001b[1;31m---------------------------------------------------------------------------\u001b[0m",
      "\u001b[1;31mIndexError\u001b[0m                                Traceback (most recent call last)",
      "\u001b[1;32m<ipython-input-121-6e397be07b0b>\u001b[0m in \u001b[0;36m<module>\u001b[1;34m\u001b[0m\n\u001b[1;32m----> 1\u001b[1;33m \u001b[0mejemplo\u001b[0m\u001b[1;33m[\u001b[0m\u001b[1;36m10\u001b[0m\u001b[1;33m]\u001b[0m\u001b[1;33m\u001b[0m\u001b[1;33m\u001b[0m\u001b[0m\n\u001b[0m",
      "\u001b[1;31mIndexError\u001b[0m: string index out of range"
     ]
    }
   ],
   "source": [
    "ejemplo[10]"
   ]
  },
  {
   "cell_type": "code",
   "execution_count": 122,
   "metadata": {},
   "outputs": [
    {
     "data": {
      "text/plain": [
       "'o'"
      ]
     },
     "execution_count": 122,
     "metadata": {},
     "output_type": "execute_result"
    }
   ],
   "source": [
    "ejemplo[-1]"
   ]
  },
  {
   "cell_type": "markdown",
   "metadata": {},
   "source": [
    "#### Son inmutables."
   ]
  },
  {
   "cell_type": "code",
   "execution_count": 124,
   "metadata": {},
   "outputs": [
    {
     "ename": "TypeError",
     "evalue": "'str' object does not support item assignment",
     "output_type": "error",
     "traceback": [
      "\u001b[1;31m---------------------------------------------------------------------------\u001b[0m",
      "\u001b[1;31mTypeError\u001b[0m                                 Traceback (most recent call last)",
      "\u001b[1;32m<ipython-input-124-ec417be3eaef>\u001b[0m in \u001b[0;36m<module>\u001b[1;34m\u001b[0m\n\u001b[1;32m----> 1\u001b[1;33m \u001b[0mejemplo\u001b[0m\u001b[1;33m[\u001b[0m\u001b[1;36m5\u001b[0m\u001b[1;33m]\u001b[0m \u001b[1;33m=\u001b[0m \u001b[1;34m\"e\"\u001b[0m\u001b[1;33m\u001b[0m\u001b[1;33m\u001b[0m\u001b[0m\n\u001b[0m",
      "\u001b[1;31mTypeError\u001b[0m: 'str' object does not support item assignment"
     ]
    }
   ],
   "source": [
    "ejemplo[5] = \"e\""
   ]
  },
  {
   "cell_type": "markdown",
   "metadata": {},
   "source": [
    "#### Acceso a los elementos (slicing)"
   ]
  },
  {
   "cell_type": "markdown",
   "metadata": {},
   "source": [
    "Se puede obtener una subcadena a partir de la cadena original. La sintaxis es la siguiente:\n",
    "\n",
    "cadena[Start:End:Stride]\n",
    "\n",
    "**Start** :Índice del primer caracter para formar la subcadena.\n",
    "\n",
    "\n",
    "**End** : Índice (menos uno) que indica el caracter final de la subcadena.\n",
    "\n",
    "**Stride**: Salto entre elementos."
   ]
  },
  {
   "cell_type": "code",
   "execution_count": 129,
   "metadata": {},
   "outputs": [
    {
     "data": {
      "text/plain": [
       "'Murciélago'"
      ]
     },
     "execution_count": 129,
     "metadata": {},
     "output_type": "execute_result"
    }
   ],
   "source": [
    "ejemplo[:] # Cadena completa"
   ]
  },
  {
   "cell_type": "code",
   "execution_count": 130,
   "metadata": {},
   "outputs": [
    {
     "data": {
      "text/plain": [
       "'Mur'"
      ]
     },
     "execution_count": 130,
     "metadata": {},
     "output_type": "execute_result"
    }
   ],
   "source": [
    "ejemplo[0:3] "
   ]
  },
  {
   "cell_type": "code",
   "execution_count": 128,
   "metadata": {},
   "outputs": [
    {
     "data": {
      "text/plain": [
       "'Mrilg'"
      ]
     },
     "execution_count": 128,
     "metadata": {},
     "output_type": "execute_result"
    }
   ],
   "source": [
    "ejemplo[::2]"
   ]
  },
  {
   "cell_type": "code",
   "execution_count": 132,
   "metadata": {},
   "outputs": [
    {
     "data": {
      "text/plain": [
       "'ucéa'"
      ]
     },
     "execution_count": 132,
     "metadata": {},
     "output_type": "execute_result"
    }
   ],
   "source": [
    "ejemplo[1:8:2]"
   ]
  },
  {
   "cell_type": "code",
   "execution_count": 133,
   "metadata": {},
   "outputs": [
    {
     "data": {
      "text/plain": [
       "'ogaléicruM'"
      ]
     },
     "execution_count": 133,
     "metadata": {},
     "output_type": "execute_result"
    }
   ],
   "source": [
    "ejemplo[::-1]"
   ]
  },
  {
   "cell_type": "markdown",
   "metadata": {},
   "source": [
    "#### Operaciones básicas con cadenas\n",
    "\n",
    "Los operadores: + y * están definidos para las cadenas."
   ]
  },
  {
   "cell_type": "code",
   "execution_count": 134,
   "metadata": {},
   "outputs": [
    {
     "data": {
      "text/plain": [
       "'Luis Miguel'"
      ]
     },
     "execution_count": 134,
     "metadata": {},
     "output_type": "execute_result"
    }
   ],
   "source": [
    "'Luis' + ' ' + 'Miguel' # Concatenación"
   ]
  },
  {
   "cell_type": "code",
   "execution_count": 135,
   "metadata": {},
   "outputs": [
    {
     "data": {
      "text/plain": [
       "'ABCABCABC'"
      ]
     },
     "execution_count": 135,
     "metadata": {},
     "output_type": "execute_result"
    }
   ],
   "source": [
    "'ABC' * 3 # Repetición"
   ]
  },
  {
   "cell_type": "markdown",
   "metadata": {},
   "source": [
    "#### Funciones aplicables sobre las cadenas"
   ]
  },
  {
   "cell_type": "code",
   "execution_count": 148,
   "metadata": {},
   "outputs": [
    {
     "name": "stdout",
     "output_type": "stream",
     "text": [
      "murcielago\n",
      "Murcielago\n",
      "MURCIELAGO\n",
      "5\n",
      "1\n",
      "True\n"
     ]
    }
   ],
   "source": [
    "ejemplo = 'murcielago'\n",
    "print(ejemplo)\n",
    "print(ejemplo.capitalize())\n",
    "print(ejemplo.upper())\n",
    "print(ejemplo.find('e'))\n",
    "print(ejemplo.count('g'))\n",
    "print(ejemplo.isprintable())"
   ]
  },
  {
   "cell_type": "markdown",
   "metadata": {},
   "source": [
    "### 2.1.2 <font color=green> Lógicos </font>\n",
    "\n",
    "Es un tipo utilizado para realizar operaciones lógicas y puede tomar dos valores: **True** o **False**."
   ]
  },
  {
   "cell_type": "code",
   "execution_count": 149,
   "metadata": {},
   "outputs": [],
   "source": [
    "bandera = True "
   ]
  },
  {
   "cell_type": "markdown",
   "metadata": {},
   "source": [
    "#### Operadores lógicos\n"
   ]
  },
  {
   "cell_type": "code",
   "execution_count": 150,
   "metadata": {},
   "outputs": [
    {
     "data": {
      "text/plain": [
       "False"
      ]
     },
     "execution_count": 150,
     "metadata": {},
     "output_type": "execute_result"
    }
   ],
   "source": [
    "35 > 562"
   ]
  },
  {
   "cell_type": "code",
   "execution_count": 151,
   "metadata": {},
   "outputs": [
    {
     "data": {
      "text/plain": [
       "True"
      ]
     },
     "execution_count": 151,
     "metadata": {},
     "output_type": "execute_result"
    }
   ],
   "source": [
    "32 >= 21"
   ]
  },
  {
   "cell_type": "code",
   "execution_count": 152,
   "metadata": {},
   "outputs": [
    {
     "data": {
      "text/plain": [
       "True"
      ]
     },
     "execution_count": 152,
     "metadata": {},
     "output_type": "execute_result"
    }
   ],
   "source": [
    "12 < 34"
   ]
  },
  {
   "cell_type": "code",
   "execution_count": 153,
   "metadata": {},
   "outputs": [
    {
     "data": {
      "text/plain": [
       "True"
      ]
     },
     "execution_count": 153,
     "metadata": {},
     "output_type": "execute_result"
    }
   ],
   "source": [
    "12 <= 25"
   ]
  },
  {
   "cell_type": "code",
   "execution_count": 154,
   "metadata": {},
   "outputs": [
    {
     "data": {
      "text/plain": [
       "True"
      ]
     },
     "execution_count": 154,
     "metadata": {},
     "output_type": "execute_result"
    }
   ],
   "source": [
    "5 == 5 "
   ]
  },
  {
   "cell_type": "code",
   "execution_count": 155,
   "metadata": {},
   "outputs": [
    {
     "data": {
      "text/plain": [
       "False"
      ]
     },
     "execution_count": 155,
     "metadata": {},
     "output_type": "execute_result"
    }
   ],
   "source": [
    "23 != 23"
   ]
  },
  {
   "cell_type": "code",
   "execution_count": 156,
   "metadata": {},
   "outputs": [
    {
     "data": {
      "text/plain": [
       "True"
      ]
     },
     "execution_count": 156,
     "metadata": {},
     "output_type": "execute_result"
    }
   ],
   "source": [
    "'aaa' == 'aaa'"
   ]
  },
  {
   "cell_type": "markdown",
   "metadata": {},
   "source": [
    "#### Operaciones lógicas básicas\n",
    "\n",
    "1. and\n",
    "2. or\n",
    "3. not"
   ]
  },
  {
   "cell_type": "code",
   "execution_count": 157,
   "metadata": {},
   "outputs": [
    {
     "data": {
      "text/plain": [
       "True"
      ]
     },
     "execution_count": 157,
     "metadata": {},
     "output_type": "execute_result"
    }
   ],
   "source": [
    "(5 < 32) and (63 > 32)"
   ]
  },
  {
   "cell_type": "code",
   "execution_count": 158,
   "metadata": {},
   "outputs": [
    {
     "data": {
      "text/plain": [
       "False"
      ]
     },
     "execution_count": 158,
     "metadata": {},
     "output_type": "execute_result"
    }
   ],
   "source": [
    "(2.32 < 21) and (23 > 63)"
   ]
  },
  {
   "cell_type": "code",
   "execution_count": 159,
   "metadata": {},
   "outputs": [
    {
     "data": {
      "text/plain": [
       "True"
      ]
     },
     "execution_count": 159,
     "metadata": {},
     "output_type": "execute_result"
    }
   ],
   "source": [
    "(32 == 32) or (5 < 31)\n"
   ]
  },
  {
   "cell_type": "code",
   "execution_count": 160,
   "metadata": {},
   "outputs": [
    {
     "data": {
      "text/plain": [
       "False"
      ]
     },
     "execution_count": 160,
     "metadata": {},
     "output_type": "execute_result"
    }
   ],
   "source": [
    "(32 == 21) or (31 < 5) "
   ]
  },
  {
   "cell_type": "code",
   "execution_count": 161,
   "metadata": {},
   "outputs": [
    {
     "data": {
      "text/plain": [
       "False"
      ]
     },
     "execution_count": 161,
     "metadata": {},
     "output_type": "execute_result"
    }
   ],
   "source": [
    "not True "
   ]
  },
  {
   "cell_type": "code",
   "execution_count": 162,
   "metadata": {},
   "outputs": [
    {
     "data": {
      "text/plain": [
       "True"
      ]
     },
     "execution_count": 162,
     "metadata": {},
     "output_type": "execute_result"
    }
   ],
   "source": [
    "not (32 != 32)"
   ]
  },
  {
   "cell_type": "code",
   "execution_count": 163,
   "metadata": {},
   "outputs": [
    {
     "data": {
      "text/plain": [
       "False"
      ]
     },
     "execution_count": 163,
     "metadata": {},
     "output_type": "execute_result"
    }
   ],
   "source": [
    "(0.4 - 0.3) == 0.1 "
   ]
  },
  {
   "cell_type": "markdown",
   "metadata": {
    "collapsed": true
   },
   "source": [
    "## 2.2 <font color=orange> Fuertemente Tipado </font>\n",
    "\n",
    "Esta característica impide que se realizen operaciones entre tipos no compatibles."
   ]
  },
  {
   "cell_type": "code",
   "execution_count": 167,
   "metadata": {},
   "outputs": [],
   "source": [
    "lógico = True \n",
    "real   = 220  \n",
    "entero = 284\n",
    "complejo = 1+1j\n",
    "cadena = 'numeros hermanos'"
   ]
  },
  {
   "cell_type": "code",
   "execution_count": 168,
   "metadata": {},
   "outputs": [
    {
     "data": {
      "text/plain": [
       "221"
      ]
     },
     "execution_count": 168,
     "metadata": {},
     "output_type": "execute_result"
    }
   ],
   "source": [
    "lógico + real"
   ]
  },
  {
   "cell_type": "code",
   "execution_count": 169,
   "metadata": {},
   "outputs": [
    {
     "data": {
      "text/plain": [
       "(2+1j)"
      ]
     },
     "execution_count": 169,
     "metadata": {},
     "output_type": "execute_result"
    }
   ],
   "source": [
    "lógico + complejo"
   ]
  },
  {
   "cell_type": "code",
   "execution_count": 170,
   "metadata": {
    "scrolled": true
   },
   "outputs": [
    {
     "ename": "TypeError",
     "evalue": "can only concatenate str (not \"int\") to str",
     "output_type": "error",
     "traceback": [
      "\u001b[1;31m---------------------------------------------------------------------------\u001b[0m",
      "\u001b[1;31mTypeError\u001b[0m                                 Traceback (most recent call last)",
      "\u001b[1;32m<ipython-input-170-46589d476860>\u001b[0m in \u001b[0;36m<module>\u001b[1;34m\u001b[0m\n\u001b[1;32m----> 1\u001b[1;33m \u001b[0mcadena\u001b[0m \u001b[1;33m+\u001b[0m \u001b[0mreal\u001b[0m  \u001b[1;31m# Tipos no compatibles\u001b[0m\u001b[1;33m\u001b[0m\u001b[1;33m\u001b[0m\u001b[0m\n\u001b[0m",
      "\u001b[1;31mTypeError\u001b[0m: can only concatenate str (not \"int\") to str"
     ]
    }
   ],
   "source": [
    "cadena + real  # Tipos no compatibles"
   ]
  },
  {
   "cell_type": "markdown",
   "metadata": {},
   "source": [
    "### 2.2.1 <font color=green> Casting </font>\n",
    "\n",
    "Operación para transformar un tipo en otro tipo compatible."
   ]
  },
  {
   "cell_type": "markdown",
   "metadata": {},
   "source": [
    "#### int()\n",
    "Transforma objetos en enteros, siempre y cuando haya compatibilidad."
   ]
  },
  {
   "cell_type": "code",
   "execution_count": 172,
   "metadata": {},
   "outputs": [
    {
     "name": "stdout",
     "output_type": "stream",
     "text": [
      "<class 'str'>\n",
      "<class 'int'>\n"
     ]
    }
   ],
   "source": [
    "cadena = '1000'\n",
    "print(type(cadena))\n",
    "entero = int(cadena)\n",
    "print(type(entero))"
   ]
  },
  {
   "cell_type": "code",
   "execution_count": 174,
   "metadata": {},
   "outputs": [
    {
     "name": "stdout",
     "output_type": "stream",
     "text": [
      "3\n"
     ]
    }
   ],
   "source": [
    "flotante = 3.141592\n",
    "entero  = int(flotante) # Trunca la parte decimal\n",
    "print(entero)"
   ]
  },
  {
   "cell_type": "code",
   "execution_count": 175,
   "metadata": {},
   "outputs": [
    {
     "ename": "TypeError",
     "evalue": "can't convert complex to int",
     "output_type": "error",
     "traceback": [
      "\u001b[1;31m---------------------------------------------------------------------------\u001b[0m",
      "\u001b[1;31mTypeError\u001b[0m                                 Traceback (most recent call last)",
      "\u001b[1;32m<ipython-input-175-2f4651a3398b>\u001b[0m in \u001b[0;36m<module>\u001b[1;34m\u001b[0m\n\u001b[0;32m      1\u001b[0m \u001b[0mcomplejo\u001b[0m\u001b[1;33m=\u001b[0m \u001b[1;36m4\u001b[0m\u001b[1;33m-\u001b[0m\u001b[1;36m4j\u001b[0m\u001b[1;33m\u001b[0m\u001b[1;33m\u001b[0m\u001b[0m\n\u001b[1;32m----> 2\u001b[1;33m \u001b[0mentero\u001b[0m \u001b[1;33m=\u001b[0m \u001b[0mint\u001b[0m\u001b[1;33m(\u001b[0m\u001b[0mcomplejo\u001b[0m\u001b[1;33m)\u001b[0m \u001b[1;31m# Tipos NO COMPATIBLES\u001b[0m\u001b[1;33m\u001b[0m\u001b[1;33m\u001b[0m\u001b[0m\n\u001b[0m",
      "\u001b[1;31mTypeError\u001b[0m: can't convert complex to int"
     ]
    }
   ],
   "source": [
    "complejo= 4-4j\n",
    "entero = int(complejo) # Tipos NO COMPATIBLES"
   ]
  },
  {
   "cell_type": "code",
   "execution_count": 177,
   "metadata": {},
   "outputs": [
    {
     "name": "stdout",
     "output_type": "stream",
     "text": [
      "1\n"
     ]
    }
   ],
   "source": [
    "entero = int(True) \n",
    "print(entero)"
   ]
  },
  {
   "cell_type": "code",
   "execution_count": 178,
   "metadata": {},
   "outputs": [
    {
     "name": "stdout",
     "output_type": "stream",
     "text": [
      "True\n"
     ]
    }
   ],
   "source": [
    "print(1 == True)"
   ]
  },
  {
   "cell_type": "markdown",
   "metadata": {},
   "source": [
    "#### str()\n",
    "Transforma objetos en cadenas, siempre y cuando haya compatibilidad."
   ]
  },
  {
   "cell_type": "code",
   "execution_count": 179,
   "metadata": {},
   "outputs": [
    {
     "name": "stdout",
     "output_type": "stream",
     "text": [
      "<class 'int'>\n",
      "<class 'str'>\n"
     ]
    }
   ],
   "source": [
    "entero = 1000\n",
    "print(type(entero))\n",
    "cadena = str(entero) \n",
    "print(type(cadena))"
   ]
  },
  {
   "cell_type": "code",
   "execution_count": 185,
   "metadata": {},
   "outputs": [
    {
     "name": "stdout",
     "output_type": "stream",
     "text": [
      "(5+1j)\n",
      "<class 'complex'>\n",
      "(5+1j)\n",
      "<class 'str'>\n"
     ]
    }
   ],
   "source": [
    "complejo = 5+1j\n",
    "print(complejo)\n",
    "print(type(complejo))\n",
    "cadena = str(complejo)\n",
    "print(cadena)\n",
    "print(type(cadena))"
   ]
  },
  {
   "cell_type": "markdown",
   "metadata": {},
   "source": [
    "#### float()\n",
    "Transforma objetos en flotantes, siempre y cuando haya compatibilidad."
   ]
  },
  {
   "cell_type": "code",
   "execution_count": 187,
   "metadata": {},
   "outputs": [
    {
     "name": "stdout",
     "output_type": "stream",
     "text": [
      "3.141592\n",
      "<class 'str'>\n",
      "3.141592\n",
      "<class 'float'>\n"
     ]
    }
   ],
   "source": [
    "cadena = '3.141592'\n",
    "print(cadena)\n",
    "print(type(cadena))\n",
    "real = float(cadena)\n",
    "print(real)\n",
    "print(type(real))"
   ]
  },
  {
   "cell_type": "code",
   "execution_count": 188,
   "metadata": {},
   "outputs": [
    {
     "data": {
      "text/plain": [
       "33.0"
      ]
     },
     "execution_count": 188,
     "metadata": {},
     "output_type": "execute_result"
    }
   ],
   "source": [
    "float(33)"
   ]
  },
  {
   "cell_type": "code",
   "execution_count": 189,
   "metadata": {},
   "outputs": [
    {
     "data": {
      "text/plain": [
       "0.0"
      ]
     },
     "execution_count": 189,
     "metadata": {},
     "output_type": "execute_result"
    }
   ],
   "source": [
    "float(False)"
   ]
  },
  {
   "cell_type": "code",
   "execution_count": 190,
   "metadata": {},
   "outputs": [
    {
     "ename": "TypeError",
     "evalue": "can't convert complex to float",
     "output_type": "error",
     "traceback": [
      "\u001b[1;31m---------------------------------------------------------------------------\u001b[0m",
      "\u001b[1;31mTypeError\u001b[0m                                 Traceback (most recent call last)",
      "\u001b[1;32m<ipython-input-190-55bff90a30a0>\u001b[0m in \u001b[0;36m<module>\u001b[1;34m\u001b[0m\n\u001b[1;32m----> 1\u001b[1;33m \u001b[0mfloat\u001b[0m\u001b[1;33m(\u001b[0m\u001b[1;36m3\u001b[0m\u001b[1;33m+\u001b[0m\u001b[1;36m3j\u001b[0m\u001b[1;33m)\u001b[0m\u001b[1;33m\u001b[0m\u001b[1;33m\u001b[0m\u001b[0m\n\u001b[0m",
      "\u001b[1;31mTypeError\u001b[0m: can't convert complex to float"
     ]
    }
   ],
   "source": [
    "float(3+3j)"
   ]
  },
  {
   "cell_type": "markdown",
   "metadata": {},
   "source": [
    "### 2.2.2 <font color=green> Eval </font>\n",
    "\n",
    "Es una función que permite evaluar una cadena str, como si se tratase de una expresión, siempre y cuando la expresión sea valida en Python."
   ]
  },
  {
   "cell_type": "code",
   "execution_count": 193,
   "metadata": {},
   "outputs": [
    {
     "name": "stdout",
     "output_type": "stream",
     "text": [
      "1100\n",
      "<class 'int'>\n"
     ]
    }
   ],
   "source": [
    "suma = '300+800'\n",
    "resultado = eval(suma)\n",
    "print(resultado)\n",
    "print(type(resultado))"
   ]
  },
  {
   "cell_type": "code",
   "execution_count": 197,
   "metadata": {},
   "outputs": [
    {
     "name": "stdout",
     "output_type": "stream",
     "text": [
      "0.09999999999999432\n",
      "<class 'float'>\n"
     ]
    }
   ],
   "source": [
    "a = 220.1\n",
    "resta = 'a - 220'\n",
    "resultado = eval(resta)\n",
    "print(resultado)\n",
    "print(type(resultado))"
   ]
  },
  {
   "cell_type": "code",
   "execution_count": 200,
   "metadata": {},
   "outputs": [
    {
     "name": "stdout",
     "output_type": "stream",
     "text": [
      "True\n",
      "<class 'bool'>\n"
     ]
    }
   ],
   "source": [
    "logica = '32 == 32'\n",
    "resultado = eval(logica)\n",
    "print(resultado)\n",
    "print(type(resultado))"
   ]
  },
  {
   "cell_type": "code",
   "execution_count": 207,
   "metadata": {},
   "outputs": [
    {
     "name": "stdout",
     "output_type": "stream",
     "text": [
      "math.sin(0.25*math.pi)\n",
      "<class 'str'>\n",
      "0.7071067811865476\n"
     ]
    }
   ],
   "source": [
    "import math\n",
    "formula = 'math.sin(0.25*math.pi)'\n",
    "print(formula)\n",
    "print(type(formula))\n",
    "resultado = eval(formula)\n",
    "print(resultado)"
   ]
  },
  {
   "cell_type": "markdown",
   "metadata": {},
   "source": [
    "# EJERCICIO"
   ]
  },
  {
   "cell_type": "code",
   "execution_count": 82,
   "metadata": {},
   "outputs": [
    {
     "name": "stdout",
     "output_type": "stream",
     "text": [
      "\u001b[0;30;40m 0;30;40 \u001b[0m\u001b[0;30;41m 0;30;41 \u001b[0m\u001b[0;30;42m 0;30;42 \u001b[0m\u001b[0;30;43m 0;30;43 \u001b[0m\u001b[0;30;44m 0;30;44 \u001b[0m\u001b[0;30;45m 0;30;45 \u001b[0m\u001b[0;30;46m 0;30;46 \u001b[0m\u001b[0;30;47m 0;30;47 \u001b[0m\n",
      "\u001b[0;31;40m 0;31;40 \u001b[0m\u001b[0;31;41m 0;31;41 \u001b[0m\u001b[0;31;42m 0;31;42 \u001b[0m\u001b[0;31;43m 0;31;43 \u001b[0m\u001b[0;31;44m 0;31;44 \u001b[0m\u001b[0;31;45m 0;31;45 \u001b[0m\u001b[0;31;46m 0;31;46 \u001b[0m\u001b[0;31;47m 0;31;47 \u001b[0m\n",
      "\u001b[0;32;40m 0;32;40 \u001b[0m\u001b[0;32;41m 0;32;41 \u001b[0m\u001b[0;32;42m 0;32;42 \u001b[0m\u001b[0;32;43m 0;32;43 \u001b[0m\u001b[0;32;44m 0;32;44 \u001b[0m\u001b[0;32;45m 0;32;45 \u001b[0m\u001b[0;32;46m 0;32;46 \u001b[0m\u001b[0;32;47m 0;32;47 \u001b[0m\n",
      "\u001b[0;33;40m 0;33;40 \u001b[0m\u001b[0;33;41m 0;33;41 \u001b[0m\u001b[0;33;42m 0;33;42 \u001b[0m\u001b[0;33;43m 0;33;43 \u001b[0m\u001b[0;33;44m 0;33;44 \u001b[0m\u001b[0;33;45m 0;33;45 \u001b[0m\u001b[0;33;46m 0;33;46 \u001b[0m\u001b[0;33;47m 0;33;47 \u001b[0m\n",
      "\u001b[0;34;40m 0;34;40 \u001b[0m\u001b[0;34;41m 0;34;41 \u001b[0m\u001b[0;34;42m 0;34;42 \u001b[0m\u001b[0;34;43m 0;34;43 \u001b[0m\u001b[0;34;44m 0;34;44 \u001b[0m\u001b[0;34;45m 0;34;45 \u001b[0m\u001b[0;34;46m 0;34;46 \u001b[0m\u001b[0;34;47m 0;34;47 \u001b[0m\n",
      "\u001b[0;35;40m 0;35;40 \u001b[0m\u001b[0;35;41m 0;35;41 \u001b[0m\u001b[0;35;42m 0;35;42 \u001b[0m\u001b[0;35;43m 0;35;43 \u001b[0m\u001b[0;35;44m 0;35;44 \u001b[0m\u001b[0;35;45m 0;35;45 \u001b[0m\u001b[0;35;46m 0;35;46 \u001b[0m\u001b[0;35;47m 0;35;47 \u001b[0m\n",
      "\u001b[0;36;40m 0;36;40 \u001b[0m\u001b[0;36;41m 0;36;41 \u001b[0m\u001b[0;36;42m 0;36;42 \u001b[0m\u001b[0;36;43m 0;36;43 \u001b[0m\u001b[0;36;44m 0;36;44 \u001b[0m\u001b[0;36;45m 0;36;45 \u001b[0m\u001b[0;36;46m 0;36;46 \u001b[0m\u001b[0;36;47m 0;36;47 \u001b[0m\n",
      "\u001b[0;37;40m 0;37;40 \u001b[0m\u001b[0;37;41m 0;37;41 \u001b[0m\u001b[0;37;42m 0;37;42 \u001b[0m\u001b[0;37;43m 0;37;43 \u001b[0m\u001b[0;37;44m 0;37;44 \u001b[0m\u001b[0;37;45m 0;37;45 \u001b[0m\u001b[0;37;46m 0;37;46 \u001b[0m\u001b[0;37;47m 0;37;47 \u001b[0m\n",
      "\n",
      "\n",
      "\u001b[1;30;40m 1;30;40 \u001b[0m\u001b[1;30;41m 1;30;41 \u001b[0m\u001b[1;30;42m 1;30;42 \u001b[0m\u001b[1;30;43m 1;30;43 \u001b[0m\u001b[1;30;44m 1;30;44 \u001b[0m\u001b[1;30;45m 1;30;45 \u001b[0m\u001b[1;30;46m 1;30;46 \u001b[0m\u001b[1;30;47m 1;30;47 \u001b[0m\n",
      "\u001b[1;31;40m 1;31;40 \u001b[0m\u001b[1;31;41m 1;31;41 \u001b[0m\u001b[1;31;42m 1;31;42 \u001b[0m\u001b[1;31;43m 1;31;43 \u001b[0m\u001b[1;31;44m 1;31;44 \u001b[0m\u001b[1;31;45m 1;31;45 \u001b[0m\u001b[1;31;46m 1;31;46 \u001b[0m\u001b[1;31;47m 1;31;47 \u001b[0m\n",
      "\u001b[1;32;40m 1;32;40 \u001b[0m\u001b[1;32;41m 1;32;41 \u001b[0m\u001b[1;32;42m 1;32;42 \u001b[0m\u001b[1;32;43m 1;32;43 \u001b[0m\u001b[1;32;44m 1;32;44 \u001b[0m\u001b[1;32;45m 1;32;45 \u001b[0m\u001b[1;32;46m 1;32;46 \u001b[0m\u001b[1;32;47m 1;32;47 \u001b[0m\n",
      "\u001b[1;33;40m 1;33;40 \u001b[0m\u001b[1;33;41m 1;33;41 \u001b[0m\u001b[1;33;42m 1;33;42 \u001b[0m\u001b[1;33;43m 1;33;43 \u001b[0m\u001b[1;33;44m 1;33;44 \u001b[0m\u001b[1;33;45m 1;33;45 \u001b[0m\u001b[1;33;46m 1;33;46 \u001b[0m\u001b[1;33;47m 1;33;47 \u001b[0m\n",
      "\u001b[1;34;40m 1;34;40 \u001b[0m\u001b[1;34;41m 1;34;41 \u001b[0m\u001b[1;34;42m 1;34;42 \u001b[0m\u001b[1;34;43m 1;34;43 \u001b[0m\u001b[1;34;44m 1;34;44 \u001b[0m\u001b[1;34;45m 1;34;45 \u001b[0m\u001b[1;34;46m 1;34;46 \u001b[0m\u001b[1;34;47m 1;34;47 \u001b[0m\n",
      "\u001b[1;35;40m 1;35;40 \u001b[0m\u001b[1;35;41m 1;35;41 \u001b[0m\u001b[1;35;42m 1;35;42 \u001b[0m\u001b[1;35;43m 1;35;43 \u001b[0m\u001b[1;35;44m 1;35;44 \u001b[0m\u001b[1;35;45m 1;35;45 \u001b[0m\u001b[1;35;46m 1;35;46 \u001b[0m\u001b[1;35;47m 1;35;47 \u001b[0m\n",
      "\u001b[1;36;40m 1;36;40 \u001b[0m\u001b[1;36;41m 1;36;41 \u001b[0m\u001b[1;36;42m 1;36;42 \u001b[0m\u001b[1;36;43m 1;36;43 \u001b[0m\u001b[1;36;44m 1;36;44 \u001b[0m\u001b[1;36;45m 1;36;45 \u001b[0m\u001b[1;36;46m 1;36;46 \u001b[0m\u001b[1;36;47m 1;36;47 \u001b[0m\n",
      "\u001b[1;37;40m 1;37;40 \u001b[0m\u001b[1;37;41m 1;37;41 \u001b[0m\u001b[1;37;42m 1;37;42 \u001b[0m\u001b[1;37;43m 1;37;43 \u001b[0m\u001b[1;37;44m 1;37;44 \u001b[0m\u001b[1;37;45m 1;37;45 \u001b[0m\u001b[1;37;46m 1;37;46 \u001b[0m\u001b[1;37;47m 1;37;47 \u001b[0m\n",
      "\n",
      "\n",
      "\u001b[2;30;40m 2;30;40 \u001b[0m\u001b[2;30;41m 2;30;41 \u001b[0m\u001b[2;30;42m 2;30;42 \u001b[0m\u001b[2;30;43m 2;30;43 \u001b[0m\u001b[2;30;44m 2;30;44 \u001b[0m\u001b[2;30;45m 2;30;45 \u001b[0m\u001b[2;30;46m 2;30;46 \u001b[0m\u001b[2;30;47m 2;30;47 \u001b[0m\n",
      "\u001b[2;31;40m 2;31;40 \u001b[0m\u001b[2;31;41m 2;31;41 \u001b[0m\u001b[2;31;42m 2;31;42 \u001b[0m\u001b[2;31;43m 2;31;43 \u001b[0m\u001b[2;31;44m 2;31;44 \u001b[0m\u001b[2;31;45m 2;31;45 \u001b[0m\u001b[2;31;46m 2;31;46 \u001b[0m\u001b[2;31;47m 2;31;47 \u001b[0m\n",
      "\u001b[2;32;40m 2;32;40 \u001b[0m\u001b[2;32;41m 2;32;41 \u001b[0m\u001b[2;32;42m 2;32;42 \u001b[0m\u001b[2;32;43m 2;32;43 \u001b[0m\u001b[2;32;44m 2;32;44 \u001b[0m\u001b[2;32;45m 2;32;45 \u001b[0m\u001b[2;32;46m 2;32;46 \u001b[0m\u001b[2;32;47m 2;32;47 \u001b[0m\n",
      "\u001b[2;33;40m 2;33;40 \u001b[0m\u001b[2;33;41m 2;33;41 \u001b[0m\u001b[2;33;42m 2;33;42 \u001b[0m\u001b[2;33;43m 2;33;43 \u001b[0m\u001b[2;33;44m 2;33;44 \u001b[0m\u001b[2;33;45m 2;33;45 \u001b[0m\u001b[2;33;46m 2;33;46 \u001b[0m\u001b[2;33;47m 2;33;47 \u001b[0m\n",
      "\u001b[2;34;40m 2;34;40 \u001b[0m\u001b[2;34;41m 2;34;41 \u001b[0m\u001b[2;34;42m 2;34;42 \u001b[0m\u001b[2;34;43m 2;34;43 \u001b[0m\u001b[2;34;44m 2;34;44 \u001b[0m\u001b[2;34;45m 2;34;45 \u001b[0m\u001b[2;34;46m 2;34;46 \u001b[0m\u001b[2;34;47m 2;34;47 \u001b[0m\n",
      "\u001b[2;35;40m 2;35;40 \u001b[0m\u001b[2;35;41m 2;35;41 \u001b[0m\u001b[2;35;42m 2;35;42 \u001b[0m\u001b[2;35;43m 2;35;43 \u001b[0m\u001b[2;35;44m 2;35;44 \u001b[0m\u001b[2;35;45m 2;35;45 \u001b[0m\u001b[2;35;46m 2;35;46 \u001b[0m\u001b[2;35;47m 2;35;47 \u001b[0m\n",
      "\u001b[2;36;40m 2;36;40 \u001b[0m\u001b[2;36;41m 2;36;41 \u001b[0m\u001b[2;36;42m 2;36;42 \u001b[0m\u001b[2;36;43m 2;36;43 \u001b[0m\u001b[2;36;44m 2;36;44 \u001b[0m\u001b[2;36;45m 2;36;45 \u001b[0m\u001b[2;36;46m 2;36;46 \u001b[0m\u001b[2;36;47m 2;36;47 \u001b[0m\n",
      "\u001b[2;37;40m 2;37;40 \u001b[0m\u001b[2;37;41m 2;37;41 \u001b[0m\u001b[2;37;42m 2;37;42 \u001b[0m\u001b[2;37;43m 2;37;43 \u001b[0m\u001b[2;37;44m 2;37;44 \u001b[0m\u001b[2;37;45m 2;37;45 \u001b[0m\u001b[2;37;46m 2;37;46 \u001b[0m\u001b[2;37;47m 2;37;47 \u001b[0m\n",
      "\n",
      "\n",
      "\u001b[3;30;40m 3;30;40 \u001b[0m\u001b[3;30;41m 3;30;41 \u001b[0m\u001b[3;30;42m 3;30;42 \u001b[0m\u001b[3;30;43m 3;30;43 \u001b[0m\u001b[3;30;44m 3;30;44 \u001b[0m\u001b[3;30;45m 3;30;45 \u001b[0m\u001b[3;30;46m 3;30;46 \u001b[0m\u001b[3;30;47m 3;30;47 \u001b[0m\n",
      "\u001b[3;31;40m 3;31;40 \u001b[0m\u001b[3;31;41m 3;31;41 \u001b[0m\u001b[3;31;42m 3;31;42 \u001b[0m\u001b[3;31;43m 3;31;43 \u001b[0m\u001b[3;31;44m 3;31;44 \u001b[0m\u001b[3;31;45m 3;31;45 \u001b[0m\u001b[3;31;46m 3;31;46 \u001b[0m\u001b[3;31;47m 3;31;47 \u001b[0m\n",
      "\u001b[3;32;40m 3;32;40 \u001b[0m\u001b[3;32;41m 3;32;41 \u001b[0m\u001b[3;32;42m 3;32;42 \u001b[0m\u001b[3;32;43m 3;32;43 \u001b[0m\u001b[3;32;44m 3;32;44 \u001b[0m\u001b[3;32;45m 3;32;45 \u001b[0m\u001b[3;32;46m 3;32;46 \u001b[0m\u001b[3;32;47m 3;32;47 \u001b[0m\n",
      "\u001b[3;33;40m 3;33;40 \u001b[0m\u001b[3;33;41m 3;33;41 \u001b[0m\u001b[3;33;42m 3;33;42 \u001b[0m\u001b[3;33;43m 3;33;43 \u001b[0m\u001b[3;33;44m 3;33;44 \u001b[0m\u001b[3;33;45m 3;33;45 \u001b[0m\u001b[3;33;46m 3;33;46 \u001b[0m\u001b[3;33;47m 3;33;47 \u001b[0m\n",
      "\u001b[3;34;40m 3;34;40 \u001b[0m\u001b[3;34;41m 3;34;41 \u001b[0m\u001b[3;34;42m 3;34;42 \u001b[0m\u001b[3;34;43m 3;34;43 \u001b[0m\u001b[3;34;44m 3;34;44 \u001b[0m\u001b[3;34;45m 3;34;45 \u001b[0m\u001b[3;34;46m 3;34;46 \u001b[0m\u001b[3;34;47m 3;34;47 \u001b[0m\n",
      "\u001b[3;35;40m 3;35;40 \u001b[0m\u001b[3;35;41m 3;35;41 \u001b[0m\u001b[3;35;42m 3;35;42 \u001b[0m\u001b[3;35;43m 3;35;43 \u001b[0m\u001b[3;35;44m 3;35;44 \u001b[0m\u001b[3;35;45m 3;35;45 \u001b[0m\u001b[3;35;46m 3;35;46 \u001b[0m\u001b[3;35;47m 3;35;47 \u001b[0m\n",
      "\u001b[3;36;40m 3;36;40 \u001b[0m\u001b[3;36;41m 3;36;41 \u001b[0m\u001b[3;36;42m 3;36;42 \u001b[0m\u001b[3;36;43m 3;36;43 \u001b[0m\u001b[3;36;44m 3;36;44 \u001b[0m\u001b[3;36;45m 3;36;45 \u001b[0m\u001b[3;36;46m 3;36;46 \u001b[0m\u001b[3;36;47m 3;36;47 \u001b[0m\n",
      "\u001b[3;37;40m 3;37;40 \u001b[0m\u001b[3;37;41m 3;37;41 \u001b[0m\u001b[3;37;42m 3;37;42 \u001b[0m\u001b[3;37;43m 3;37;43 \u001b[0m\u001b[3;37;44m 3;37;44 \u001b[0m\u001b[3;37;45m 3;37;45 \u001b[0m\u001b[3;37;46m 3;37;46 \u001b[0m\u001b[3;37;47m 3;37;47 \u001b[0m\n",
      "\n",
      "\n",
      "\u001b[4;30;40m 4;30;40 \u001b[0m\u001b[4;30;41m 4;30;41 \u001b[0m\u001b[4;30;42m 4;30;42 \u001b[0m\u001b[4;30;43m 4;30;43 \u001b[0m\u001b[4;30;44m 4;30;44 \u001b[0m\u001b[4;30;45m 4;30;45 \u001b[0m\u001b[4;30;46m 4;30;46 \u001b[0m\u001b[4;30;47m 4;30;47 \u001b[0m\n",
      "\u001b[4;31;40m 4;31;40 \u001b[0m\u001b[4;31;41m 4;31;41 \u001b[0m\u001b[4;31;42m 4;31;42 \u001b[0m\u001b[4;31;43m 4;31;43 \u001b[0m\u001b[4;31;44m 4;31;44 \u001b[0m\u001b[4;31;45m 4;31;45 \u001b[0m\u001b[4;31;46m 4;31;46 \u001b[0m\u001b[4;31;47m 4;31;47 \u001b[0m\n",
      "\u001b[4;32;40m 4;32;40 \u001b[0m\u001b[4;32;41m 4;32;41 \u001b[0m\u001b[4;32;42m 4;32;42 \u001b[0m\u001b[4;32;43m 4;32;43 \u001b[0m\u001b[4;32;44m 4;32;44 \u001b[0m\u001b[4;32;45m 4;32;45 \u001b[0m\u001b[4;32;46m 4;32;46 \u001b[0m\u001b[4;32;47m 4;32;47 \u001b[0m\n",
      "\u001b[4;33;40m 4;33;40 \u001b[0m\u001b[4;33;41m 4;33;41 \u001b[0m\u001b[4;33;42m 4;33;42 \u001b[0m\u001b[4;33;43m 4;33;43 \u001b[0m\u001b[4;33;44m 4;33;44 \u001b[0m\u001b[4;33;45m 4;33;45 \u001b[0m\u001b[4;33;46m 4;33;46 \u001b[0m\u001b[4;33;47m 4;33;47 \u001b[0m\n",
      "\u001b[4;34;40m 4;34;40 \u001b[0m\u001b[4;34;41m 4;34;41 \u001b[0m\u001b[4;34;42m 4;34;42 \u001b[0m\u001b[4;34;43m 4;34;43 \u001b[0m\u001b[4;34;44m 4;34;44 \u001b[0m\u001b[4;34;45m 4;34;45 \u001b[0m\u001b[4;34;46m 4;34;46 \u001b[0m\u001b[4;34;47m 4;34;47 \u001b[0m\n",
      "\u001b[4;35;40m 4;35;40 \u001b[0m\u001b[4;35;41m 4;35;41 \u001b[0m\u001b[4;35;42m 4;35;42 \u001b[0m\u001b[4;35;43m 4;35;43 \u001b[0m\u001b[4;35;44m 4;35;44 \u001b[0m\u001b[4;35;45m 4;35;45 \u001b[0m\u001b[4;35;46m 4;35;46 \u001b[0m\u001b[4;35;47m 4;35;47 \u001b[0m\n",
      "\u001b[4;36;40m 4;36;40 \u001b[0m\u001b[4;36;41m 4;36;41 \u001b[0m\u001b[4;36;42m 4;36;42 \u001b[0m\u001b[4;36;43m 4;36;43 \u001b[0m\u001b[4;36;44m 4;36;44 \u001b[0m\u001b[4;36;45m 4;36;45 \u001b[0m\u001b[4;36;46m 4;36;46 \u001b[0m\u001b[4;36;47m 4;36;47 \u001b[0m\n",
      "\u001b[4;37;40m 4;37;40 \u001b[0m\u001b[4;37;41m 4;37;41 \u001b[0m\u001b[4;37;42m 4;37;42 \u001b[0m\u001b[4;37;43m 4;37;43 \u001b[0m\u001b[4;37;44m 4;37;44 \u001b[0m\u001b[4;37;45m 4;37;45 \u001b[0m\u001b[4;37;46m 4;37;46 \u001b[0m\u001b[4;37;47m 4;37;47 \u001b[0m\n",
      "\n",
      "\n",
      "\u001b[5;30;40m 5;30;40 \u001b[0m\u001b[5;30;41m 5;30;41 \u001b[0m\u001b[5;30;42m 5;30;42 \u001b[0m\u001b[5;30;43m 5;30;43 \u001b[0m\u001b[5;30;44m 5;30;44 \u001b[0m\u001b[5;30;45m 5;30;45 \u001b[0m\u001b[5;30;46m 5;30;46 \u001b[0m\u001b[5;30;47m 5;30;47 \u001b[0m\n",
      "\u001b[5;31;40m 5;31;40 \u001b[0m\u001b[5;31;41m 5;31;41 \u001b[0m\u001b[5;31;42m 5;31;42 \u001b[0m\u001b[5;31;43m 5;31;43 \u001b[0m\u001b[5;31;44m 5;31;44 \u001b[0m\u001b[5;31;45m 5;31;45 \u001b[0m\u001b[5;31;46m 5;31;46 \u001b[0m\u001b[5;31;47m 5;31;47 \u001b[0m\n",
      "\u001b[5;32;40m 5;32;40 \u001b[0m\u001b[5;32;41m 5;32;41 \u001b[0m\u001b[5;32;42m 5;32;42 \u001b[0m\u001b[5;32;43m 5;32;43 \u001b[0m\u001b[5;32;44m 5;32;44 \u001b[0m\u001b[5;32;45m 5;32;45 \u001b[0m\u001b[5;32;46m 5;32;46 \u001b[0m\u001b[5;32;47m 5;32;47 \u001b[0m\n",
      "\u001b[5;33;40m 5;33;40 \u001b[0m\u001b[5;33;41m 5;33;41 \u001b[0m\u001b[5;33;42m 5;33;42 \u001b[0m\u001b[5;33;43m 5;33;43 \u001b[0m\u001b[5;33;44m 5;33;44 \u001b[0m\u001b[5;33;45m 5;33;45 \u001b[0m\u001b[5;33;46m 5;33;46 \u001b[0m\u001b[5;33;47m 5;33;47 \u001b[0m\n",
      "\u001b[5;34;40m 5;34;40 \u001b[0m\u001b[5;34;41m 5;34;41 \u001b[0m\u001b[5;34;42m 5;34;42 \u001b[0m\u001b[5;34;43m 5;34;43 \u001b[0m\u001b[5;34;44m 5;34;44 \u001b[0m\u001b[5;34;45m 5;34;45 \u001b[0m\u001b[5;34;46m 5;34;46 \u001b[0m\u001b[5;34;47m 5;34;47 \u001b[0m\n",
      "\u001b[5;35;40m 5;35;40 \u001b[0m\u001b[5;35;41m 5;35;41 \u001b[0m\u001b[5;35;42m 5;35;42 \u001b[0m\u001b[5;35;43m 5;35;43 \u001b[0m\u001b[5;35;44m 5;35;44 \u001b[0m\u001b[5;35;45m 5;35;45 \u001b[0m\u001b[5;35;46m 5;35;46 \u001b[0m\u001b[5;35;47m 5;35;47 \u001b[0m\n",
      "\u001b[5;36;40m 5;36;40 \u001b[0m\u001b[5;36;41m 5;36;41 \u001b[0m\u001b[5;36;42m 5;36;42 \u001b[0m\u001b[5;36;43m 5;36;43 \u001b[0m\u001b[5;36;44m 5;36;44 \u001b[0m\u001b[5;36;45m 5;36;45 \u001b[0m\u001b[5;36;46m 5;36;46 \u001b[0m\u001b[5;36;47m 5;36;47 \u001b[0m\n",
      "\u001b[5;37;40m 5;37;40 \u001b[0m\u001b[5;37;41m 5;37;41 \u001b[0m\u001b[5;37;42m 5;37;42 \u001b[0m\u001b[5;37;43m 5;37;43 \u001b[0m\u001b[5;37;44m 5;37;44 \u001b[0m\u001b[5;37;45m 5;37;45 \u001b[0m\u001b[5;37;46m 5;37;46 \u001b[0m\u001b[5;37;47m 5;37;47 \u001b[0m\n",
      "\n",
      "\n",
      "\u001b[6;30;40m 6;30;40 \u001b[0m\u001b[6;30;41m 6;30;41 \u001b[0m\u001b[6;30;42m 6;30;42 \u001b[0m\u001b[6;30;43m 6;30;43 \u001b[0m\u001b[6;30;44m 6;30;44 \u001b[0m\u001b[6;30;45m 6;30;45 \u001b[0m\u001b[6;30;46m 6;30;46 \u001b[0m\u001b[6;30;47m 6;30;47 \u001b[0m\n",
      "\u001b[6;31;40m 6;31;40 \u001b[0m\u001b[6;31;41m 6;31;41 \u001b[0m\u001b[6;31;42m 6;31;42 \u001b[0m\u001b[6;31;43m 6;31;43 \u001b[0m\u001b[6;31;44m 6;31;44 \u001b[0m\u001b[6;31;45m 6;31;45 \u001b[0m\u001b[6;31;46m 6;31;46 \u001b[0m\u001b[6;31;47m 6;31;47 \u001b[0m\n",
      "\u001b[6;32;40m 6;32;40 \u001b[0m\u001b[6;32;41m 6;32;41 \u001b[0m\u001b[6;32;42m 6;32;42 \u001b[0m\u001b[6;32;43m 6;32;43 \u001b[0m\u001b[6;32;44m 6;32;44 \u001b[0m\u001b[6;32;45m 6;32;45 \u001b[0m\u001b[6;32;46m 6;32;46 \u001b[0m\u001b[6;32;47m 6;32;47 \u001b[0m\n",
      "\u001b[6;33;40m 6;33;40 \u001b[0m\u001b[6;33;41m 6;33;41 \u001b[0m\u001b[6;33;42m 6;33;42 \u001b[0m\u001b[6;33;43m 6;33;43 \u001b[0m\u001b[6;33;44m 6;33;44 \u001b[0m\u001b[6;33;45m 6;33;45 \u001b[0m\u001b[6;33;46m 6;33;46 \u001b[0m\u001b[6;33;47m 6;33;47 \u001b[0m\n",
      "\u001b[6;34;40m 6;34;40 \u001b[0m\u001b[6;34;41m 6;34;41 \u001b[0m\u001b[6;34;42m 6;34;42 \u001b[0m\u001b[6;34;43m 6;34;43 \u001b[0m\u001b[6;34;44m 6;34;44 \u001b[0m\u001b[6;34;45m 6;34;45 \u001b[0m\u001b[6;34;46m 6;34;46 \u001b[0m\u001b[6;34;47m 6;34;47 \u001b[0m\n",
      "\u001b[6;35;40m 6;35;40 \u001b[0m\u001b[6;35;41m 6;35;41 \u001b[0m\u001b[6;35;42m 6;35;42 \u001b[0m\u001b[6;35;43m 6;35;43 \u001b[0m\u001b[6;35;44m 6;35;44 \u001b[0m\u001b[6;35;45m 6;35;45 \u001b[0m\u001b[6;35;46m 6;35;46 \u001b[0m\u001b[6;35;47m 6;35;47 \u001b[0m\n",
      "\u001b[6;36;40m 6;36;40 \u001b[0m\u001b[6;36;41m 6;36;41 \u001b[0m\u001b[6;36;42m 6;36;42 \u001b[0m\u001b[6;36;43m 6;36;43 \u001b[0m\u001b[6;36;44m 6;36;44 \u001b[0m\u001b[6;36;45m 6;36;45 \u001b[0m\u001b[6;36;46m 6;36;46 \u001b[0m\u001b[6;36;47m 6;36;47 \u001b[0m\n",
      "\u001b[6;37;40m 6;37;40 \u001b[0m\u001b[6;37;41m 6;37;41 \u001b[0m\u001b[6;37;42m 6;37;42 \u001b[0m\u001b[6;37;43m 6;37;43 \u001b[0m\u001b[6;37;44m 6;37;44 \u001b[0m\u001b[6;37;45m 6;37;45 \u001b[0m\u001b[6;37;46m 6;37;46 \u001b[0m\u001b[6;37;47m 6;37;47 \u001b[0m\n",
      "\n",
      "\n",
      "\u001b[7;30;40m 7;30;40 \u001b[0m\u001b[7;30;41m 7;30;41 \u001b[0m\u001b[7;30;42m 7;30;42 \u001b[0m\u001b[7;30;43m 7;30;43 \u001b[0m\u001b[7;30;44m 7;30;44 \u001b[0m\u001b[7;30;45m 7;30;45 \u001b[0m\u001b[7;30;46m 7;30;46 \u001b[0m\u001b[7;30;47m 7;30;47 \u001b[0m\n",
      "\u001b[7;31;40m 7;31;40 \u001b[0m\u001b[7;31;41m 7;31;41 \u001b[0m\u001b[7;31;42m 7;31;42 \u001b[0m\u001b[7;31;43m 7;31;43 \u001b[0m\u001b[7;31;44m 7;31;44 \u001b[0m\u001b[7;31;45m 7;31;45 \u001b[0m\u001b[7;31;46m 7;31;46 \u001b[0m\u001b[7;31;47m 7;31;47 \u001b[0m\n",
      "\u001b[7;32;40m 7;32;40 \u001b[0m\u001b[7;32;41m 7;32;41 \u001b[0m\u001b[7;32;42m 7;32;42 \u001b[0m\u001b[7;32;43m 7;32;43 \u001b[0m\u001b[7;32;44m 7;32;44 \u001b[0m\u001b[7;32;45m 7;32;45 \u001b[0m\u001b[7;32;46m 7;32;46 \u001b[0m\u001b[7;32;47m 7;32;47 \u001b[0m\n",
      "\u001b[7;33;40m 7;33;40 \u001b[0m\u001b[7;33;41m 7;33;41 \u001b[0m\u001b[7;33;42m 7;33;42 \u001b[0m\u001b[7;33;43m 7;33;43 \u001b[0m\u001b[7;33;44m 7;33;44 \u001b[0m\u001b[7;33;45m 7;33;45 \u001b[0m\u001b[7;33;46m 7;33;46 \u001b[0m\u001b[7;33;47m 7;33;47 \u001b[0m\n",
      "\u001b[7;34;40m 7;34;40 \u001b[0m\u001b[7;34;41m 7;34;41 \u001b[0m\u001b[7;34;42m 7;34;42 \u001b[0m\u001b[7;34;43m 7;34;43 \u001b[0m\u001b[7;34;44m 7;34;44 \u001b[0m\u001b[7;34;45m 7;34;45 \u001b[0m\u001b[7;34;46m 7;34;46 \u001b[0m\u001b[7;34;47m 7;34;47 \u001b[0m\n",
      "\u001b[7;35;40m 7;35;40 \u001b[0m\u001b[7;35;41m 7;35;41 \u001b[0m\u001b[7;35;42m 7;35;42 \u001b[0m\u001b[7;35;43m 7;35;43 \u001b[0m\u001b[7;35;44m 7;35;44 \u001b[0m\u001b[7;35;45m 7;35;45 \u001b[0m\u001b[7;35;46m 7;35;46 \u001b[0m\u001b[7;35;47m 7;35;47 \u001b[0m\n",
      "\u001b[7;36;40m 7;36;40 \u001b[0m\u001b[7;36;41m 7;36;41 \u001b[0m\u001b[7;36;42m 7;36;42 \u001b[0m\u001b[7;36;43m 7;36;43 \u001b[0m\u001b[7;36;44m 7;36;44 \u001b[0m\u001b[7;36;45m 7;36;45 \u001b[0m\u001b[7;36;46m 7;36;46 \u001b[0m\u001b[7;36;47m 7;36;47 \u001b[0m\n",
      "\u001b[7;37;40m 7;37;40 \u001b[0m\u001b[7;37;41m 7;37;41 \u001b[0m\u001b[7;37;42m 7;37;42 \u001b[0m\u001b[7;37;43m 7;37;43 \u001b[0m\u001b[7;37;44m 7;37;44 \u001b[0m\u001b[7;37;45m 7;37;45 \u001b[0m\u001b[7;37;46m 7;37;46 \u001b[0m\u001b[7;37;47m 7;37;47 \u001b[0m\n",
      "\n",
      "\n"
     ]
    }
   ],
   "source": [
    "def construye_tabla_formatos():\n",
    "    for estilo in range(8):\n",
    "        for colortexto in range(30,38):\n",
    "            cad_cod = ''\n",
    "            for colorfondo in range(40,48): \n",
    "                fmto = ';'.join([str(estilo), \n",
    "                                 str(colortexto),\n",
    "                                 str(colorfondo)]) \n",
    "                cad_cod+=\"\\033[\"+fmto+\"m \"+fmto+\" \\033[0m\" \n",
    "            print(cad_cod)\n",
    "        print('\\n')\n",
    "\n",
    "construye_tabla_formatos()"
   ]
  },
  {
   "cell_type": "code",
   "execution_count": null,
   "metadata": {},
   "outputs": [],
   "source": []
  }
 ],
 "metadata": {
  "kernelspec": {
   "display_name": "Python 3",
   "language": "python",
   "name": "python3"
  },
  "language_info": {
   "codemirror_mode": {
    "name": "ipython",
    "version": 3
   },
   "file_extension": ".py",
   "mimetype": "text/x-python",
   "name": "python",
   "nbconvert_exporter": "python",
   "pygments_lexer": "ipython3",
   "version": "3.7.3"
  }
 },
 "nbformat": 4,
 "nbformat_minor": 2
}
